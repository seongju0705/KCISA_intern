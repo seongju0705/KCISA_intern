{
 "cells": [
  {
   "cell_type": "markdown",
   "id": "5c17f169",
   "metadata": {},
   "source": [
    "# Instagram Location\n",
    "- 위치정보 불러오기\n",
    "- 위치 데이터 시각화"
   ]
  },
  {
   "cell_type": "markdown",
   "id": "45efce9a",
   "metadata": {},
   "source": [
    "### 수집한 데이터 불러오기"
   ]
  },
  {
   "cell_type": "code",
   "execution_count": 11,
   "id": "e21f552a",
   "metadata": {},
   "outputs": [],
   "source": [
    "import pandas as pd"
   ]
  },
  {
   "cell_type": "code",
   "execution_count": 12,
   "id": "7c7ad380",
   "metadata": {},
   "outputs": [
    {
     "data": {
      "text/html": [
       "<div>\n",
       "<style scoped>\n",
       "    .dataframe tbody tr th:only-of-type {\n",
       "        vertical-align: middle;\n",
       "    }\n",
       "\n",
       "    .dataframe tbody tr th {\n",
       "        vertical-align: top;\n",
       "    }\n",
       "\n",
       "    .dataframe thead th {\n",
       "        text-align: right;\n",
       "    }\n",
       "</style>\n",
       "<table border=\"1\" class=\"dataframe\">\n",
       "  <thead>\n",
       "    <tr style=\"text-align: right;\">\n",
       "      <th></th>\n",
       "      <th>content</th>\n",
       "      <th>place_final</th>\n",
       "      <th>place</th>\n",
       "      <th>place_content</th>\n",
       "      <th>대상여부</th>\n",
       "      <th>date</th>\n",
       "      <th>like</th>\n",
       "      <th>tags</th>\n",
       "    </tr>\n",
       "  </thead>\n",
       "  <tbody>\n",
       "    <tr>\n",
       "      <th>0</th>\n",
       "      <td>Cheongdam and Apgujeong are called Fashion Str...</td>\n",
       "      <td>10 Corso Como Seoul</td>\n",
       "      <td>10 Corso Como Seoul</td>\n",
       "      <td>NaN</td>\n",
       "      <td>Y</td>\n",
       "      <td>2022-01-18</td>\n",
       "      <td>516</td>\n",
       "      <td>[]</td>\n",
       "    </tr>\n",
       "    <tr>\n",
       "      <th>1</th>\n",
       "      <td>One of my favourite cafes I ve visited in Seou...</td>\n",
       "      <td>1인1잔</td>\n",
       "      <td>1인1잔</td>\n",
       "      <td>NaN</td>\n",
       "      <td>Y</td>\n",
       "      <td>2022-08-21</td>\n",
       "      <td>0</td>\n",
       "      <td>['#여행', '#한국여행', '#lifeinseoul', '#서울카페', '#se...</td>\n",
       "    </tr>\n",
       "    <tr>\n",
       "      <th>2</th>\n",
       "      <td>Coffee with a view #seoulkorea #koreacoffee #k...</td>\n",
       "      <td>1인1잔</td>\n",
       "      <td>1인1잔</td>\n",
       "      <td>NaN</td>\n",
       "      <td>Y</td>\n",
       "      <td>2022-01-06</td>\n",
       "      <td>237</td>\n",
       "      <td>['#seoulkorea', '#koreacoffee', '#koreagram', ...</td>\n",
       "    </tr>\n",
       "    <tr>\n",
       "      <th>3</th>\n",
       "      <td>by  vogueuplikethis Oh Korea  you beautiful th...</td>\n",
       "      <td>1인1잔</td>\n",
       "      <td>1인1잔</td>\n",
       "      <td>NaN</td>\n",
       "      <td>Y</td>\n",
       "      <td>2021-02-01</td>\n",
       "      <td>219</td>\n",
       "      <td>['#seoulbyme', '#eunpyeong.??', '#korea_attrac...</td>\n",
       "    </tr>\n",
       "    <tr>\n",
       "      <th>4</th>\n",
       "      <td>Me  in all my  wisdom   this kinda looks like ...</td>\n",
       "      <td>2gil29 Gallery - 이길이구 갤러리</td>\n",
       "      <td>2gil29 Gallery - 이길이구 갤러리</td>\n",
       "      <td>NaN</td>\n",
       "      <td>Y</td>\n",
       "      <td>2021-11-14</td>\n",
       "      <td>33</td>\n",
       "      <td>['#art', '#artgallery', '#artexhibition', '#ig...</td>\n",
       "    </tr>\n",
       "    <tr>\n",
       "      <th>...</th>\n",
       "      <td>...</td>\n",
       "      <td>...</td>\n",
       "      <td>...</td>\n",
       "      <td>...</td>\n",
       "      <td>...</td>\n",
       "      <td>...</td>\n",
       "      <td>...</td>\n",
       "      <td>...</td>\n",
       "    </tr>\n",
       "    <tr>\n",
       "      <th>4784</th>\n",
       "      <td>30               30                           ...</td>\n",
       "      <td>NaN</td>\n",
       "      <td>NaN</td>\n",
       "      <td>NaN</td>\n",
       "      <td>N</td>\n",
       "      <td>2021-01-02</td>\n",
       "      <td>43</td>\n",
       "      <td>['#kdrama', '#Netflix', '#amazonフ?ライム', '#unex...</td>\n",
       "    </tr>\n",
       "    <tr>\n",
       "      <th>4785</th>\n",
       "      <td>What were some of your resolutions this year  ...</td>\n",
       "      <td>NaN</td>\n",
       "      <td>보스턴</td>\n",
       "      <td>NaN</td>\n",
       "      <td>N</td>\n",
       "      <td>2021-01-01</td>\n",
       "      <td>41</td>\n",
       "      <td>['#wishformula', '#kbeauty', '#homespa', '#ise...</td>\n",
       "    </tr>\n",
       "    <tr>\n",
       "      <th>4786</th>\n",
       "      <td>Happy A or New 2021 We say adi s to this 2020 ...</td>\n",
       "      <td>NaN</td>\n",
       "      <td>NaN</td>\n",
       "      <td>NaN</td>\n",
       "      <td>N</td>\n",
       "      <td>2021-01-01</td>\n",
       "      <td>34</td>\n",
       "      <td>['#Jap?n', '#CoreadelSur', '#A?oNuevo', '#viaj...</td>\n",
       "    </tr>\n",
       "    <tr>\n",
       "      <th>4787</th>\n",
       "      <td>Happy New Year to all my friends around the wo...</td>\n",
       "      <td>NaN</td>\n",
       "      <td>NaN</td>\n",
       "      <td>NaN</td>\n",
       "      <td>N</td>\n",
       "      <td>2021-01-01</td>\n",
       "      <td>244</td>\n",
       "      <td>[]</td>\n",
       "    </tr>\n",
       "    <tr>\n",
       "      <th>4788</th>\n",
       "      <td>What are your resolutions for 2021       Email...</td>\n",
       "      <td>NaN</td>\n",
       "      <td>NaN</td>\n",
       "      <td>NaN</td>\n",
       "      <td>N</td>\n",
       "      <td>2021-01-01</td>\n",
       "      <td>47</td>\n",
       "      <td>['#christmas', '#merrychristmas', '#holiday', ...</td>\n",
       "    </tr>\n",
       "  </tbody>\n",
       "</table>\n",
       "<p>4789 rows × 8 columns</p>\n",
       "</div>"
      ],
      "text/plain": [
       "                                                content  \\\n",
       "0     Cheongdam and Apgujeong are called Fashion Str...   \n",
       "1     One of my favourite cafes I ve visited in Seou...   \n",
       "2     Coffee with a view #seoulkorea #koreacoffee #k...   \n",
       "3     by  vogueuplikethis Oh Korea  you beautiful th...   \n",
       "4     Me  in all my  wisdom   this kinda looks like ...   \n",
       "...                                                 ...   \n",
       "4784  30               30                           ...   \n",
       "4785  What were some of your resolutions this year  ...   \n",
       "4786  Happy A or New 2021 We say adi s to this 2020 ...   \n",
       "4787  Happy New Year to all my friends around the wo...   \n",
       "4788  What are your resolutions for 2021       Email...   \n",
       "\n",
       "                    place_final                      place place_content 대상여부  \\\n",
       "0           10 Corso Como Seoul        10 Corso Como Seoul           NaN    Y   \n",
       "1                          1인1잔                       1인1잔           NaN    Y   \n",
       "2                          1인1잔                       1인1잔           NaN    Y   \n",
       "3                          1인1잔                       1인1잔           NaN    Y   \n",
       "4     2gil29 Gallery - 이길이구 갤러리  2gil29 Gallery - 이길이구 갤러리           NaN    Y   \n",
       "...                         ...                        ...           ...  ...   \n",
       "4784                        NaN                        NaN           NaN    N   \n",
       "4785                        NaN                        보스턴           NaN    N   \n",
       "4786                        NaN                        NaN           NaN    N   \n",
       "4787                        NaN                        NaN           NaN    N   \n",
       "4788                        NaN                        NaN           NaN    N   \n",
       "\n",
       "            date like                                               tags  \n",
       "0     2022-01-18  516                                                 []  \n",
       "1     2022-08-21    0  ['#여행', '#한국여행', '#lifeinseoul', '#서울카페', '#se...  \n",
       "2     2022-01-06  237  ['#seoulkorea', '#koreacoffee', '#koreagram', ...  \n",
       "3     2021-02-01  219  ['#seoulbyme', '#eunpyeong.??', '#korea_attrac...  \n",
       "4     2021-11-14   33  ['#art', '#artgallery', '#artexhibition', '#ig...  \n",
       "...          ...  ...                                                ...  \n",
       "4784  2021-01-02   43  ['#kdrama', '#Netflix', '#amazonフ?ライム', '#unex...  \n",
       "4785  2021-01-01   41  ['#wishformula', '#kbeauty', '#homespa', '#ise...  \n",
       "4786  2021-01-01   34  ['#Jap?n', '#CoreadelSur', '#A?oNuevo', '#viaj...  \n",
       "4787  2021-01-01  244                                                 []  \n",
       "4788  2021-01-01   47  ['#christmas', '#merrychristmas', '#holiday', ...  \n",
       "\n",
       "[4789 rows x 8 columns]"
      ]
     },
     "execution_count": 12,
     "metadata": {},
     "output_type": "execute_result"
    }
   ],
   "source": [
    "result_df = pd.read_csv('./data/koreagram_2021_2022_place_final_2.csv', encoding='utf-8-sig')\n",
    "result_df"
   ]
  },
  {
   "cell_type": "markdown",
   "id": "bca3885b",
   "metadata": {},
   "source": [
    "### 위치정보 가져오기"
   ]
  },
  {
   "cell_type": "code",
   "execution_count": 13,
   "id": "23ea72d4",
   "metadata": {},
   "outputs": [
    {
     "name": "stdout",
     "output_type": "stream",
     "text": [
      "제주도                      35\n",
      "대전역                      33\n",
      "Bukchon Hanok Village    25\n",
      "전주역                      25\n",
      "부산역                      22\n",
      "                         ..\n",
      "망원역                       1\n",
      "매미성                       1\n",
      "매암제다원                     1\n",
      "메그네이트                     1\n",
      "생초국제조각공원                  1\n",
      "Name: place_final, Length: 1320, dtype: int64\n"
     ]
    }
   ],
   "source": [
    "location_counts = result_df['place_final'].value_counts()\n",
    "print(location_counts)"
   ]
  },
  {
   "cell_type": "code",
   "execution_count": 14,
   "id": "c2fec127",
   "metadata": {},
   "outputs": [],
   "source": [
    "location_counts_df = pd.DataFrame(location_counts)\n",
    "location_counts_df.to_csv('./data/koreagram_datalocation_counts.csv', encoding='utf-8-sig')"
   ]
  },
  {
   "cell_type": "code",
   "execution_count": 15,
   "id": "ee9c9485",
   "metadata": {
    "scrolled": true
   },
   "outputs": [
    {
     "name": "stdout",
     "output_type": "stream",
     "text": [
      "['제주도', '대전역', 'Bukchon Hanok Village', '전주역', '부산역', '순천역', '경복궁', '감천문화마을', '경주역', 'Gyeongbokgung', '서울숲', '서울스카이', '강원 속초시', '동대문디자인플라자 DDP', '한강', '인천역', '명동역', '하늘공원', '올림픽공원', 'Hongdae', '여수엑스포역', 'Jeju Island', '구례산수유마을', '울릉도', '창덕궁', '광안리해수욕장', 'Jogyesa', 'Boseong Greentea Plantation 보성 녹차밭', '용마랜드', 'COEX Mall', '경복궁 - Gyeongbokgung Palace', '강릉역', '이태원', '강남역', 'Haeundae, Busan', '대부도', '대구역', '화성행궁', '용머리해안', '용인대장금테마파크?', '해동용궁사', '광양 매화마을', 'Gongbech.공백', '전주 한옥마을', '아침고요수목원', '전남 담양군', 'Museum San', '신안군 퍼플교', '남산서울타워', '아그로랜드 태신목장', '거제도', '순천만국가정원', '선유도', 'Deoksugung', '선유도해수욕장', '홍대입구역', '자만벽화마을', '롯데월드 (lotteworld)', 'Changdeokgung', '별마당도서관', '익선동', '성산일출봉', '여의도한강공원', '부안 변산반도', '코엑스 아티움', '강진 남미륵사', '전주한옥마을', 'K현대미술관', '청양 알프스마을 얼음분수축제', '제천 의림지', '은평한옥마을', '롯데월드몰', '흰여울문화마을', '안국역', '선암사', '수원화성', 'COMMONGROUND - 커먼그라운드', '화랑대역', '더현대서울', '백제문화단지', '청사포', '광양매화마을', '안동하회마을', '선운사', '우도', '경기 성남시 분당구', '보리암', '일산 호수 공원 - Ilsan Lake Park', '경상남도 산청', '보성녹차밭', 'Bulguksa Temple', '선유도공원', '안녕인사동', '산정호수', '남이섬 - Nami Island', '경남 남해군', '인사동거리', '안면도', '합정역', 'Namsangol Hanok Village', '2gil29 Gallery - 이길이구 갤러리', '서울식물원', '한밭수목원', '4est수목원', '창원시 진해구', '북한산', '석촌호수', '창경궁', '서울리즘', '한라산', '순천만습지', '공산성', '안성팜랜드 - Anseong Farmland', '곡성기차마을', '고창청보리밭', '대둔산 도립공원', '선샤인 랜드', '동대문디자인플라자', '덕유산국립공원', '독도', '덕수궁', 'Gwanghwamun', '카페산아래', '송도해수욕장', '동해', '동해 묵호항 수변공원', 'Woljeongri Beach', '이화여자대학교 Ewha Womans University', '레고랜드코리아리조트 ', 'Changgyeonggung Palace', '세빛섬', '롯데월드타워', '허브아일랜드', 'Yonsei University Wonju Campus', '경남 거창군', '강화도', '장성황룡강', '광안리해변', '광주시립미술관 Gwangju Museum of Art', '채석강', '진관사', '천지연폭포', '지리산치즈랜드', '군산역', '궁남지', '고성 상족암', '그라운드시소 성수', '종로구', '제천역', '신촌역', '경주 황리단길', '경주 월정교', '청송 얼음골', '제주특별자치도 서귀포시', '나주 산림자원연구소', '청옥산 육백마지기', '낙산사', '남대문시장', 'AK& 홍대', '황우지해안', 'Sobaeksan National Park', '정방폭포', '쌍계사', '다대포 해수욕장', 'Banpo Bridge', '전라남도 구례군 쌍산재', '유기방 가옥', '울산역', '포천 아트밸리', '하슬라아트월드 (Haslla Art World)', 'Seonamsa', '서울 명동', '연남동', '서울', \"Children's Grand Park, Seoul\", '하이클래스153', '법주사', '변산반도국립공원', '1인1잔', '에버랜드', '북한산 국립공원 Bukhansan National Park', '선운산 도립공원', '북촌한옥마을', '여의도역', '서대문형무소역사관', '파주역', '봉은사', '약천사', '불국사', 'Jeonju Hanok Village', '쁘띠프랑스', '영도구 동삼동', '영종도', '석촌호수 서호', '어니언 안국점', '뮤지엄원', 'Gyeryongsan National Park', 'Hakgojae Gallery', '미암사', '밀양역', '서울 해방촌', '오륙도 해맞이공원', '남원광한루', '양동마을', '식물관PH', '스타필드 별마당 도서관', '상무지구', '스페이스앤무드', '제주도 Jejudo', '색장정미소', '스타필드 하남', '낙산공원', '새별오름', '남산공원 Namsan Park', '제주도 서귀포', '서귀포', '문래역', '금시당', '김유신장군묘', '중랑천 장미축제', '광장시장', '서울앵무새', '서울장미축제', '서촌한옥마을', '서피비치', '착시미술관', '교토리', '구례구역', '신사역', '진주성', '서울그린트러스트 서울숲컨서번시', '여수 히든베이호텔', '여의도벚꽃축제', '국립현대미술관 서울관', '서울 - Seoul', '여의도 서울마리나', '그랜드 하얏트 서울', '종묘', '서래섬', '남해 가천 다랭이마을', '종로', '조계산 선암사', '길상사', '조계사', '오셜록티뮤지엄', '숭례문', '남해 다랭이마을', '발산마을', '송도 트리플스트리트', '인천 차이나타운', '동해안', '인천 동화마을', '드림플러스', '디오션리조트', '인왕산', '울프소셜클럽', '뚝섬한강공원', '웅도', '양재시민의숲', '백남준아트센터 Nam June Paik Art Center', '소양한옥티롤', '민락수변공원', '오피니언 OFINION', '롯데월드 어드벤처 부산', '미륵사지', '롯데타워', '리움미술관', '마포구', '만리포해수욕장', '만장굴', '을지로역', '을지로 3가', '세미원', '월류봉', '월미도', '월화원', '동작역', '성읍민속마을', '보라매공원(Boramae Park)', '안양 예술공원 Anyang Art Park', '정독도서관', '젊은달y파크', '비슬산 참꽃군락지', '아미 미술관', '문도지 오름', '브리꼴라주', '담양메타프로방스', '전라북도 군산 경암동 철길마을', '설악산국립공원', '설화수 플래그십스토어', '올림픽공원 들꽃마루', '순천만국가공원', '대장금테마파크', '장항스카이워크', '순천만', '장항송림산림욕장?', '대한민국', '북한강', '완주 장군봉', '부여 백제문화단지', '잠실역', '부산 트릭아이뮤지엄', '잠실롯데타워', '섭지코지 (Seopjikoji)', '암태도', '송도해수욕장 스카이워크', '보수동책방골목', '라디오소년', '남이섬 Nami Island', 'Seonyudo Park', 'The Royal Food and Drink', '한탄강', '충주 중앙탑 공원', '경기도 양주', '경기도 파주', 'GALLERY CHOI', 'Mungyeong Saejae', '포항역', '해운대', '해운대 달맞이 문탠로드', 'Deogyusan National Park', '춘천역', '해운대블루라인파크', 'Songnisan National Park', '포항 이가리', '청하시장', '강원 고성군', 'The Garden of Morning Calm', '경상남도 거제', '청주역', 'Nami Island', 'Coex', 'Namsan & N Seoul Tower', 'Suwon Hwaseong Fortress', '경인 용인시', '충주역', '건대입구역', '코엑스 별마당도서관', '플랜디멘션', 'Jungmun Beach', 'Jumunjin Beach', '하동 비바체리조트', '강원도 영월 한반도 지형 전망대', 'Konkuk University', 'Inwangsan', '하회마을', '학원농장', 'Line Friends Store & Cafe', '강남 봉은사', 'IFC Mall', '갤러리현대', '컬러풀뮤지엄', '한국민속촌', '갯골생태공원', '한국전통음식문화체험관', 'Lotte World Tower', '가나아트센터', 'Hallasan National Park', '거제도 매미성', '거제식물원', '거창감악산', 'Haedong Yonggungsa Temple 해동 용궁사', '청산수목원', 'Daebudo Island', 'Centum City, Busan', '창덕궁 후원', 'National Museum of Korea', 'Some Sevit', 'Busan Tower', '청계천 서울 빛초롱 축제', '청계천', 'N서울타워', '혼인지', '파라다이스시티 크로마', 'Cafe Ululu', 'Seoul National University', '파라다이스시티', '공주 공산성', 'Anseong Farmland', '공주역', 'Anguk Station', 'PKM갤러리', '청담동', '화개 십리벚꽃길', '계룡산국립공원', '경포호', '경희대학교 서울캠퍼스', '포천아트밸리', '파도리해수욕장', '평강랜드', '영주무섬마을', '외도널서리', '예끼마을', '왕인박사유적지', '왐왐커피', '우이천', '우일선 선교사 사택', '예술김밥', '오드스테어', '우도 하고수동해수욕장', '페이드인', '오라카이 인사동 스위츠', '평택시 소사벌지구', '영종도 마시안 해변', '우포늪', '와이키키마켓', '울릉도 거북바위', '연미산자연미술공원', '트리플스트리트', '하늘공원 (Haneul Park)', '티그레블랑코', '연세대학교 국제캠퍼스', '연화도', '울릉도 도동항옆 해안 산책로', '연희동', '티철판요리', '열정도', '티노마드 모리', '영등포 Times Square', '영산 만년교', '영월역', '운보의 집', '영일대해수욕장', '용평리조트 용평워터파크 ', '오랑주리', '올림픽공원 장미광장', '용소웰빙공원', '옥천암', '외돌개', '온고지신', '온더선셋', '평택역', '용산가족공원', '파이프갤러리', '용두암', '용문사', '파주 보광사', '올림픽공원 ', '판대아이스파크', '판운리 섶다리', '용마산', '포레스트리솜', '옥정호', '폭포수식당', '오랑지 Oh, range', '풍뉴가', '용천사', '오륙도 Skywalk', '파래소폭포', '오르다카페', '오설록티뮤지엄', '프론트', '오스갤러리', '외도보타니아', '오죽헌', '용인자연휴양림', '용인대장금파크', '프랭크 커핀 바', '옥연지 송해공원', '파미에스테이션', '퍼플교', '하늘물빛정원', '창덕궁 비원', '연곡해수욕장', '현대미술관 서울관', '호미곶', '아트몬스터 강남', '악양생태공원', '안국사', '호랑이젤라떡', '협재해수욕장', '현충원', '안돌오름', '현대카드 뮤직라이브러리', '안동하회마을 부용대', '안면암', '향일암', '안목해변', '안산자락길 전망대', '안성', '안성 팜랜드', '안성맞춤랜드', '안성팜랜드', '현대모터스튜디오', '헤이리마을', '안심습지', '허브나라농원', '아쿠아플라넷', '호미곶 해맞이광장', '홍룡사 홍룡폭포', '홍제천인공폭포', '휴휴암', '휴애리 자연생활공원', '신장시장', '신촌로빈훗-양궁카페', '휘닉스파크', '후암동', '실안 씨맨스', '쌈지길', '후꾸짱', '효원공원 월화원', '썬트리팜', '황룡원', '활옥동굴', '아산세계꽃식물원', '아씨방앗간', '아양철교', '화엄사', '아오리따', '아차산 (Achasan Mountain)', '화악산계곡', '아차산 영화사', '향일암(여수)', '해피베어데이', '역삼역', '여수시 돌산읍 하이클레스펜션', '어반스테이', '어비계곡', '어서,이곳', '한남역', '엉덩물계곡', '에덴미어캣프랜즈', '엘리시안강촌 ', '울진 성류굴', '한국도자재단 경기도자박물관', '여수낭만카페', '한강 오엔(ON)', '애도', '여의나루역', '하이원리조트', '하동십리벚꽃길', '여의도공원', '여의도공원 | Yeouido Park', '하동 화개장터 벚꽃길', '하동 십리벚꽃길', '하늬라벤더팜', '하늘별바다펜션 & 별다방', '여좌천', '한라산 어승생악 정상', '어린이대공원', '한라산국립공원 Hallasan National Park', '한산도', '애월해안도로', '해인도', '앤트러사이트 연희', '해운대해수욕장', '해운대 센텀시티', '해운대 달맞이길', '해오름전망대', '해금강 Haegeumgang', '양동발산', '함안 악양뚝방길', '함안', '양림동 펭귄마을', '함덕해수욕장', '양림미술관', '양산 워터파크', '한양도성', '한양대 erica 캠퍼스', '양재천', '양주나리공원', '어노잉', '한성대학교', '여수 라테라스 리조트', '테르트르카페', '퇴계로', '신숭겸장군유적지', '전주향교', '충남 태안군', '정동진', '정원가든', '제부도 워터워크', '충남 서산시', '충남 금산군', '제주 금능해수욕장', '제주 산방산', '제주 생각하는 정원', '제주 협재 해수욕장', '제주국제공항', '장자도', '추억의골목', '최참판댁', '제주도 김녕', '청풍호반케이블카', '제주도 메이즈랜드', '제주도 새별오름', '청풍호', '제주도 제주', '제주도 황우지해안', '제주돌문화공원', '제주동백수목원', '충북 단양 구인사', '전주빵카페', '전주대학교', '전주가마피자', '카카오프렌즈 전주한옥마을점', '카카오프렌즈 강남플래그십스토어', '장흥참숯가마', '재한유엔기념공원', '전곡선사박물관', '전곡항', '전남 고흥군', '카자구루마', '전남 영광 백제불교문화도래지', '전남 화순 세량지', '칠백의총', '전농로', '충청남도 금산 적벽강', '전라남도 해남', '전라북도 변산해수욕장', '전라북도 정읍시 내장산', '전북 대장봉', '충주호암지', '전북 임실군', '전북 진안군', '전일빌딩', '전주 cafe 전망', '전주 덕진공원', '청와대 본관', '청와대', '제주맥주 양조장', '중계동 은행사거리', '첨성대', '중동성당', '첨단', '중림동약현성당 ', '중원대학교', '증도 태평염전', '지리산', '지리산 천왕봉', '지리산 청학동 삼성궁', '천호역', '지오쿠치나', '천주산', '천주교서울대교구 주교좌 명동', '진주시 남강', '천안 깔리엔떼', '진해 군항제 벚꽃축제', '진해 장복산', '진해루', '차 마시는 뜰', '천마산', '천개의향나무숲', '채계산', '창경궁 ', '중구', '죽성 드림성당', '제주맥주양조장', '죽미령평화공원', '제주신라호텔', '청수당', '제주허브동산', '제천 청풍호', '청산별미', '청산도', '청사포어항북방파제등대?', '조천읍 북촌리', '종각역', '청사포어항북방파제등대', '종로3가역', '종로3가포차', '청굴물', '종종서울', '주문진방사제', '주문진해수욕장', '주산지', '주상절리', '청계천로', '주상절리대', '죽도', '죽도수산시장', '청계산', '장항송림산림욕장', '장욱진미술관', '원더스#Wonders', '이기대 산책로', '유림공원', '유채꽃프라자', '율량동', '으능정이스카이로드 ', '태안바다', '태안군 안면암', '을지로브이', '응봉개나리어린이공원', '응봉산', '응봉산 팔각정', '의재미술관', '태안 팜카밀레', '카페 CF', '태안 청산수목원', '이기대공원', '이도커피_sau', '이성당', '이스틀리', '탑정호', '이야기가게 ', '타임스퀘어 (Times Square)', '타슈켄트', '클럽 크로마', '이이남스튜디오', '유두교', '태왕 스파크랜드', '유구색동수국정원', '윈드1947카트테마파크', '원미산', '통영케이블카', '원산', '통영 해저터널', '원아베뉴', '원아이뮤직', '통영 동피랑 마을', '토탈미술관', '토이저러스 잠실점', '원앙폭포', '원주 소금산 출렁다리', '텔아비브', '원주 오늘을그리다', '원주 한지테마파크', '테이트모던', '테디스오븐', '태화루', '월미테마파크', '태화강국가정원', '웨스틴조선 서울', '웨이브파크', '위봉산성', '위양못', '이재효갤러리', '이천 산수유마을', '이촌한강공원', '일산', '카페도어스', '일산해수욕장', '카페 피어라', '일영역', '임진각', '입곡군립공원', '자하문 터널', '잠수교', '카페 쿤달', '카페 전망', '카페 위로', '잠실종합운동장', '잠실한강공원', '잠원한강공원 (Jamwon Hangang Park)', '잠원한강지구', '장릉', '카페 아르크 - Cafe ARC', '카페 루시아', '장림포구', '장성군 황룡강', '카페 동심', '장승포동', '장안사', '카페포토피아', '캐슬1477', '이케아', '인천시청', '크리스찬 디올 성수 ', '코튼스토리위드커피', '이태원 잭스바', '이태원역', '이현공원', '코엑스', '코스모40', '코리아플라워파크', '익선동 한옥거리', '인디어라운드', '인사동 쌈지길', '코랄라니', '켄싱턴호텔', '케이프타운', '인제 스피디움', '인주카페', '케이스포돔 올림픽체조경기장', '커피인템포', '캠프험프리스', '인천공항', '인천공항 Incheon Airport', '캠프오후4시', '인천국제공항', '신시도', '10 Corso Como Seoul', '신세계명동본점', '계족산', '경북 문경시', '경상남도 남해', '경상남도 사천', '경상남도 하동', '경상북도 청송', '경상북도 포항', '경암동철길마을', '경주 the K Hotel', '경주 금장대', '경주 동궁과 월지', '경주보문관광단지', '경주월드', '경화역', '계룡산 동학사', '고군산군도', '경남 통영시', '고려대학교 서울캠퍼스', '고려청자박물관', '고석정', '고소동 천사 벽화마을', '고창 고인돌유적지', '고흥 남열 해돋이 해수욕장', '곤륜산', '곤지암', '골망태 펜션', '공주 미르섬', '공주한옥마을', '관악구', '관음도', '광덕산', '경남거창', '경남 산청', '남평은행나무길', '강원도 인제 내린천', 'Yongsan Family Park 용산가족공원', '가산수피아', '가시리풍력단지', '가현산', '갈매기브루잉', '강남 한류스타거리', '강릉 안목해변', '강릉선교장', '강릉스낵', '강문해변', '강변북로', '강원 양양군', '강원 커피바다', '강원도', '강천산', '경남 남해시', '개심사', '개항장 거리', '갤러리아 광교', '갤러리조선', '걍남 남해군', '거락계곡', '거제정글돔', '건대 매드밤', '검멀레', '경기 김포시', '경기도 가평', '경기도 용인', '경기도 평택', '경기의왕 레일파크', '광림아트센터 BBCH홀', '광명동굴', '광안대교', '김포함상공원', '그릿비 서생점', '금강로하스 산호빛공원', '금산원조김정이삼계탕', '금샘다방', '금악오름', '금오도섬', '기장군', '기장바닷가', '기장역', '김녕 성세기 해변', '김리아갤러리', '김제 벽골제', '김포공항', '김포국제공항 국제선', '김해 분산성', '광안리바닷가', '나주 느러지 전망대 인증센터', '낙강물길공원', '낙안읍성', '낙안읍성민속마을', '난산리 식당', '난지한강공원', '남산골한옥마을', '남산공원 N서울타워', '남산공원?N서울타워', '남산야외식물원', '남산타워', '남원큰엉해안경승지', '남이섬', '남천역', '그린마일커피 북촌점', '그레이츠 판교', '그레이랩', '그레뱅뮤지엄', '광안역', '광주광역시', '광주광역시 중외공원', '광주신세계백화점', '광주역', '광진구', '광한루원', '광화문', '교보문고 광화문점', '구례 화엄사', '구룡포일본가옥거리', '구인사', '구조라성', '구좌읍', '구천댐', '국립경주박물관', '국립국악원(National Gugak Center)', '국립민속박물관', '국립생태원', '국립아시아문화전당', '국립정동극장', '국립중앙박물관?청자정?', '국사봉전망대', '군산 선유도', '군산 신시도', '군산 야미도', '굴업도', '귀산', '그녀의홈카페', 'Yongpyong Resort', 'Yeouido Hangang Park', 'Yeongjongdo', 'Gubyeongsan', 'Daedunsan 대둔산', 'Daegwallyeong Sheep Farm', 'Dean1998', 'Deep Coffee Roasters', 'Dongdaemun History & Culture Park Station', 'Dora Observatory', 'Dumulmeori', 'Euljiro 3-ga Station', 'Fourb Dmz', 'Galleria Department Store', 'Gentle Monster', 'Geumodo Island 금오도', 'Geumosan', 'Gocheok Sky Dome', 'Gwanghwamun Gate', 'Jagalchi Market', 'Gwanghwamun Square - 광화문광장', 'Gyeonghuigung', 'Gyeongsangnam-do', 'Hadong', 'Haeundae Beach', 'Han River', 'Haneul Park', 'Hannam-dong', 'Hongdo', 'H에비뉴호텔 광안리점', 'Imjingak', 'Incheon Grand Park', 'Insadong', 'Insadong 인사동', 'Common Ground쇼핑센터', 'Common Ground', 'Colline', 'CJ 제일제당 본사', '63 Building', '63빌딩 여의도', '63스퀘어', '83타워', '943킹스크로스', 'Amazing Brewing Company', 'Ananti Hilton Busan', 'Apgujeong Rodeo Street', 'Auspice_coffee', 'Baekje Cultural Land', 'Bank of Korea Museum', 'Banpo Hangang Park', 'Baskin Robbins 한남', 'Beomeosa', 'Beopjusa', 'Biseulsan', 'Boromwat', 'Boseong Green Tea Plantation', 'Brighton, England', 'BTS 버스정류장', 'Buramsan', 'Cafe anamura - 아나무라', 'Cafe blossom', 'Cafe 요괴냥수비대', 'Camellia Hill', 'Chaeseokgang Cliffs', 'Cheomseongdae', 'Cheonggyecheon', 'Cheongpyeong Station', 'Itaewon Station', 'Jangsaengpo Whale Museum', 'Wonmisan Mountain', 'Side Note Club', 'Pohang City', 'Pyeongtaek University', 'Sanbangsan', 'Sanbang-san', 'Seokchon Lake 석촌호수', 'Seoraksan National Park', 'Seoraksan National Park 설악산국립공원', 'Seoraksan-설악산', 'Seoul Folk Flea Market', 'Seoul Foreign School', 'Seoul Forest Park', 'Seoul Racecourse Park Station', 'Seoul-Gangnam 서울-강남', 'Seoullo 7017', 'SIGNIEL - 시그니엘', 'Jeju International Airport', 'Sokcho Beach', 'Songdo Beach, Busan', 'Songdo Central Park', 'Soyosan', 'Sun Cruise Resort & Yacht', 'Taejongdae', 'The Independence Hall of Korea', 'The Suncheon Bay National Garden', 'Tongdosa', 'Tribowl', 'Ttukseom Hangang Park', 'War Memorial of Korea', 'Waveon Coffee', 'Wolchulsan', 'Osulloc Tea Museum', 'Onlygo', 'One and only - 원앤온리 제주', 'Old Mullae', 'Jeollanam-do', 'Jinjuseong Fortress', 'Jochiwon', 'Jongmyo', 'Jumunjin', 'Juwangsan National Park', 'Kakao Friends', 'Louis Vuitton', 'Maehwa Village, Gwangyang', 'Magnate', 'Merry Garden 메리가든', 'Mrnw', 'Mudeungsan National Park', 'Myeong-dong', 'N Seoul Tower 남산타워', 'Naejangsan', 'Naejangsan National Park', 'Naksansa', 'Namsan', 'Namsan (Gyeongju)', 'Namsan Park', 'Namsan Tower Seoul', 'Namu Cafe', 'National Folk Museum of Korea', 'National Palace Museum of Korea', 'Nc신구로점', 'NH 안성팜랜드', 'Noryangjin Fisheries Wholesale Market', 'Odongdo Island', '남평문씨인흥세거지', '남포역', '신사동 가로수길', '삼척 장호항', '사우당종택', '사직공원전망타워', '사천 대포항', '산들소리', '산복도로370', '산수유마을', '산청군 삼장면 대포리', '살라댕 방콕', '삼광사', '삼선암', '삼성동', '삼성재단', '삼성혈', '삼성화재 교통박물관', '삼천포', '사보타지', '삼청동', '삼청동길', '삼청동길 Samcheongdong Gil', '삽교호놀이동산', '상림 공원', '상수역', '상족암군립공원', '새만금방조제', '새만금횟집', '새소리 물소리', '서강대학교 Sogang University', '서교동', '서귀포시', '서귀포자연휴양림', '사상역', '사량도', '남해 독일마을', '부암동', '병방치스카이워크', '병산서원', '보령해수욕장', '보문산', '보문정', '보보스캇 캠핑장', '보성 율포해수욕장', '보성역', '본태박물관', '봉래폭포', '부산 카페루프탑', '부산 코모도호텔', '부산시립미술관', '부산엑스더스카이', '부천아트벙커B39', '사라봉 Sarabong', '부촌육회', '부평깡통시장', '북서울 꿈의숲', '북악산', '분황사 모전석탑', '불암산', '불암산나비정원', '붕가포차', '비둘기낭 폭포', '비루개', '비비비당', '비슬산', '사근진해변', '사니다 카페', '서대문 안산 자락길', '서산 황금산', '서소문역사공원', '순천드라마촬영장', '소라의성', '소사벌', '소요산', '속리산 문장대', '속초관광수산시장', '손흥민체육공원', '송도국제도시', '송도용궁구름다리', '송월동 동화마을', '수국사', '수선사', '수원역', '수원전통문화관', '수종사', '순천만국제습지센터', '서오릉', '순천카페.아삐에노', '순포해변', '쉬리의언덕', '슈가브리움', '슈가브리움 리조트', '스누피가든', '스위티안', '스타벅스 충주호암dt점', '스타웨이', '스포츠몬스터 스타필드고양', '시흥갯골생태공원', '신경주역', '신리성지', '신림역', '소노캄 제주', '소노벨비발디파크?', '세크커피', '세종국립수목원', '서울 광진구', '서울 대학로', '서울 북파크', '서울 익선동', '서울 인사동', '서울 한양도성', '서울공예박물관', '서울광장', '서울대공원', '서울랜드', '서울마리나 클럽 & 요트 Seoul Marina Club&Yacht', '서울시립미술관 Seoul Museum of Art', '서울식목원', '서울양양고속도로', '서울역', '서울올림픽공원', '서울월드컵경기장', '서울특별시청', '서프월드', '석조전', '선녀탕', '설악산 공룡능선', '설화수?북촌플래그십스토어', '섬진강 대나무숲', '성균관대학교 명륜당', '성동구', '성수역', '성신여대입구역', '세병호수', '별빛정원 우주', '별방진', '벽초지문화수목원', '도심다원', '대전월드컵경기장', '대천해수욕장', '대치동', '대한다원 본사', '대한성공회 강화성당', '대흥역', '더클래식 500 호텔 펜타즈 ', '더풀', '더피터커피', '덕수궁 정동길', '덕유산', '덴드라', '도두동무지개해안도로', '도림천', '독도케이블카', '두류공원', '돈내코 원앙폭포', '돌개구멍', '돌산도', '동국대학교', '동국사', '동대문', '동대문디자인플라자 ', '동묘구제시장', '동백포레스트', '동북각루', '동십자각', '동작대교', '동피랑마을', '동피랑와팡', '대전 장태산 휴양림', '대전 상소동 산림욕장', '대전 갑천', '대저생태공원', '남해 두모마을', '내수전전망대', '내장산 케이블카', '노들섬', '노성향교', '녹사평역', '논산', '논산 반야사', '논산 선샤인랜드', '논현동', '농촌진흥청 농촌인적자원개발센터', '니지모리스튜디오', '다랭이마을', '단양역', '달산포해수욕장', '닭머르', '담양 죽녹원', '담양추억의골목', '답다니 수국밭', '대관령 하늘목장', '대관령삼양목장', '대관령양떼목장', '대둔산', '대릉원', '대부도공원', '대야산 용추계곡', '대오서점 33카페', '대왕암공원', '대원사', '동해 묵호등대', '듀코비 다이너', '벡스코', '미륵사', '모이핀', '목포역', '목포해상케이블카', '몽마르뜨공원', '묘사서울', '무릉계곡', '무의도 하나개해수욕장', '무장읍성', '무주산골영화제', '묵호등대', '묵호등대마을', '물의정원', '물향기쉼터', '뮌스터담', '미륵산', '드래곤힐스파', '미사리경정공원', '바나나하루키', '바람의 언덕', '방아머리 해수욕장', '백록담', '백빈건널목', '백사실계곡', '백양사', '백인제가옥', '백화제방', '벅수다찌', '벌트', '범어사', '범어사 Beomeosa Temple', '명동대성당', '명동 롯데면세점', '메타세쿼이아 가로수길', '메이플탑 펜케이크클럽 - Maple Top Pancake Club', '딩가케이크', '땡큐커피 Thanq coffee', '뚜쥬루 돌가마점', '뚜쥬르 돌가마점', '뚝섬 미술관', '뚝섬역', '라라브레드', '라미스콘 익선', '라발스호텔', '랑데자뷰 강남점', '랑데자뷰 해운대', '레드브릿지', '로미지안가든', '로빈뮤지엄', '로스팅웨어', '롯데월드', '롯데타워 석촌호수', '리움미술관?', '마곡역', '마노르블랑 제주', '마장호수', '말똥도넛', '맘모스베이커리', '망원동티라미수 본점', '망원시장', '망원역', '매미성', '매암제다원', '메그네이트', '생초국제조각공원']\n"
     ]
    }
   ],
   "source": [
    "locations = list(location_counts.index)\n",
    "print(locations)"
   ]
  },
  {
   "cell_type": "code",
   "execution_count": 16,
   "id": "7b7dd7c1",
   "metadata": {
    "scrolled": true
   },
   "outputs": [
    {
     "name": "stdout",
     "output_type": "stream",
     "text": [
      "[{'address_name': '서울 종로구 와룡동 2-1', 'category_group_code': 'AT4', 'category_group_name': '관광명소', 'category_name': '여행 > 관광,명소 > 문화유적 > 고궁,궁', 'distance': '', 'id': '11156260', 'phone': '02-762-4868', 'place_name': '창경궁', 'place_url': 'http://place.map.kakao.com/11156260', 'road_address_name': '서울 종로구 창경궁로 185', 'x': '126.995199911733', 'y': '37.5794165384496'}, {'address_name': '서울 종로구 와룡동 2-1', 'category_group_code': 'PK6', 'category_group_name': '주차장', 'category_name': '교통,수송 > 교통시설 > 주차장', 'distance': '', 'id': '20587392', 'phone': '', 'place_name': '창경궁 주차장', 'place_url': 'http://place.map.kakao.com/20587392', 'road_address_name': '', 'x': '126.99629795858597', 'y': '37.58116450604905'}, {'address_name': '서울 종로구 와룡동 2-1', 'category_group_code': 'AT4', 'category_group_name': '관광명소', 'category_name': '여행 > 관광,명소 > 수목원,식물원', 'distance': '', 'id': '11002870', 'phone': '', 'place_name': '창경궁 대온실', 'place_url': 'http://place.map.kakao.com/11002870', 'road_address_name': '서울 종로구 창경궁로 185', 'x': '126.993999600727', 'y': '37.5830168543695'}, {'address_name': '서울 종로구 와룡동 2-87', 'category_group_code': '', 'category_group_name': '', 'category_name': '서비스,산업 > 관리,운영 > 매표소', 'distance': '', 'id': '1932803950', 'phone': '', 'place_name': '창경궁 매표소', 'place_url': 'http://place.map.kakao.com/1932803950', 'road_address_name': '', 'x': '126.996479192586', 'y': '37.5791607012415'}, {'address_name': '서울 종로구 충신동 60', 'category_group_code': '', 'category_group_name': '', 'category_name': '부동산 > 주거시설 > 아파트', 'distance': '', 'id': '946945721', 'phone': '', 'place_name': '힐스테이트창경궁아파트 (2022년09월예정)', 'place_url': 'http://place.map.kakao.com/946945721', 'road_address_name': '', 'x': '127.004832649507', 'y': '37.5752458345237'}, {'address_name': '서울 종로구 원남동 66-6', 'category_group_code': '', 'category_group_name': '', 'category_name': '부동산 > 주거시설 > 오피스텔', 'distance': '', 'id': '457839741', 'phone': '', 'place_name': '휴스턴창경궁오피스텔', 'place_url': 'http://place.map.kakao.com/457839741', 'road_address_name': '서울 종로구 창경궁로20길 14', 'x': '126.998406100072', 'y': '37.5751170804489'}, {'address_name': '서울 종로구 원남동 96-9', 'category_group_code': 'FD6', 'category_group_name': '음식점', 'category_name': '음식점 > 퓨전요리 > 퓨전일식', 'distance': '', 'id': '1654711394', 'phone': '02-747-0150', 'place_name': '창경궁150', 'place_url': 'http://place.map.kakao.com/1654711394', 'road_address_name': '서울 종로구 창경궁로 150', 'x': '126.997581964113', 'y': '37.575650455245'}, {'address_name': '서울 종로구 와룡동 2-1', 'category_group_code': '', 'category_group_name': '', 'category_name': '스포츠,레저 > 자전거,싸이클 > 자전거대여소', 'distance': '', 'id': '1347403627', 'phone': '', 'place_name': '창경궁 입구대여소', 'place_url': 'http://place.map.kakao.com/1347403627', 'road_address_name': '', 'x': '126.99645429133841', 'y': '37.57905978916545'}, {'address_name': '서울 종로구 와룡동', 'category_group_code': 'AT4', 'category_group_name': '관광명소', 'category_name': '여행 > 관광,명소 > 저수지', 'distance': '', 'id': '8116578', 'phone': '', 'place_name': '창경궁 춘당지', 'place_url': 'http://place.map.kakao.com/8116578', 'road_address_name': '', 'x': '126.994909926037', 'y': '37.581899665179'}, {'address_name': '서울 종로구 명륜4가 198-2', 'category_group_code': '', 'category_group_name': '', 'category_name': '가정,생활 > 패션 > 의류대여서비스 > 한복대여', 'distance': '', 'id': '1297494553', 'phone': '02-763-9937', 'place_name': '고궁마실 창경궁&창덕궁 한복대여', 'place_url': 'http://place.map.kakao.com/1297494553', 'road_address_name': '서울 종로구 창경궁로 229', 'x': '126.997898741875', 'y': '37.5825268477302'}, {'address_name': '서울 종로구 와룡동 2-1', 'category_group_code': 'AT4', 'category_group_name': '관광명소', 'category_name': '여행 > 관광,명소 > 문화유적 > 고궁,궁', 'distance': '', 'id': '17578525', 'phone': '', 'place_name': '창경궁 함양문', 'place_url': 'http://place.map.kakao.com/17578525', 'road_address_name': '', 'x': '126.99308061756884', 'y': '37.5795236515318'}, {'address_name': '서울 종로구 와룡동 2-1', 'category_group_code': '', 'category_group_name': '', 'category_name': '여행 > 관광,명소 > 문화유적', 'distance': '', 'id': '18983768', 'phone': '', 'place_name': '창경궁 옥천교', 'place_url': 'http://place.map.kakao.com/18983768', 'road_address_name': '서울 종로구 창경궁로 185', 'x': '126.99612826092', 'y': '37.578832728422'}, {'address_name': '서울 종로구 와룡동 2-1', 'category_group_code': '', 'category_group_name': '', 'category_name': '여행 > 관광,명소 > 문화유적', 'distance': '', 'id': '7872875', 'phone': '', 'place_name': '창경궁 문정전', 'place_url': 'http://place.map.kakao.com/7872875', 'road_address_name': '서울 종로구 창경궁로 185', 'x': '126.994824115641', 'y': '37.5785515682891'}, {'address_name': '서울 종로구 와룡동 2-1', 'category_group_code': '', 'category_group_name': '', 'category_name': '여행 > 관광,명소 > 문화유적', 'distance': '', 'id': '7873650', 'phone': '', 'place_name': '창경궁 명정전', 'place_url': 'http://place.map.kakao.com/7873650', 'road_address_name': '서울 종로구 창경궁로 185', 'x': '126.994910140961', 'y': '37.5787425827777'}, {'address_name': '서울 종로구 와룡동 2-1', 'category_group_code': '', 'category_group_name': '', 'category_name': '가정,생활 > 화장실', 'distance': '', 'id': '26332901', 'phone': '', 'place_name': '창경궁 온실 1층 개방화장실', 'place_url': 'http://place.map.kakao.com/26332901', 'road_address_name': '서울 종로구 창경궁로 185', 'x': '126.9935784361406', 'y': '37.583069089827774'}]\n"
     ]
    }
   ],
   "source": [
    "import requests \n",
    "\n",
    "searching = '창경궁'\n",
    "url = 'https://dapi.kakao.com/v2/local/search/keyword.json?query={}'.format(searching)\n",
    "\n",
    "headers = {\"Authorization\": \"KakaoAK 7b79badcab2f1b9bd186f82a4ade78e2\"}\n",
    "\n",
    "places = requests.get(url, headers = headers).json()['documents']\n",
    "print(places)"
   ]
  },
  {
   "cell_type": "code",
   "execution_count": 17,
   "id": "48fbbd29",
   "metadata": {},
   "outputs": [],
   "source": [
    "def find_places(searching):\n",
    "    url = 'https://dapi.kakao.com/v2/local/search/keyword.json?query={}'.format(searching)\n",
    "    headers = {\"Authorization\": \"KakaoAK 7b79badcab2f1b9bd186f82a4ade78e2\"}\n",
    "    \n",
    "    places = requests.get(url, headers = headers).json()['documents']\n",
    "    place = places[0]\n",
    "    name = place['place_name']\n",
    "\n",
    "    x = place['x']\n",
    "    y = place['y']\n",
    "    data = name, x, y, searching\n",
    "\n",
    "    return data"
   ]
  },
  {
   "cell_type": "code",
   "execution_count": 18,
   "id": "b55951d2",
   "metadata": {},
   "outputs": [
    {
     "name": "stdout",
     "output_type": "stream",
     "text": [
      "('창경궁', '126.995199911733', '37.5794165384496', '창경궁')\n"
     ]
    }
   ],
   "source": [
    "print(find_places('창경궁'))"
   ]
  },
  {
   "cell_type": "code",
   "execution_count": 19,
   "id": "e0ac145b",
   "metadata": {
    "scrolled": false
   },
   "outputs": [
    {
     "name": "stderr",
     "output_type": "stream",
     "text": [
      "100%|██████████████████████████████████████████████████████████████████████████████| 1320/1320 [13:43<00:00,  1.60it/s]\n"
     ]
    }
   ],
   "source": [
    "import time\n",
    "from tqdm import tqdm\n",
    "\n",
    "locations_inform = []\n",
    "for location in tqdm(locations):\n",
    "    try:\n",
    "        data = find_places(location)\n",
    "        locations_inform.append(data)\n",
    "        time.sleep(0.5)\n",
    "    except:\n",
    "        pass\n",
    "\n",
    "locations_inform_df = pd.DataFrame(locations_inform)\n",
    "locations_inform_df.columns = ['네이버위치명', '경도', '위도', '인스타위치명']\n",
    "locations_inform_df.to_csv('./data/koreagram_location_final.csv', index=False, encoding='utf-8-sig')"
   ]
  },
  {
   "cell_type": "markdown",
   "id": "fb1fb0ef",
   "metadata": {},
   "source": [
    "### 위치 데이터 시각화 (Plotly)"
   ]
  },
  {
   "cell_type": "code",
   "execution_count": 13,
   "id": "deb18d1a",
   "metadata": {},
   "outputs": [
    {
     "data": {
      "text/html": [
       "        <script type=\"text/javascript\">\n",
       "        window.PlotlyConfig = {MathJaxConfig: 'local'};\n",
       "        if (window.MathJax) {MathJax.Hub.Config({SVG: {font: \"STIX-Web\"}});}\n",
       "        if (typeof require !== 'undefined') {\n",
       "        require.undef(\"plotly\");\n",
       "        requirejs.config({\n",
       "            paths: {\n",
       "                'plotly': ['https://cdn.plot.ly/plotly-2.9.0.min']\n",
       "            }\n",
       "        });\n",
       "        require(['plotly'], function(Plotly) {\n",
       "            window._Plotly = Plotly;\n",
       "        });\n",
       "        }\n",
       "        </script>\n",
       "        "
      ]
     },
     "metadata": {},
     "output_type": "display_data"
    }
   ],
   "source": [
    "# Visual Python: Logic > code\n",
    "import plotly.express as px\n",
    "import plotly\n",
    "plotly.offline.init_notebook_mode(connected=True)"
   ]
  },
  {
   "cell_type": "code",
   "execution_count": 14,
   "id": "b10ef7e4",
   "metadata": {},
   "outputs": [
    {
     "data": {
      "text/html": [
       "<div>\n",
       "<style scoped>\n",
       "    .dataframe tbody tr th:only-of-type {\n",
       "        vertical-align: middle;\n",
       "    }\n",
       "\n",
       "    .dataframe tbody tr th {\n",
       "        vertical-align: top;\n",
       "    }\n",
       "\n",
       "    .dataframe thead th {\n",
       "        text-align: right;\n",
       "    }\n",
       "</style>\n",
       "<table border=\"1\" class=\"dataframe\">\n",
       "  <thead>\n",
       "    <tr style=\"text-align: right;\">\n",
       "      <th></th>\n",
       "      <th>네이버위치명</th>\n",
       "      <th>경도</th>\n",
       "      <th>위도</th>\n",
       "      <th>인스타위치명</th>\n",
       "    </tr>\n",
       "  </thead>\n",
       "  <tbody>\n",
       "    <tr>\n",
       "      <th>0</th>\n",
       "      <td>ABBA라이브</td>\n",
       "      <td>127.127815880474</td>\n",
       "      <td>37.5011839406236</td>\n",
       "      <td>ABBA</td>\n",
       "    </tr>\n",
       "    <tr>\n",
       "      <th>1</th>\n",
       "      <td>북한산둘레길 1구간소나무숲길</td>\n",
       "      <td>127.00902108350806</td>\n",
       "      <td>37.65888882945633</td>\n",
       "      <td>서울</td>\n",
       "    </tr>\n",
       "    <tr>\n",
       "      <th>2</th>\n",
       "      <td>대한민국</td>\n",
       "      <td>127.062417480704</td>\n",
       "      <td>37.5067075025853</td>\n",
       "      <td>대한민국</td>\n",
       "    </tr>\n",
       "    <tr>\n",
       "      <th>3</th>\n",
       "      <td>경복궁</td>\n",
       "      <td>126.976896737645</td>\n",
       "      <td>37.5776087830657</td>\n",
       "      <td>Gyeongbokgung</td>\n",
       "    </tr>\n",
       "    <tr>\n",
       "      <th>4</th>\n",
       "      <td>PPE</td>\n",
       "      <td>127.059936935972</td>\n",
       "      <td>37.5162738482712</td>\n",
       "      <td>South Korea</td>\n",
       "    </tr>\n",
       "    <tr>\n",
       "      <th>...</th>\n",
       "      <td>...</td>\n",
       "      <td>...</td>\n",
       "      <td>...</td>\n",
       "      <td>...</td>\n",
       "    </tr>\n",
       "    <tr>\n",
       "      <th>382</th>\n",
       "      <td>비발디파크 오션월드</td>\n",
       "      <td>127.68691203933</td>\n",
       "      <td>37.6499534973208</td>\n",
       "      <td>강원도</td>\n",
       "    </tr>\n",
       "    <tr>\n",
       "      <th>383</th>\n",
       "      <td>전주한옥마을</td>\n",
       "      <td>127.152557091072</td>\n",
       "      <td>35.8148243087693</td>\n",
       "      <td>전주 한옥마을</td>\n",
       "    </tr>\n",
       "    <tr>\n",
       "      <th>384</th>\n",
       "      <td>평가옥 분당점</td>\n",
       "      <td>127.110089261499</td>\n",
       "      <td>37.3695742289207</td>\n",
       "      <td>평가옥 분당</td>\n",
       "    </tr>\n",
       "    <tr>\n",
       "      <th>385</th>\n",
       "      <td>광장시장 전골목</td>\n",
       "      <td>127.000633898859</td>\n",
       "      <td>37.5705616588662</td>\n",
       "      <td>광장시장먹자골목</td>\n",
       "    </tr>\n",
       "    <tr>\n",
       "      <th>386</th>\n",
       "      <td>서울한양도성 낙산구간2코스</td>\n",
       "      <td>127.00863578989066</td>\n",
       "      <td>37.58079664277135</td>\n",
       "      <td>낙산공원 서울성곽길</td>\n",
       "    </tr>\n",
       "  </tbody>\n",
       "</table>\n",
       "<p>387 rows × 4 columns</p>\n",
       "</div>"
      ],
      "text/plain": [
       "              네이버위치명                  경도                 위도         인스타위치명\n",
       "0            ABBA라이브    127.127815880474   37.5011839406236           ABBA\n",
       "1    북한산둘레길 1구간소나무숲길  127.00902108350806  37.65888882945633             서울\n",
       "2               대한민국    127.062417480704   37.5067075025853           대한민국\n",
       "3                경복궁    126.976896737645   37.5776087830657  Gyeongbokgung\n",
       "4                PPE    127.059936935972   37.5162738482712    South Korea\n",
       "..               ...                 ...                ...            ...\n",
       "382       비발디파크 오션월드     127.68691203933   37.6499534973208            강원도\n",
       "383           전주한옥마을    127.152557091072   35.8148243087693        전주 한옥마을\n",
       "384          평가옥 분당점    127.110089261499   37.3695742289207         평가옥 분당\n",
       "385         광장시장 전골목    127.000633898859   37.5705616588662       광장시장먹자골목\n",
       "386   서울한양도성 낙산구간2코스  127.00863578989066  37.58079664277135     낙산공원 서울성곽길\n",
       "\n",
       "[387 rows x 4 columns]"
      ]
     },
     "execution_count": 14,
     "metadata": {},
     "output_type": "execute_result"
    }
   ],
   "source": [
    "locations_inform_df"
   ]
  },
  {
   "cell_type": "code",
   "execution_count": 15,
   "id": "a3441877",
   "metadata": {},
   "outputs": [],
   "source": [
    "locations_inform_df = locations_inform_df[['경도','위도']].astype('float64')"
   ]
  },
  {
   "cell_type": "code",
   "execution_count": 16,
   "id": "f4c8ce35",
   "metadata": {},
   "outputs": [
    {
     "data": {
      "application/vnd.plotly.v1+json": {
       "config": {
        "plotlyServerURL": "https://plot.ly"
       },
       "data": [
        {
         "hovertemplate": "위도=%{lat}<br>경도=%{lon}<extra></extra>",
         "lat": [
          37.5011839406236,
          37.65888882945633,
          37.5067075025853,
          37.5776087830657,
          37.5162738482712,
          35.1585232170784,
          37.5776087830657,
          37.5829185302128,
          35.836252574629924,
          36.801517403322485,
          37.56318453011765,
          35.8347762643542,
          35.859463234034216,
          37.5733610774662,
          37.523644471292,
          36.5389828267328,
          37.579655957334666,
          37.54350999974003,
          35.1636479638612,
          33.379777816446165,
          37.5776087830657,
          37.5663998518998,
          33.379777816446165,
          37.5655638710672,
          37.6834586643041,
          37.6561360415672,
          37.8034055083125,
          33.379777816446165,
          37.5532101173212,
          37.5251230282347,
          35.077914827298564,
          37.2869569586225,
          37.5292974433415,
          37.5345613066561,
          37.51131840799449,
          37.5829185302128,
          37.5773619926369,
          35.0843514968685,
          37.551279740966,
          38.1870016232572,
          37.55662311414043,
          37.5513049702718,
          35.09630012826786,
          35.49245838418908,
          37.6678291470139,
          33.433068041140075,
          35.8148243087693,
          35.18840281721384,
          34.7993798051192,
          37.601590273158,
          37.5568707448873,
          37.551279740966,
          36.09178603992931,
          37.393063959939425,
          37.60759496019467,
          37.51260447840551,
          35.0759454359851,
          37.5568707448873,
          37.265249076094435,
          37.4812845080678,
          38.19073872774693,
          37.5464440372535,
          37.53553394236617,
          35.16864392798528,
          35.78991466172384,
          37.5126453850716,
          37.3852045127064,
          37.5553965854703,
          37.551279740966,
          34.7472004533232,
          37.525872071029134,
          35.077914827298564,
          37.2891526817361,
          34.7159597989524,
          37.5734371942191,
          37.5755140820249,
          38.086979634132064,
          37.5794572790689,
          37.58056966858,
          35.1683562959139,
          37.7443338073502,
          37.5443222301513,
          37.53694681778275,
          38.330684523846,
          37.550874837441,
          37.5814300334622,
          37.559266655452944,
          36.8617986925507,
          37.5060750627914,
          33.5070789578184,
          37.5389267976167,
          35.78991466172384,
          36.34937377597455,
          33.23799399299591,
          35.83991953035569,
          35.8153866450026,
          33.5574388587079,
          35.2599067631886,
          35.8325754812219,
          37.5267558230172,
          38.19005288814373,
          37.1731740067772,
          35.160294214382716,
          37.5673174505789,
          37.20070867365914,
          36.5389828267328,
          37.754025117657804,
          37.55741631573425,
          37.5707881525953,
          35.8393348165945,
          36.8202720226268,
          33.39670048068425,
          35.4039187841942,
          37.37444621363425,
          35.376629428188,
          37.572602860810186,
          37.557560076670406,
          38.11912517931733,
          35.9035176790886,
          37.2810757709683,
          37.5240180044574,
          36.9693643407795,
          35.8734567463177,
          36.9888245349883,
          37.52638860108943,
          37.791693560311764,
          35.85322716591636,
          34.7520046170979,
          37.8459392886988,
          33.30591328662081,
          36.090673138304794,
          37.57262064091815,
          37.7041173279199,
          37.5061925878659,
          37.4817352855088,
          35.8576028148564,
          37.5553965854703,
          37.5812412820636,
          36.9946987212414,
          37.5696563183315,
          37.5387990752117,
          37.309429480381965,
          35.793265323781796,
          35.8230232153817,
          35.64738481498588,
          33.4973768007144,
          37.5097007912995,
          35.8688125525419,
          35.6098047788115,
          37.444805807258284,
          37.55694938489218,
          33.384959730607484,
          37.5128899169357,
          34.6459942292734,
          37.39279718014944,
          33.4134970849722,
          37.5258560246182,
          34.7746677942101,
          33.556469394054,
          37.881563852256,
          35.0809607224399,
          36.3599709654818,
          37.58159343708794,
          37.44446951034434,
          37.9124066163012,
          36.09178603992931,
          35.8148243087693,
          36.0780561712913,
          35.9427148480857,
          37.566564293688046,
          37.7091842052891,
          37.5061925878659,
          37.496762602171,
          37.5819066700213,
          33.23738579332568,
          37.274004218418,
          37.2410536000124,
          35.2325069110201,
          37.5356239765187,
          35.1297738339819,
          35.99322180644562,
          36.9800186509059,
          34.778856828051,
          37.2178921385733,
          37.8136129609739,
          33.3001768930001,
          35.4573561334282,
          37.5345613066561,
          37.56855522765132,
          35.83814999833691,
          37.5054540071803,
          33.3766655632143,
          35.0497986701075,
          37.5904038281362,
          37.5546788388674,
          35.18976821689522,
          35.3491062321099,
          36.76607895585671,
          35.859463234034216,
          37.791693560311764,
          37.1722091969137,
          36.4043358392606,
          37.74576283456182,
          37.5700282666334,
          37.505305732081965,
          37.56318453011765,
          35.2522665805712,
          35.7997197025815,
          36.86958468483109,
          34.2972777904718,
          37.5249188066868,
          35.2587639061243,
          37.596101261945115,
          34.9287726805087,
          35.159055286783726,
          37.55436171647713,
          35.32783714533351,
          37.29523923083522,
          37.443733481274116,
          36.35431246580609,
          37.2869569586225,
          34.458647690794,
          37.57395881968132,
          35.1585232170784,
          37.32628054915,
          38.125432743310995,
          36.98644142519413,
          37.5251230282347,
          37.572602860810186,
          36.3102317300706,
          33.45360917744684,
          36.794336572165605,
          37.56052658245116,
          37.055099525434,
          37.536466542454704,
          33.3766655632143,
          37.5454930733426,
          37.9056769537632,
          37.49863528388638,
          35.19008018357494,
          37.53366503676396,
          35.7666974629935,
          37.8034055083125,
          36.975676669087555,
          37.288861484847935,
          33.3122913114541,
          33.30269882152763,
          35.180877561285,
          34.751857862358,
          35.1033668597923,
          37.5563194254356,
          37.579655957334666,
          35.48586234622641,
          37.4717375833542,
          37.5655638710672,
          34.93361421021188,
          35.22736538649052,
          35.3213392252201,
          35.244418104542,
          37.6561360415672,
          37.4792312923908,
          35.1888262720926,
          35.0966427839943,
          37.2916012072667,
          37.6380555024502,
          35.31542378931977,
          34.80007258001897,
          37.846716002441,
          37.5542342319296,
          36.980412626252004,
          37.5794165384496,
          37.51131985755065,
          37.50683151565546,
          35.3212737647328,
          37.5743520602942,
          37.5691469686793,
          36.07727115244759,
          33.3477698762559,
          37.879202219338964,
          37.5738804844666,
          37.54885386444588,
          37.51766013568054,
          34.8609806474228,
          36.9238607086271,
          37.51131985755065,
          37.5634787135925,
          37.5729471865215,
          35.8498531247183,
          34.7446210175676,
          35.33689768203783,
          33.4506575078278,
          37.5132992896972,
          37.5444609837908,
          37.55727196379093,
          36.5016873730712,
          37.572602860810186,
          34.789908703139815,
          37.392686041267964,
          37.58056966858,
          37.5277755239083,
          33.314642147414716,
          37.5097007912995,
          36.2893534027601,
          37.4072182744526,
          35.1565648156251,
          37.551279740966,
          37.5217984491514,
          36.7823407033401,
          37.5533982943712,
          37.51710523750273,
          35.0843514968685,
          37.5250892160129,
          37.5347227952064,
          34.32641522933002,
          38.027834441415756,
          35.20704387774388,
          37.5640659343577,
          37.4789518575993,
          37.5250892160129,
          38.027834441415756,
          34.7156527529844,
          36.8763315980983,
          35.6179888999587,
          38.20131750285376,
          38.1885435402464,
          38.14840757932009,
          37.6414862798216,
          37.5178641354045,
          36.7847886254004,
          33.3938660776221,
          37.579416508351756,
          35.13006010998375,
          35.8230232153817,
          37.5258272783362,
          37.544782395189884,
          34.76929638286456,
          35.8357176888121,
          37.5659384342432,
          33.3192727556025,
          33.4102777124648,
          37.5577861212588,
          37.572600127753,
          37.58204391787134,
          37.5781910083009,
          37.793478014947176,
          37.0796073834165,
          37.00142079940585,
          37.5134889443798,
          37.512763958426994,
          37.6888241058484,
          35.1542799667248,
          36.757500292632194,
          37.5443222301513,
          38.14840757932009,
          37.2891526817361,
          37.4069785670025,
          37.5794165384496,
          35.05231978605008,
          37.67041236668757,
          37.2843652555841,
          36.826515513863,
          35.1565648156251,
          37.16783438705687,
          36.7389780733683,
          37.4360557449009,
          36.79492737110112,
          37.58657325133722,
          34.7920224100901,
          37.57943602295691,
          36.9256206705394,
          37.5620769169639,
          37.5311524042719,
          37.55147044344215,
          37.24291020655134,
          33.3938660776221,
          36.9888245349883,
          36.96022981505894,
          35.836252574629924,
          35.2317517351976,
          37.2819144990562,
          37.550874837441,
          37.562544705628845,
          37.6499534973208,
          35.8148243087693,
          37.3695742289207,
          37.5705616588662,
          37.58079664277135
         ],
         "legendgroup": "",
         "lon": [
          127.127815880474,
          127.00902108350806,
          127.062417480704,
          126.976896737645,
          127.059936935972,
          129.159854668484,
          126.976896737645,
          126.983384576672,
          129.28206598992438,
          126.70425227542555,
          126.98735609674071,
          129.226975518857,
          129.22462891150363,
          126.98561901337,
          127.296265770522,
          128.518141153901,
          126.99099980568673,
          127.07736428035886,
          129.158897240251,
          126.54587355630036,
          126.976896737645,
          126.974228917679,
          126.54587355630036,
          126.974894754989,
          129.043942880667,
          126.764141543966,
          128.910210247605,
          126.54587355630036,
          127.04650833192,
          127.033904321455,
          129.04528136992104,
          127.011795743342,
          127.06892112991,
          126.99580922812,
          127.05977688598037,
          126.983384576672,
          126.812982917632,
          129.023884011736,
          126.988217046052,
          127.295051714024,
          126.97029718561329,
          126.988230622132,
          129.00942831915552,
          129.43997358942727,
          126.891375864068,
          126.92784588473428,
          127.152557091072,
          129.2231430744025,
          126.37004340188588,
          126.980658058024,
          126.923778562273,
          126.988217046052,
          128.30022515965544,
          126.63862968940775,
          126.94698432423915,
          127.10255558658325,
          129.016954361828,
          126.923778562273,
          127.03773328597492,
          126.952713197762,
          128.6026902136017,
          127.043028992489,
          127.01107672502562,
          129.12907174004943,
          129.3318426090494,
          126.998407429526,
          126.644321136016,
          126.923580878826,
          126.988217046052,
          126.123068555346,
          126.92844612411159,
          129.04528136992104,
          126.576767387831,
          127.077901795169,
          126.989775723896,
          126.973161662111,
          128.66567114107605,
          126.98623370164968,
          127.007521763748,
          129.057403818219,
          127.352879287719,
          127.037617759165,
          126.97712765885771,
          128.52791763044,
          126.925554591431,
          126.982995455867,
          126.99474848811892,
          126.680274129173,
          127.006989504898,
          126.492769004244,
          127.075691738059,
          129.3318426090494,
          127.44283611814183,
          126.42601744245376,
          127.16703747285135,
          127.149729902972,
          126.759313988844,
          129.2337567183556,
          129.218916244204,
          127.039152029523,
          128.60409847805983,
          128.210563520673,
          129.16921767452897,
          127.012156747242,
          127.09791931212142,
          128.518141153901,
          128.8986237900098,
          127.04563269772498,
          126.968649079046,
          129.209645417434,
          126.786202307818,
          126.34501060259869,
          127.379781364826,
          126.72699245516932,
          126.541930122074,
          126.97691639601517,
          126.92673403106848,
          128.4653615314634,
          127.244621143181,
          127.901240966763,
          126.98021428621992,
          127.686277334127,
          129.224803247841,
          128.381696108875,
          126.93512931714196,
          127.52508704819692,
          128.56658131032162,
          127.982950534007,
          126.755066002582,
          126.28948929546861,
          128.6829120891451,
          126.97572100551191,
          127.449526160321,
          130.860436808926,
          126.953400331123,
          128.493305496557,
          126.923580878826,
          127.013460953369,
          128.394365136642,
          126.986756202034,
          127.072469149139,
          126.85402320176591,
          129.31442381576682,
          126.413021905999,
          128.73401526249253,
          126.452690819027,
          126.994629809971,
          128.601899941122,
          127.106394994292,
          126.70202482900666,
          126.97924358947482,
          126.8014989334944,
          127.011419491429,
          128.354324208877,
          127.11204751299005,
          126.75249576943,
          126.938335843486,
          128.641526158522,
          126.795805057888,
          128.831632543833,
          128.880777531551,
          127.357441439393,
          127.00002264258504,
          126.96389684735281,
          128.817101815108,
          128.30022515965544,
          127.152557091072,
          129.56973687334,
          128.640979002345,
          126.9886017493288,
          126.448555072944,
          130.860436808926,
          126.903375887306,
          126.969590881263,
          126.51530966206293,
          128.269224624107,
          131.867131133737,
          129.085043957321,
          127.131006444371,
          128.66414743693417,
          128.70424240980597,
          128.089589648044,
          127.74547599836,
          128.350250066542,
          128.897555797396,
          126.581329667008,
          126.842176502122,
          126.99580922812,
          126.98611119582282,
          129.21233472051617,
          127.435383773457,
          126.54222094512,
          126.998084023012,
          126.96590530631,
          126.970606917394,
          129.16092855712827,
          128.72753813773,
          126.88621540935412,
          129.22462891150363,
          127.52508704819692,
          126.624022794909,
          127.443867959344,
          126.48512011720544,
          126.998949546525,
          127.00432032924516,
          126.98735609674071,
          128.52020788659,
          128.522017358965,
          127.09450058089298,
          126.525759259436,
          128.29346806836,
          129.11115698248,
          126.8287096301388,
          127.499428647615,
          129.1432468763072,
          127.11111536900728,
          126.98593088715316,
          127.09320559948202,
          129.1721095466655,
          127.2274765131647,
          127.011795743342,
          127.170421064803,
          126.98185608504004,
          129.159854668484,
          129.020854083678,
          128.62797761765904,
          128.3707336533801,
          127.033904321455,
          126.97691639601517,
          126.513481592784,
          126.75493209633262,
          128.90855269828214,
          126.98065056929003,
          127.107452249043,
          126.97268914033664,
          126.54222094512,
          127.223691197241,
          127.309075181161,
          127.02699400109375,
          129.0583269466769,
          130.85801686732108,
          127.42842556854852,
          128.910210247605,
          127.91063602656168,
          127.01424321158507,
          126.464872004233,
          126.17939805346123,
          128.82930509028,
          128.019651638573,
          129.026656923019,
          126.923919460392,
          126.99099980568673,
          126.90551576766015,
          126.599231057618,
          126.974894754989,
          128.0531970700861,
          126.84160373760274,
          128.333084128219,
          129.222422056745,
          126.764141543966,
          129.159872201438,
          126.830909782424,
          129.038556199948,
          127.065839176278,
          126.946908304654,
          128.3554204104681,
          128.03855022577358,
          127.680384838921,
          129.118563356819,
          128.33957027965465,
          126.995199911733,
          127.09806349478795,
          127.03150850797986,
          128.333135836739,
          126.984731319433,
          126.978647068151,
          129.56937281614944,
          126.327321076199,
          127.09200199922985,
          126.989784719392,
          126.9076473683962,
          126.95803386590158,
          128.629541086564,
          126.378645566605,
          127.09806349478795,
          126.983742033809,
          127.008544323564,
          127.16180338402,
          128.663149179091,
          127.73061844800158,
          126.304673157235,
          127.12572365099,
          126.968542424231,
          126.92854060363454,
          126.367114705763,
          126.97691639601517,
          126.37263283814109,
          126.97362787618033,
          127.007521763748,
          127.039849452704,
          126.27365976756127,
          126.994629809971,
          127.397754143625,
          126.634896508214,
          129.152021092751,
          126.988217046052,
          126.983574610978,
          126.963651944548,
          127.23669542465,
          126.90307140055172,
          129.023884011736,
          126.947545050571,
          126.9865496751,
          126.7493296342443,
          128.71728231189653,
          128.57465000540392,
          126.982157296677,
          127.507031264905,
          126.947545050571,
          128.71728231189653,
          127.078774842327,
          128.082282626708,
          126.587442267334,
          128.58707395545795,
          128.603803997428,
          128.39306480593385,
          126.939092437378,
          126.959097047391,
          126.140426408147,
          126.239157539085,
          126.94140269870839,
          126.99352658092204,
          126.413021905999,
          126.915221437055,
          127.05820807890457,
          128.71165107261427,
          128.556467234482,
          126.973740099183,
          126.385969459857,
          126.227348369237,
          126.913279343754,
          127.01808924966633,
          127.00194500977393,
          127.008069450086,
          128.54263897286106,
          129.201347222599,
          128.3999812135974,
          126.949951101496,
          127.05727267755724,
          128.59761535621,
          129.127000968254,
          127.31693061688969,
          127.037617759165,
          128.39306480593385,
          126.576767387831,
          128.512570778605,
          126.995199911733,
          129.09196967936862,
          126.99086417405317,
          127.066933469349,
          127.137804236908,
          129.152021092751,
          127.10452210465446,
          126.133584005,
          127.006752481821,
          126.14639472308825,
          126.9748537345249,
          126.425759127126,
          126.88942135174955,
          128.580202883743,
          126.984901336292,
          126.837852623984,
          127.08378909469191,
          127.08118995506915,
          126.239157539085,
          128.381696108875,
          128.33236426859264,
          129.28206598992438,
          129.085358507657,
          127.014041185109,
          126.925554591431,
          126.94765009467245,
          127.68691203933,
          127.152557091072,
          127.110089261499,
          127.000633898859,
          127.00863578989066
         ],
         "marker": {
          "color": "#636efa"
         },
         "mode": "markers",
         "name": "",
         "showlegend": false,
         "subplot": "mapbox",
         "type": "scattermapbox"
        }
       ],
       "layout": {
        "legend": {
         "tracegroupgap": 0
        },
        "mapbox": {
         "center": {
          "lat": 36.60827039193356,
          "lon": 127.53270254546382
         },
         "domain": {
          "x": [
           0,
           1
          ],
          "y": [
           0,
           1
          ]
         },
         "style": "open-street-map",
         "zoom": 6
        },
        "margin": {
         "t": 60
        },
        "template": {
         "data": {
          "bar": [
           {
            "error_x": {
             "color": "#2a3f5f"
            },
            "error_y": {
             "color": "#2a3f5f"
            },
            "marker": {
             "line": {
              "color": "#E5ECF6",
              "width": 0.5
             },
             "pattern": {
              "fillmode": "overlay",
              "size": 10,
              "solidity": 0.2
             }
            },
            "type": "bar"
           }
          ],
          "barpolar": [
           {
            "marker": {
             "line": {
              "color": "#E5ECF6",
              "width": 0.5
             },
             "pattern": {
              "fillmode": "overlay",
              "size": 10,
              "solidity": 0.2
             }
            },
            "type": "barpolar"
           }
          ],
          "carpet": [
           {
            "aaxis": {
             "endlinecolor": "#2a3f5f",
             "gridcolor": "white",
             "linecolor": "white",
             "minorgridcolor": "white",
             "startlinecolor": "#2a3f5f"
            },
            "baxis": {
             "endlinecolor": "#2a3f5f",
             "gridcolor": "white",
             "linecolor": "white",
             "minorgridcolor": "white",
             "startlinecolor": "#2a3f5f"
            },
            "type": "carpet"
           }
          ],
          "choropleth": [
           {
            "colorbar": {
             "outlinewidth": 0,
             "ticks": ""
            },
            "type": "choropleth"
           }
          ],
          "contour": [
           {
            "colorbar": {
             "outlinewidth": 0,
             "ticks": ""
            },
            "colorscale": [
             [
              0,
              "#0d0887"
             ],
             [
              0.1111111111111111,
              "#46039f"
             ],
             [
              0.2222222222222222,
              "#7201a8"
             ],
             [
              0.3333333333333333,
              "#9c179e"
             ],
             [
              0.4444444444444444,
              "#bd3786"
             ],
             [
              0.5555555555555556,
              "#d8576b"
             ],
             [
              0.6666666666666666,
              "#ed7953"
             ],
             [
              0.7777777777777778,
              "#fb9f3a"
             ],
             [
              0.8888888888888888,
              "#fdca26"
             ],
             [
              1,
              "#f0f921"
             ]
            ],
            "type": "contour"
           }
          ],
          "contourcarpet": [
           {
            "colorbar": {
             "outlinewidth": 0,
             "ticks": ""
            },
            "type": "contourcarpet"
           }
          ],
          "heatmap": [
           {
            "colorbar": {
             "outlinewidth": 0,
             "ticks": ""
            },
            "colorscale": [
             [
              0,
              "#0d0887"
             ],
             [
              0.1111111111111111,
              "#46039f"
             ],
             [
              0.2222222222222222,
              "#7201a8"
             ],
             [
              0.3333333333333333,
              "#9c179e"
             ],
             [
              0.4444444444444444,
              "#bd3786"
             ],
             [
              0.5555555555555556,
              "#d8576b"
             ],
             [
              0.6666666666666666,
              "#ed7953"
             ],
             [
              0.7777777777777778,
              "#fb9f3a"
             ],
             [
              0.8888888888888888,
              "#fdca26"
             ],
             [
              1,
              "#f0f921"
             ]
            ],
            "type": "heatmap"
           }
          ],
          "heatmapgl": [
           {
            "colorbar": {
             "outlinewidth": 0,
             "ticks": ""
            },
            "colorscale": [
             [
              0,
              "#0d0887"
             ],
             [
              0.1111111111111111,
              "#46039f"
             ],
             [
              0.2222222222222222,
              "#7201a8"
             ],
             [
              0.3333333333333333,
              "#9c179e"
             ],
             [
              0.4444444444444444,
              "#bd3786"
             ],
             [
              0.5555555555555556,
              "#d8576b"
             ],
             [
              0.6666666666666666,
              "#ed7953"
             ],
             [
              0.7777777777777778,
              "#fb9f3a"
             ],
             [
              0.8888888888888888,
              "#fdca26"
             ],
             [
              1,
              "#f0f921"
             ]
            ],
            "type": "heatmapgl"
           }
          ],
          "histogram": [
           {
            "marker": {
             "pattern": {
              "fillmode": "overlay",
              "size": 10,
              "solidity": 0.2
             }
            },
            "type": "histogram"
           }
          ],
          "histogram2d": [
           {
            "colorbar": {
             "outlinewidth": 0,
             "ticks": ""
            },
            "colorscale": [
             [
              0,
              "#0d0887"
             ],
             [
              0.1111111111111111,
              "#46039f"
             ],
             [
              0.2222222222222222,
              "#7201a8"
             ],
             [
              0.3333333333333333,
              "#9c179e"
             ],
             [
              0.4444444444444444,
              "#bd3786"
             ],
             [
              0.5555555555555556,
              "#d8576b"
             ],
             [
              0.6666666666666666,
              "#ed7953"
             ],
             [
              0.7777777777777778,
              "#fb9f3a"
             ],
             [
              0.8888888888888888,
              "#fdca26"
             ],
             [
              1,
              "#f0f921"
             ]
            ],
            "type": "histogram2d"
           }
          ],
          "histogram2dcontour": [
           {
            "colorbar": {
             "outlinewidth": 0,
             "ticks": ""
            },
            "colorscale": [
             [
              0,
              "#0d0887"
             ],
             [
              0.1111111111111111,
              "#46039f"
             ],
             [
              0.2222222222222222,
              "#7201a8"
             ],
             [
              0.3333333333333333,
              "#9c179e"
             ],
             [
              0.4444444444444444,
              "#bd3786"
             ],
             [
              0.5555555555555556,
              "#d8576b"
             ],
             [
              0.6666666666666666,
              "#ed7953"
             ],
             [
              0.7777777777777778,
              "#fb9f3a"
             ],
             [
              0.8888888888888888,
              "#fdca26"
             ],
             [
              1,
              "#f0f921"
             ]
            ],
            "type": "histogram2dcontour"
           }
          ],
          "mesh3d": [
           {
            "colorbar": {
             "outlinewidth": 0,
             "ticks": ""
            },
            "type": "mesh3d"
           }
          ],
          "parcoords": [
           {
            "line": {
             "colorbar": {
              "outlinewidth": 0,
              "ticks": ""
             }
            },
            "type": "parcoords"
           }
          ],
          "pie": [
           {
            "automargin": true,
            "type": "pie"
           }
          ],
          "scatter": [
           {
            "marker": {
             "colorbar": {
              "outlinewidth": 0,
              "ticks": ""
             }
            },
            "type": "scatter"
           }
          ],
          "scatter3d": [
           {
            "line": {
             "colorbar": {
              "outlinewidth": 0,
              "ticks": ""
             }
            },
            "marker": {
             "colorbar": {
              "outlinewidth": 0,
              "ticks": ""
             }
            },
            "type": "scatter3d"
           }
          ],
          "scattercarpet": [
           {
            "marker": {
             "colorbar": {
              "outlinewidth": 0,
              "ticks": ""
             }
            },
            "type": "scattercarpet"
           }
          ],
          "scattergeo": [
           {
            "marker": {
             "colorbar": {
              "outlinewidth": 0,
              "ticks": ""
             }
            },
            "type": "scattergeo"
           }
          ],
          "scattergl": [
           {
            "marker": {
             "colorbar": {
              "outlinewidth": 0,
              "ticks": ""
             }
            },
            "type": "scattergl"
           }
          ],
          "scattermapbox": [
           {
            "marker": {
             "colorbar": {
              "outlinewidth": 0,
              "ticks": ""
             }
            },
            "type": "scattermapbox"
           }
          ],
          "scatterpolar": [
           {
            "marker": {
             "colorbar": {
              "outlinewidth": 0,
              "ticks": ""
             }
            },
            "type": "scatterpolar"
           }
          ],
          "scatterpolargl": [
           {
            "marker": {
             "colorbar": {
              "outlinewidth": 0,
              "ticks": ""
             }
            },
            "type": "scatterpolargl"
           }
          ],
          "scatterternary": [
           {
            "marker": {
             "colorbar": {
              "outlinewidth": 0,
              "ticks": ""
             }
            },
            "type": "scatterternary"
           }
          ],
          "surface": [
           {
            "colorbar": {
             "outlinewidth": 0,
             "ticks": ""
            },
            "colorscale": [
             [
              0,
              "#0d0887"
             ],
             [
              0.1111111111111111,
              "#46039f"
             ],
             [
              0.2222222222222222,
              "#7201a8"
             ],
             [
              0.3333333333333333,
              "#9c179e"
             ],
             [
              0.4444444444444444,
              "#bd3786"
             ],
             [
              0.5555555555555556,
              "#d8576b"
             ],
             [
              0.6666666666666666,
              "#ed7953"
             ],
             [
              0.7777777777777778,
              "#fb9f3a"
             ],
             [
              0.8888888888888888,
              "#fdca26"
             ],
             [
              1,
              "#f0f921"
             ]
            ],
            "type": "surface"
           }
          ],
          "table": [
           {
            "cells": {
             "fill": {
              "color": "#EBF0F8"
             },
             "line": {
              "color": "white"
             }
            },
            "header": {
             "fill": {
              "color": "#C8D4E3"
             },
             "line": {
              "color": "white"
             }
            },
            "type": "table"
           }
          ]
         },
         "layout": {
          "annotationdefaults": {
           "arrowcolor": "#2a3f5f",
           "arrowhead": 0,
           "arrowwidth": 1
          },
          "autotypenumbers": "strict",
          "coloraxis": {
           "colorbar": {
            "outlinewidth": 0,
            "ticks": ""
           }
          },
          "colorscale": {
           "diverging": [
            [
             0,
             "#8e0152"
            ],
            [
             0.1,
             "#c51b7d"
            ],
            [
             0.2,
             "#de77ae"
            ],
            [
             0.3,
             "#f1b6da"
            ],
            [
             0.4,
             "#fde0ef"
            ],
            [
             0.5,
             "#f7f7f7"
            ],
            [
             0.6,
             "#e6f5d0"
            ],
            [
             0.7,
             "#b8e186"
            ],
            [
             0.8,
             "#7fbc41"
            ],
            [
             0.9,
             "#4d9221"
            ],
            [
             1,
             "#276419"
            ]
           ],
           "sequential": [
            [
             0,
             "#0d0887"
            ],
            [
             0.1111111111111111,
             "#46039f"
            ],
            [
             0.2222222222222222,
             "#7201a8"
            ],
            [
             0.3333333333333333,
             "#9c179e"
            ],
            [
             0.4444444444444444,
             "#bd3786"
            ],
            [
             0.5555555555555556,
             "#d8576b"
            ],
            [
             0.6666666666666666,
             "#ed7953"
            ],
            [
             0.7777777777777778,
             "#fb9f3a"
            ],
            [
             0.8888888888888888,
             "#fdca26"
            ],
            [
             1,
             "#f0f921"
            ]
           ],
           "sequentialminus": [
            [
             0,
             "#0d0887"
            ],
            [
             0.1111111111111111,
             "#46039f"
            ],
            [
             0.2222222222222222,
             "#7201a8"
            ],
            [
             0.3333333333333333,
             "#9c179e"
            ],
            [
             0.4444444444444444,
             "#bd3786"
            ],
            [
             0.5555555555555556,
             "#d8576b"
            ],
            [
             0.6666666666666666,
             "#ed7953"
            ],
            [
             0.7777777777777778,
             "#fb9f3a"
            ],
            [
             0.8888888888888888,
             "#fdca26"
            ],
            [
             1,
             "#f0f921"
            ]
           ]
          },
          "colorway": [
           "#636efa",
           "#EF553B",
           "#00cc96",
           "#ab63fa",
           "#FFA15A",
           "#19d3f3",
           "#FF6692",
           "#B6E880",
           "#FF97FF",
           "#FECB52"
          ],
          "font": {
           "color": "#2a3f5f"
          },
          "geo": {
           "bgcolor": "white",
           "lakecolor": "white",
           "landcolor": "#E5ECF6",
           "showlakes": true,
           "showland": true,
           "subunitcolor": "white"
          },
          "hoverlabel": {
           "align": "left"
          },
          "hovermode": "closest",
          "mapbox": {
           "style": "light"
          },
          "paper_bgcolor": "white",
          "plot_bgcolor": "#E5ECF6",
          "polar": {
           "angularaxis": {
            "gridcolor": "white",
            "linecolor": "white",
            "ticks": ""
           },
           "bgcolor": "#E5ECF6",
           "radialaxis": {
            "gridcolor": "white",
            "linecolor": "white",
            "ticks": ""
           }
          },
          "scene": {
           "xaxis": {
            "backgroundcolor": "#E5ECF6",
            "gridcolor": "white",
            "gridwidth": 2,
            "linecolor": "white",
            "showbackground": true,
            "ticks": "",
            "zerolinecolor": "white"
           },
           "yaxis": {
            "backgroundcolor": "#E5ECF6",
            "gridcolor": "white",
            "gridwidth": 2,
            "linecolor": "white",
            "showbackground": true,
            "ticks": "",
            "zerolinecolor": "white"
           },
           "zaxis": {
            "backgroundcolor": "#E5ECF6",
            "gridcolor": "white",
            "gridwidth": 2,
            "linecolor": "white",
            "showbackground": true,
            "ticks": "",
            "zerolinecolor": "white"
           }
          },
          "shapedefaults": {
           "line": {
            "color": "#2a3f5f"
           }
          },
          "ternary": {
           "aaxis": {
            "gridcolor": "white",
            "linecolor": "white",
            "ticks": ""
           },
           "baxis": {
            "gridcolor": "white",
            "linecolor": "white",
            "ticks": ""
           },
           "bgcolor": "#E5ECF6",
           "caxis": {
            "gridcolor": "white",
            "linecolor": "white",
            "ticks": ""
           }
          },
          "title": {
           "x": 0.05
          },
          "xaxis": {
           "automargin": true,
           "gridcolor": "white",
           "linecolor": "white",
           "ticks": "",
           "title": {
            "standoff": 15
           },
           "zerolinecolor": "white",
           "zerolinewidth": 2
          },
          "yaxis": {
           "automargin": true,
           "gridcolor": "white",
           "linecolor": "white",
           "ticks": "",
           "title": {
            "standoff": 15
           },
           "zerolinecolor": "white",
           "zerolinewidth": 2
          }
         }
        }
       }
      },
      "text/html": [
       "<div>                            <div id=\"0a1aea4c-79ec-44eb-b93d-10fc44aefefc\" class=\"plotly-graph-div\" style=\"height:525px; width:100%;\"></div>            <script type=\"text/javascript\">                require([\"plotly\"], function(Plotly) {                    window.PLOTLYENV=window.PLOTLYENV || {};                                    if (document.getElementById(\"0a1aea4c-79ec-44eb-b93d-10fc44aefefc\")) {                    Plotly.newPlot(                        \"0a1aea4c-79ec-44eb-b93d-10fc44aefefc\",                        [{\"hovertemplate\":\"\\uc704\\ub3c4=%{lat}<br>\\uacbd\\ub3c4=%{lon}<extra></extra>\",\"lat\":[37.5011839406236,37.65888882945633,37.5067075025853,37.5776087830657,37.5162738482712,35.1585232170784,37.5776087830657,37.5829185302128,35.836252574629924,36.801517403322485,37.56318453011765,35.8347762643542,35.859463234034216,37.5733610774662,37.523644471292,36.5389828267328,37.579655957334666,37.54350999974003,35.1636479638612,33.379777816446165,37.5776087830657,37.5663998518998,33.379777816446165,37.5655638710672,37.6834586643041,37.6561360415672,37.8034055083125,33.379777816446165,37.5532101173212,37.5251230282347,35.077914827298564,37.2869569586225,37.5292974433415,37.5345613066561,37.51131840799449,37.5829185302128,37.5773619926369,35.0843514968685,37.551279740966,38.1870016232572,37.55662311414043,37.5513049702718,35.09630012826786,35.49245838418908,37.6678291470139,33.433068041140075,35.8148243087693,35.18840281721384,34.7993798051192,37.601590273158,37.5568707448873,37.551279740966,36.09178603992931,37.393063959939425,37.60759496019467,37.51260447840551,35.0759454359851,37.5568707448873,37.265249076094435,37.4812845080678,38.19073872774693,37.5464440372535,37.53553394236617,35.16864392798528,35.78991466172384,37.5126453850716,37.3852045127064,37.5553965854703,37.551279740966,34.7472004533232,37.525872071029134,35.077914827298564,37.2891526817361,34.7159597989524,37.5734371942191,37.5755140820249,38.086979634132064,37.5794572790689,37.58056966858,35.1683562959139,37.7443338073502,37.5443222301513,37.53694681778275,38.330684523846,37.550874837441,37.5814300334622,37.559266655452944,36.8617986925507,37.5060750627914,33.5070789578184,37.5389267976167,35.78991466172384,36.34937377597455,33.23799399299591,35.83991953035569,35.8153866450026,33.5574388587079,35.2599067631886,35.8325754812219,37.5267558230172,38.19005288814373,37.1731740067772,35.160294214382716,37.5673174505789,37.20070867365914,36.5389828267328,37.754025117657804,37.55741631573425,37.5707881525953,35.8393348165945,36.8202720226268,33.39670048068425,35.4039187841942,37.37444621363425,35.376629428188,37.572602860810186,37.557560076670406,38.11912517931733,35.9035176790886,37.2810757709683,37.5240180044574,36.9693643407795,35.8734567463177,36.9888245349883,37.52638860108943,37.791693560311764,35.85322716591636,34.7520046170979,37.8459392886988,33.30591328662081,36.090673138304794,37.57262064091815,37.7041173279199,37.5061925878659,37.4817352855088,35.8576028148564,37.5553965854703,37.5812412820636,36.9946987212414,37.5696563183315,37.5387990752117,37.309429480381965,35.793265323781796,35.8230232153817,35.64738481498588,33.4973768007144,37.5097007912995,35.8688125525419,35.6098047788115,37.444805807258284,37.55694938489218,33.384959730607484,37.5128899169357,34.6459942292734,37.39279718014944,33.4134970849722,37.5258560246182,34.7746677942101,33.556469394054,37.881563852256,35.0809607224399,36.3599709654818,37.58159343708794,37.44446951034434,37.9124066163012,36.09178603992931,35.8148243087693,36.0780561712913,35.9427148480857,37.566564293688046,37.7091842052891,37.5061925878659,37.496762602171,37.5819066700213,33.23738579332568,37.274004218418,37.2410536000124,35.2325069110201,37.5356239765187,35.1297738339819,35.99322180644562,36.9800186509059,34.778856828051,37.2178921385733,37.8136129609739,33.3001768930001,35.4573561334282,37.5345613066561,37.56855522765132,35.83814999833691,37.5054540071803,33.3766655632143,35.0497986701075,37.5904038281362,37.5546788388674,35.18976821689522,35.3491062321099,36.76607895585671,35.859463234034216,37.791693560311764,37.1722091969137,36.4043358392606,37.74576283456182,37.5700282666334,37.505305732081965,37.56318453011765,35.2522665805712,35.7997197025815,36.86958468483109,34.2972777904718,37.5249188066868,35.2587639061243,37.596101261945115,34.9287726805087,35.159055286783726,37.55436171647713,35.32783714533351,37.29523923083522,37.443733481274116,36.35431246580609,37.2869569586225,34.458647690794,37.57395881968132,35.1585232170784,37.32628054915,38.125432743310995,36.98644142519413,37.5251230282347,37.572602860810186,36.3102317300706,33.45360917744684,36.794336572165605,37.56052658245116,37.055099525434,37.536466542454704,33.3766655632143,37.5454930733426,37.9056769537632,37.49863528388638,35.19008018357494,37.53366503676396,35.7666974629935,37.8034055083125,36.975676669087555,37.288861484847935,33.3122913114541,33.30269882152763,35.180877561285,34.751857862358,35.1033668597923,37.5563194254356,37.579655957334666,35.48586234622641,37.4717375833542,37.5655638710672,34.93361421021188,35.22736538649052,35.3213392252201,35.244418104542,37.6561360415672,37.4792312923908,35.1888262720926,35.0966427839943,37.2916012072667,37.6380555024502,35.31542378931977,34.80007258001897,37.846716002441,37.5542342319296,36.980412626252004,37.5794165384496,37.51131985755065,37.50683151565546,35.3212737647328,37.5743520602942,37.5691469686793,36.07727115244759,33.3477698762559,37.879202219338964,37.5738804844666,37.54885386444588,37.51766013568054,34.8609806474228,36.9238607086271,37.51131985755065,37.5634787135925,37.5729471865215,35.8498531247183,34.7446210175676,35.33689768203783,33.4506575078278,37.5132992896972,37.5444609837908,37.55727196379093,36.5016873730712,37.572602860810186,34.789908703139815,37.392686041267964,37.58056966858,37.5277755239083,33.314642147414716,37.5097007912995,36.2893534027601,37.4072182744526,35.1565648156251,37.551279740966,37.5217984491514,36.7823407033401,37.5533982943712,37.51710523750273,35.0843514968685,37.5250892160129,37.5347227952064,34.32641522933002,38.027834441415756,35.20704387774388,37.5640659343577,37.4789518575993,37.5250892160129,38.027834441415756,34.7156527529844,36.8763315980983,35.6179888999587,38.20131750285376,38.1885435402464,38.14840757932009,37.6414862798216,37.5178641354045,36.7847886254004,33.3938660776221,37.579416508351756,35.13006010998375,35.8230232153817,37.5258272783362,37.544782395189884,34.76929638286456,35.8357176888121,37.5659384342432,33.3192727556025,33.4102777124648,37.5577861212588,37.572600127753,37.58204391787134,37.5781910083009,37.793478014947176,37.0796073834165,37.00142079940585,37.5134889443798,37.512763958426994,37.6888241058484,35.1542799667248,36.757500292632194,37.5443222301513,38.14840757932009,37.2891526817361,37.4069785670025,37.5794165384496,35.05231978605008,37.67041236668757,37.2843652555841,36.826515513863,35.1565648156251,37.16783438705687,36.7389780733683,37.4360557449009,36.79492737110112,37.58657325133722,34.7920224100901,37.57943602295691,36.9256206705394,37.5620769169639,37.5311524042719,37.55147044344215,37.24291020655134,33.3938660776221,36.9888245349883,36.96022981505894,35.836252574629924,35.2317517351976,37.2819144990562,37.550874837441,37.562544705628845,37.6499534973208,35.8148243087693,37.3695742289207,37.5705616588662,37.58079664277135],\"legendgroup\":\"\",\"lon\":[127.127815880474,127.00902108350806,127.062417480704,126.976896737645,127.059936935972,129.159854668484,126.976896737645,126.983384576672,129.28206598992438,126.70425227542555,126.98735609674071,129.226975518857,129.22462891150363,126.98561901337,127.296265770522,128.518141153901,126.99099980568673,127.07736428035886,129.158897240251,126.54587355630036,126.976896737645,126.974228917679,126.54587355630036,126.974894754989,129.043942880667,126.764141543966,128.910210247605,126.54587355630036,127.04650833192,127.033904321455,129.04528136992104,127.011795743342,127.06892112991,126.99580922812,127.05977688598037,126.983384576672,126.812982917632,129.023884011736,126.988217046052,127.295051714024,126.97029718561329,126.988230622132,129.00942831915552,129.43997358942727,126.891375864068,126.92784588473428,127.152557091072,129.2231430744025,126.37004340188588,126.980658058024,126.923778562273,126.988217046052,128.30022515965544,126.63862968940775,126.94698432423915,127.10255558658325,129.016954361828,126.923778562273,127.03773328597492,126.952713197762,128.6026902136017,127.043028992489,127.01107672502562,129.12907174004943,129.3318426090494,126.998407429526,126.644321136016,126.923580878826,126.988217046052,126.123068555346,126.92844612411159,129.04528136992104,126.576767387831,127.077901795169,126.989775723896,126.973161662111,128.66567114107605,126.98623370164968,127.007521763748,129.057403818219,127.352879287719,127.037617759165,126.97712765885771,128.52791763044,126.925554591431,126.982995455867,126.99474848811892,126.680274129173,127.006989504898,126.492769004244,127.075691738059,129.3318426090494,127.44283611814183,126.42601744245376,127.16703747285135,127.149729902972,126.759313988844,129.2337567183556,129.218916244204,127.039152029523,128.60409847805983,128.210563520673,129.16921767452897,127.012156747242,127.09791931212142,128.518141153901,128.8986237900098,127.04563269772498,126.968649079046,129.209645417434,126.786202307818,126.34501060259869,127.379781364826,126.72699245516932,126.541930122074,126.97691639601517,126.92673403106848,128.4653615314634,127.244621143181,127.901240966763,126.98021428621992,127.686277334127,129.224803247841,128.381696108875,126.93512931714196,127.52508704819692,128.56658131032162,127.982950534007,126.755066002582,126.28948929546861,128.6829120891451,126.97572100551191,127.449526160321,130.860436808926,126.953400331123,128.493305496557,126.923580878826,127.013460953369,128.394365136642,126.986756202034,127.072469149139,126.85402320176591,129.31442381576682,126.413021905999,128.73401526249253,126.452690819027,126.994629809971,128.601899941122,127.106394994292,126.70202482900666,126.97924358947482,126.8014989334944,127.011419491429,128.354324208877,127.11204751299005,126.75249576943,126.938335843486,128.641526158522,126.795805057888,128.831632543833,128.880777531551,127.357441439393,127.00002264258504,126.96389684735281,128.817101815108,128.30022515965544,127.152557091072,129.56973687334,128.640979002345,126.9886017493288,126.448555072944,130.860436808926,126.903375887306,126.969590881263,126.51530966206293,128.269224624107,131.867131133737,129.085043957321,127.131006444371,128.66414743693417,128.70424240980597,128.089589648044,127.74547599836,128.350250066542,128.897555797396,126.581329667008,126.842176502122,126.99580922812,126.98611119582282,129.21233472051617,127.435383773457,126.54222094512,126.998084023012,126.96590530631,126.970606917394,129.16092855712827,128.72753813773,126.88621540935412,129.22462891150363,127.52508704819692,126.624022794909,127.443867959344,126.48512011720544,126.998949546525,127.00432032924516,126.98735609674071,128.52020788659,128.522017358965,127.09450058089298,126.525759259436,128.29346806836,129.11115698248,126.8287096301388,127.499428647615,129.1432468763072,127.11111536900728,126.98593088715316,127.09320559948202,129.1721095466655,127.2274765131647,127.011795743342,127.170421064803,126.98185608504004,129.159854668484,129.020854083678,128.62797761765904,128.3707336533801,127.033904321455,126.97691639601517,126.513481592784,126.75493209633262,128.90855269828214,126.98065056929003,127.107452249043,126.97268914033664,126.54222094512,127.223691197241,127.309075181161,127.02699400109375,129.0583269466769,130.85801686732108,127.42842556854852,128.910210247605,127.91063602656168,127.01424321158507,126.464872004233,126.17939805346123,128.82930509028,128.019651638573,129.026656923019,126.923919460392,126.99099980568673,126.90551576766015,126.599231057618,126.974894754989,128.0531970700861,126.84160373760274,128.333084128219,129.222422056745,126.764141543966,129.159872201438,126.830909782424,129.038556199948,127.065839176278,126.946908304654,128.3554204104681,128.03855022577358,127.680384838921,129.118563356819,128.33957027965465,126.995199911733,127.09806349478795,127.03150850797986,128.333135836739,126.984731319433,126.978647068151,129.56937281614944,126.327321076199,127.09200199922985,126.989784719392,126.9076473683962,126.95803386590158,128.629541086564,126.378645566605,127.09806349478795,126.983742033809,127.008544323564,127.16180338402,128.663149179091,127.73061844800158,126.304673157235,127.12572365099,126.968542424231,126.92854060363454,126.367114705763,126.97691639601517,126.37263283814109,126.97362787618033,127.007521763748,127.039849452704,126.27365976756127,126.994629809971,127.397754143625,126.634896508214,129.152021092751,126.988217046052,126.983574610978,126.963651944548,127.23669542465,126.90307140055172,129.023884011736,126.947545050571,126.9865496751,126.7493296342443,128.71728231189653,128.57465000540392,126.982157296677,127.507031264905,126.947545050571,128.71728231189653,127.078774842327,128.082282626708,126.587442267334,128.58707395545795,128.603803997428,128.39306480593385,126.939092437378,126.959097047391,126.140426408147,126.239157539085,126.94140269870839,126.99352658092204,126.413021905999,126.915221437055,127.05820807890457,128.71165107261427,128.556467234482,126.973740099183,126.385969459857,126.227348369237,126.913279343754,127.01808924966633,127.00194500977393,127.008069450086,128.54263897286106,129.201347222599,128.3999812135974,126.949951101496,127.05727267755724,128.59761535621,129.127000968254,127.31693061688969,127.037617759165,128.39306480593385,126.576767387831,128.512570778605,126.995199911733,129.09196967936862,126.99086417405317,127.066933469349,127.137804236908,129.152021092751,127.10452210465446,126.133584005,127.006752481821,126.14639472308825,126.9748537345249,126.425759127126,126.88942135174955,128.580202883743,126.984901336292,126.837852623984,127.08378909469191,127.08118995506915,126.239157539085,128.381696108875,128.33236426859264,129.28206598992438,129.085358507657,127.014041185109,126.925554591431,126.94765009467245,127.68691203933,127.152557091072,127.110089261499,127.000633898859,127.00863578989066],\"marker\":{\"color\":\"#636efa\"},\"mode\":\"markers\",\"name\":\"\",\"showlegend\":false,\"subplot\":\"mapbox\",\"type\":\"scattermapbox\"}],                        {\"template\":{\"data\":{\"bar\":[{\"error_x\":{\"color\":\"#2a3f5f\"},\"error_y\":{\"color\":\"#2a3f5f\"},\"marker\":{\"line\":{\"color\":\"#E5ECF6\",\"width\":0.5},\"pattern\":{\"fillmode\":\"overlay\",\"size\":10,\"solidity\":0.2}},\"type\":\"bar\"}],\"barpolar\":[{\"marker\":{\"line\":{\"color\":\"#E5ECF6\",\"width\":0.5},\"pattern\":{\"fillmode\":\"overlay\",\"size\":10,\"solidity\":0.2}},\"type\":\"barpolar\"}],\"carpet\":[{\"aaxis\":{\"endlinecolor\":\"#2a3f5f\",\"gridcolor\":\"white\",\"linecolor\":\"white\",\"minorgridcolor\":\"white\",\"startlinecolor\":\"#2a3f5f\"},\"baxis\":{\"endlinecolor\":\"#2a3f5f\",\"gridcolor\":\"white\",\"linecolor\":\"white\",\"minorgridcolor\":\"white\",\"startlinecolor\":\"#2a3f5f\"},\"type\":\"carpet\"}],\"choropleth\":[{\"colorbar\":{\"outlinewidth\":0,\"ticks\":\"\"},\"type\":\"choropleth\"}],\"contour\":[{\"colorbar\":{\"outlinewidth\":0,\"ticks\":\"\"},\"colorscale\":[[0.0,\"#0d0887\"],[0.1111111111111111,\"#46039f\"],[0.2222222222222222,\"#7201a8\"],[0.3333333333333333,\"#9c179e\"],[0.4444444444444444,\"#bd3786\"],[0.5555555555555556,\"#d8576b\"],[0.6666666666666666,\"#ed7953\"],[0.7777777777777778,\"#fb9f3a\"],[0.8888888888888888,\"#fdca26\"],[1.0,\"#f0f921\"]],\"type\":\"contour\"}],\"contourcarpet\":[{\"colorbar\":{\"outlinewidth\":0,\"ticks\":\"\"},\"type\":\"contourcarpet\"}],\"heatmap\":[{\"colorbar\":{\"outlinewidth\":0,\"ticks\":\"\"},\"colorscale\":[[0.0,\"#0d0887\"],[0.1111111111111111,\"#46039f\"],[0.2222222222222222,\"#7201a8\"],[0.3333333333333333,\"#9c179e\"],[0.4444444444444444,\"#bd3786\"],[0.5555555555555556,\"#d8576b\"],[0.6666666666666666,\"#ed7953\"],[0.7777777777777778,\"#fb9f3a\"],[0.8888888888888888,\"#fdca26\"],[1.0,\"#f0f921\"]],\"type\":\"heatmap\"}],\"heatmapgl\":[{\"colorbar\":{\"outlinewidth\":0,\"ticks\":\"\"},\"colorscale\":[[0.0,\"#0d0887\"],[0.1111111111111111,\"#46039f\"],[0.2222222222222222,\"#7201a8\"],[0.3333333333333333,\"#9c179e\"],[0.4444444444444444,\"#bd3786\"],[0.5555555555555556,\"#d8576b\"],[0.6666666666666666,\"#ed7953\"],[0.7777777777777778,\"#fb9f3a\"],[0.8888888888888888,\"#fdca26\"],[1.0,\"#f0f921\"]],\"type\":\"heatmapgl\"}],\"histogram\":[{\"marker\":{\"pattern\":{\"fillmode\":\"overlay\",\"size\":10,\"solidity\":0.2}},\"type\":\"histogram\"}],\"histogram2d\":[{\"colorbar\":{\"outlinewidth\":0,\"ticks\":\"\"},\"colorscale\":[[0.0,\"#0d0887\"],[0.1111111111111111,\"#46039f\"],[0.2222222222222222,\"#7201a8\"],[0.3333333333333333,\"#9c179e\"],[0.4444444444444444,\"#bd3786\"],[0.5555555555555556,\"#d8576b\"],[0.6666666666666666,\"#ed7953\"],[0.7777777777777778,\"#fb9f3a\"],[0.8888888888888888,\"#fdca26\"],[1.0,\"#f0f921\"]],\"type\":\"histogram2d\"}],\"histogram2dcontour\":[{\"colorbar\":{\"outlinewidth\":0,\"ticks\":\"\"},\"colorscale\":[[0.0,\"#0d0887\"],[0.1111111111111111,\"#46039f\"],[0.2222222222222222,\"#7201a8\"],[0.3333333333333333,\"#9c179e\"],[0.4444444444444444,\"#bd3786\"],[0.5555555555555556,\"#d8576b\"],[0.6666666666666666,\"#ed7953\"],[0.7777777777777778,\"#fb9f3a\"],[0.8888888888888888,\"#fdca26\"],[1.0,\"#f0f921\"]],\"type\":\"histogram2dcontour\"}],\"mesh3d\":[{\"colorbar\":{\"outlinewidth\":0,\"ticks\":\"\"},\"type\":\"mesh3d\"}],\"parcoords\":[{\"line\":{\"colorbar\":{\"outlinewidth\":0,\"ticks\":\"\"}},\"type\":\"parcoords\"}],\"pie\":[{\"automargin\":true,\"type\":\"pie\"}],\"scatter\":[{\"marker\":{\"colorbar\":{\"outlinewidth\":0,\"ticks\":\"\"}},\"type\":\"scatter\"}],\"scatter3d\":[{\"line\":{\"colorbar\":{\"outlinewidth\":0,\"ticks\":\"\"}},\"marker\":{\"colorbar\":{\"outlinewidth\":0,\"ticks\":\"\"}},\"type\":\"scatter3d\"}],\"scattercarpet\":[{\"marker\":{\"colorbar\":{\"outlinewidth\":0,\"ticks\":\"\"}},\"type\":\"scattercarpet\"}],\"scattergeo\":[{\"marker\":{\"colorbar\":{\"outlinewidth\":0,\"ticks\":\"\"}},\"type\":\"scattergeo\"}],\"scattergl\":[{\"marker\":{\"colorbar\":{\"outlinewidth\":0,\"ticks\":\"\"}},\"type\":\"scattergl\"}],\"scattermapbox\":[{\"marker\":{\"colorbar\":{\"outlinewidth\":0,\"ticks\":\"\"}},\"type\":\"scattermapbox\"}],\"scatterpolar\":[{\"marker\":{\"colorbar\":{\"outlinewidth\":0,\"ticks\":\"\"}},\"type\":\"scatterpolar\"}],\"scatterpolargl\":[{\"marker\":{\"colorbar\":{\"outlinewidth\":0,\"ticks\":\"\"}},\"type\":\"scatterpolargl\"}],\"scatterternary\":[{\"marker\":{\"colorbar\":{\"outlinewidth\":0,\"ticks\":\"\"}},\"type\":\"scatterternary\"}],\"surface\":[{\"colorbar\":{\"outlinewidth\":0,\"ticks\":\"\"},\"colorscale\":[[0.0,\"#0d0887\"],[0.1111111111111111,\"#46039f\"],[0.2222222222222222,\"#7201a8\"],[0.3333333333333333,\"#9c179e\"],[0.4444444444444444,\"#bd3786\"],[0.5555555555555556,\"#d8576b\"],[0.6666666666666666,\"#ed7953\"],[0.7777777777777778,\"#fb9f3a\"],[0.8888888888888888,\"#fdca26\"],[1.0,\"#f0f921\"]],\"type\":\"surface\"}],\"table\":[{\"cells\":{\"fill\":{\"color\":\"#EBF0F8\"},\"line\":{\"color\":\"white\"}},\"header\":{\"fill\":{\"color\":\"#C8D4E3\"},\"line\":{\"color\":\"white\"}},\"type\":\"table\"}]},\"layout\":{\"annotationdefaults\":{\"arrowcolor\":\"#2a3f5f\",\"arrowhead\":0,\"arrowwidth\":1},\"autotypenumbers\":\"strict\",\"coloraxis\":{\"colorbar\":{\"outlinewidth\":0,\"ticks\":\"\"}},\"colorscale\":{\"diverging\":[[0,\"#8e0152\"],[0.1,\"#c51b7d\"],[0.2,\"#de77ae\"],[0.3,\"#f1b6da\"],[0.4,\"#fde0ef\"],[0.5,\"#f7f7f7\"],[0.6,\"#e6f5d0\"],[0.7,\"#b8e186\"],[0.8,\"#7fbc41\"],[0.9,\"#4d9221\"],[1,\"#276419\"]],\"sequential\":[[0.0,\"#0d0887\"],[0.1111111111111111,\"#46039f\"],[0.2222222222222222,\"#7201a8\"],[0.3333333333333333,\"#9c179e\"],[0.4444444444444444,\"#bd3786\"],[0.5555555555555556,\"#d8576b\"],[0.6666666666666666,\"#ed7953\"],[0.7777777777777778,\"#fb9f3a\"],[0.8888888888888888,\"#fdca26\"],[1.0,\"#f0f921\"]],\"sequentialminus\":[[0.0,\"#0d0887\"],[0.1111111111111111,\"#46039f\"],[0.2222222222222222,\"#7201a8\"],[0.3333333333333333,\"#9c179e\"],[0.4444444444444444,\"#bd3786\"],[0.5555555555555556,\"#d8576b\"],[0.6666666666666666,\"#ed7953\"],[0.7777777777777778,\"#fb9f3a\"],[0.8888888888888888,\"#fdca26\"],[1.0,\"#f0f921\"]]},\"colorway\":[\"#636efa\",\"#EF553B\",\"#00cc96\",\"#ab63fa\",\"#FFA15A\",\"#19d3f3\",\"#FF6692\",\"#B6E880\",\"#FF97FF\",\"#FECB52\"],\"font\":{\"color\":\"#2a3f5f\"},\"geo\":{\"bgcolor\":\"white\",\"lakecolor\":\"white\",\"landcolor\":\"#E5ECF6\",\"showlakes\":true,\"showland\":true,\"subunitcolor\":\"white\"},\"hoverlabel\":{\"align\":\"left\"},\"hovermode\":\"closest\",\"mapbox\":{\"style\":\"light\"},\"paper_bgcolor\":\"white\",\"plot_bgcolor\":\"#E5ECF6\",\"polar\":{\"angularaxis\":{\"gridcolor\":\"white\",\"linecolor\":\"white\",\"ticks\":\"\"},\"bgcolor\":\"#E5ECF6\",\"radialaxis\":{\"gridcolor\":\"white\",\"linecolor\":\"white\",\"ticks\":\"\"}},\"scene\":{\"xaxis\":{\"backgroundcolor\":\"#E5ECF6\",\"gridcolor\":\"white\",\"gridwidth\":2,\"linecolor\":\"white\",\"showbackground\":true,\"ticks\":\"\",\"zerolinecolor\":\"white\"},\"yaxis\":{\"backgroundcolor\":\"#E5ECF6\",\"gridcolor\":\"white\",\"gridwidth\":2,\"linecolor\":\"white\",\"showbackground\":true,\"ticks\":\"\",\"zerolinecolor\":\"white\"},\"zaxis\":{\"backgroundcolor\":\"#E5ECF6\",\"gridcolor\":\"white\",\"gridwidth\":2,\"linecolor\":\"white\",\"showbackground\":true,\"ticks\":\"\",\"zerolinecolor\":\"white\"}},\"shapedefaults\":{\"line\":{\"color\":\"#2a3f5f\"}},\"ternary\":{\"aaxis\":{\"gridcolor\":\"white\",\"linecolor\":\"white\",\"ticks\":\"\"},\"baxis\":{\"gridcolor\":\"white\",\"linecolor\":\"white\",\"ticks\":\"\"},\"bgcolor\":\"#E5ECF6\",\"caxis\":{\"gridcolor\":\"white\",\"linecolor\":\"white\",\"ticks\":\"\"}},\"title\":{\"x\":0.05},\"xaxis\":{\"automargin\":true,\"gridcolor\":\"white\",\"linecolor\":\"white\",\"ticks\":\"\",\"title\":{\"standoff\":15},\"zerolinecolor\":\"white\",\"zerolinewidth\":2},\"yaxis\":{\"automargin\":true,\"gridcolor\":\"white\",\"linecolor\":\"white\",\"ticks\":\"\",\"title\":{\"standoff\":15},\"zerolinecolor\":\"white\",\"zerolinewidth\":2}}},\"mapbox\":{\"domain\":{\"x\":[0.0,1.0],\"y\":[0.0,1.0]},\"center\":{\"lat\":36.60827039193356,\"lon\":127.53270254546382},\"zoom\":6,\"style\":\"open-street-map\"},\"legend\":{\"tracegroupgap\":0},\"margin\":{\"t\":60}},                        {\"responsive\": true}                    ).then(function(){\n",
       "                            \n",
       "var gd = document.getElementById('0a1aea4c-79ec-44eb-b93d-10fc44aefefc');\n",
       "var x = new MutationObserver(function (mutations, observer) {{\n",
       "        var display = window.getComputedStyle(gd).display;\n",
       "        if (!display || display === 'none') {{\n",
       "            console.log([gd, 'removed!']);\n",
       "            Plotly.purge(gd);\n",
       "            observer.disconnect();\n",
       "        }}\n",
       "}});\n",
       "\n",
       "// Listen for the removal of the full notebook cells\n",
       "var notebookContainer = gd.closest('#notebook-container');\n",
       "if (notebookContainer) {{\n",
       "    x.observe(notebookContainer, {childList: true});\n",
       "}}\n",
       "\n",
       "// Listen for the clearing of the current output cell\n",
       "var outputEl = gd.closest('.output');\n",
       "if (outputEl) {{\n",
       "    x.observe(outputEl, {childList: true});\n",
       "}}\n",
       "\n",
       "                        })                };                });            </script>        </div>"
      ]
     },
     "metadata": {},
     "output_type": "display_data"
    }
   ],
   "source": [
    "fig = px.scatter_mapbox(locations_inform_df, lat='위도', lon='경도', size_max=400, zoom=6)\n",
    "fig.update_layout(mapbox_style = 'open-street-map')\n",
    "fig.show()"
   ]
  },
  {
   "cell_type": "code",
   "execution_count": 12,
   "id": "0e7fb617",
   "metadata": {},
   "outputs": [],
   "source": [
    "# End of File"
   ]
  }
 ],
 "metadata": {
  "kernelspec": {
   "display_name": "Python 3 (ipykernel)",
   "language": "python",
   "name": "python3"
  },
  "language_info": {
   "codemirror_mode": {
    "name": "ipython",
    "version": 3
   },
   "file_extension": ".py",
   "mimetype": "text/x-python",
   "name": "python",
   "nbconvert_exporter": "python",
   "pygments_lexer": "ipython3",
   "version": "3.9.12"
  }
 },
 "nbformat": 4,
 "nbformat_minor": 5
}
