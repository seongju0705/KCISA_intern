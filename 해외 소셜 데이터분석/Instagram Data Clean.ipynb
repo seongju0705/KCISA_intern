{
 "cells": [
  {
   "cell_type": "markdown",
   "id": "b21f90c1",
   "metadata": {},
   "source": [
    "# Instagram Data Clean\n",
    "- 데이터 정제(특수문자 제거, 중복 제거)\n",
    "- 대상여부 컬럼 추가"
   ]
  },
  {
   "cell_type": "markdown",
   "id": "b9bdc4e5",
   "metadata": {},
   "source": [
    "### content 확인하기"
   ]
  },
  {
   "cell_type": "code",
   "execution_count": 1,
   "id": "b9972b44",
   "metadata": {},
   "outputs": [],
   "source": [
    "import pandas as pd\n",
    "import numpy as np\n",
    "import re"
   ]
  },
  {
   "cell_type": "code",
   "execution_count": 2,
   "id": "6cbdfeb5",
   "metadata": {},
   "outputs": [],
   "source": [
    "df = pd.read_csv('./data/koreagram_2020.csv', encoding='utf-8-sig')"
   ]
  },
  {
   "cell_type": "code",
   "execution_count": 3,
   "id": "5892d42d",
   "metadata": {
    "scrolled": true
   },
   "outputs": [
    {
     "data": {
      "text/plain": [
       "0       Bts' spot! ?? Aquela que fez quest?o de sentar...\n",
       "1       Happy new year!????It's the new year in Korea!...\n",
       "2       #사진산책 #happynewyear.새해에는 행복 가득하길!.새해 복 많이 받으세요...\n",
       "3       ??happy  new year ???2021年も素敵なソイングクと??????????...\n",
       "4       Feliz a?o nuevo a todos!!! Espero que se cumpl...\n",
       "                              ...                        \n",
       "4087    Nouvelle ann?e, nouveau pays, me voici en Cor?...\n",
       "4088    Lights at Cheonggyecheon Stream? 。。。。。。。。#Cheo...\n",
       "4089    In the Seoul Sky! ???Views from the tallest bu...\n",
       "4090    Hello 2020 ??..... #seoul #seoulkora #seoultra...\n",
       "4091    한국 ????~#laterspamming#sorrynotsorry#seoullove...\n",
       "Name: content, Length: 4092, dtype: object"
      ]
     },
     "execution_count": 3,
     "metadata": {},
     "output_type": "execute_result"
    }
   ],
   "source": [
    "df['content']"
   ]
  },
  {
   "cell_type": "markdown",
   "id": "0d981391",
   "metadata": {},
   "source": [
    "### 데이터 정제"
   ]
  },
  {
   "cell_type": "code",
   "execution_count": 4,
   "id": "c0bad155",
   "metadata": {},
   "outputs": [
    {
     "data": {
      "text/plain": [
       "0       Bts  spot     Aquela que fez quest o de sentar...\n",
       "1       Happy new year     It s the new year in Korea ...\n",
       "2       #사진산책 #happynewyear 새해에는 행복 가득하길  새해 복 많이 받으세요...\n",
       "3         happy  new year    2021                     ...\n",
       "4       Feliz a o nuevo a todos    Espero que se cumpl...\n",
       "                              ...                        \n",
       "4087    Nouvelle ann e  nouveau pays  me voici en Cor ...\n",
       "4088    Lights at Cheonggyecheon Stream          #Cheo...\n",
       "4089    In the Seoul Sky     Views from the tallest bu...\n",
       "4090    Hello 2020         #seoul #seoulkora #seoultra...\n",
       "4091    한국      #laterspamming#sorrynotsorry#seoullove...\n",
       "Name: content, Length: 4092, dtype: object"
      ]
     },
     "execution_count": 4,
     "metadata": {},
     "output_type": "execute_result"
    }
   ],
   "source": [
    "# 정규표현식 사용 # 제외한 특수문자 제거\n",
    "df['content']= df['content'].str.replace(pat=r'[^A-Za-z0-9가-힣#]',repl=r' ',regex=True)\n",
    "df['content']"
   ]
  },
  {
   "cell_type": "code",
   "execution_count": 5,
   "id": "b2d23670",
   "metadata": {
    "scrolled": false
   },
   "outputs": [
    {
     "data": {
      "text/html": [
       "<div>\n",
       "<style scoped>\n",
       "    .dataframe tbody tr th:only-of-type {\n",
       "        vertical-align: middle;\n",
       "    }\n",
       "\n",
       "    .dataframe tbody tr th {\n",
       "        vertical-align: top;\n",
       "    }\n",
       "\n",
       "    .dataframe thead th {\n",
       "        text-align: right;\n",
       "    }\n",
       "</style>\n",
       "<table border=\"1\" class=\"dataframe\">\n",
       "  <thead>\n",
       "    <tr style=\"text-align: right;\">\n",
       "      <th></th>\n",
       "      <th>content</th>\n",
       "      <th>date</th>\n",
       "      <th>like</th>\n",
       "      <th>place</th>\n",
       "      <th>tags</th>\n",
       "    </tr>\n",
       "  </thead>\n",
       "  <tbody>\n",
       "    <tr>\n",
       "      <th>0</th>\n",
       "      <td>Bts  spot     Aquela que fez quest o de sentar...</td>\n",
       "      <td>2020-12-31</td>\n",
       "      <td>60</td>\n",
       "      <td>The Min's - 더 민스</td>\n",
       "      <td>[]</td>\n",
       "    </tr>\n",
       "    <tr>\n",
       "      <th>1</th>\n",
       "      <td>Happy new year     It s the new year in Korea ...</td>\n",
       "      <td>2020-12-31</td>\n",
       "      <td>840</td>\n",
       "      <td>NaN</td>\n",
       "      <td>[]</td>\n",
       "    </tr>\n",
       "    <tr>\n",
       "      <th>2</th>\n",
       "      <td>#사진산책 #happynewyear 새해에는 행복 가득하길  새해 복 많이 받으세요...</td>\n",
       "      <td>2020-12-31</td>\n",
       "      <td>124</td>\n",
       "      <td>선유도공원</td>\n",
       "      <td>['#사진산책', '#happynewyear.새해에는', '#사진에감성을더하다', ...</td>\n",
       "    </tr>\n",
       "    <tr>\n",
       "      <th>3</th>\n",
       "      <td>happy  new year    2021                     ...</td>\n",
       "      <td>2020-12-31</td>\n",
       "      <td>80</td>\n",
       "      <td>NaN</td>\n",
       "      <td>['#ソインク?ク', '#????????', '#徐仁?', '#seoinguk', ...</td>\n",
       "    </tr>\n",
       "    <tr>\n",
       "      <th>4</th>\n",
       "      <td>Feliz a o nuevo a todos    Espero que se cumpl...</td>\n",
       "      <td>2020-12-31</td>\n",
       "      <td>41</td>\n",
       "      <td>분당구</td>\n",
       "      <td>['#corea', '#coreano', '#coreadelsur', '#a?onu...</td>\n",
       "    </tr>\n",
       "    <tr>\n",
       "      <th>...</th>\n",
       "      <td>...</td>\n",
       "      <td>...</td>\n",
       "      <td>...</td>\n",
       "      <td>...</td>\n",
       "      <td>...</td>\n",
       "    </tr>\n",
       "    <tr>\n",
       "      <th>3582</th>\n",
       "      <td>Nouvelle ann e  nouveau pays  me voici en Cor ...</td>\n",
       "      <td>2020-01-01</td>\n",
       "      <td>492</td>\n",
       "      <td>서울</td>\n",
       "      <td>['#seoul', '#coreedusud', '#southkorea', '#gye...</td>\n",
       "    </tr>\n",
       "    <tr>\n",
       "      <th>3583</th>\n",
       "      <td>Lights at Cheonggyecheon Stream          #Cheo...</td>\n",
       "      <td>2020-01-01</td>\n",
       "      <td>30</td>\n",
       "      <td>청계천 서울 빛초롱 축제</td>\n",
       "      <td>['#CheonggyecheonStream', '#Seoul', '#Korea', ...</td>\n",
       "    </tr>\n",
       "    <tr>\n",
       "      <th>3584</th>\n",
       "      <td>In the Seoul Sky     Views from the tallest bu...</td>\n",
       "      <td>2020-01-01</td>\n",
       "      <td>56</td>\n",
       "      <td>서울스카이 Seoul Sky, Lotte World Tower, Korea</td>\n",
       "      <td>['#TravelBlogger', '#Explore', '#Korea', '#Kor...</td>\n",
       "    </tr>\n",
       "    <tr>\n",
       "      <th>3585</th>\n",
       "      <td>Hello 2020         #seoul #seoulkora #seoultra...</td>\n",
       "      <td>2020-01-01</td>\n",
       "      <td>24</td>\n",
       "      <td>대한민국</td>\n",
       "      <td>['#seoul', '#seoulkora', '#seoultravel', '#kor...</td>\n",
       "    </tr>\n",
       "    <tr>\n",
       "      <th>3586</th>\n",
       "      <td>한국      #laterspamming#sorrynotsorry#seoullove...</td>\n",
       "      <td>2020-01-01</td>\n",
       "      <td>20</td>\n",
       "      <td>Gyeongbokgung</td>\n",
       "      <td>['#laterspamming', '#sorrynotsorry', '#seoullo...</td>\n",
       "    </tr>\n",
       "  </tbody>\n",
       "</table>\n",
       "<p>3587 rows × 5 columns</p>\n",
       "</div>"
      ],
      "text/plain": [
       "                                                content        date like  \\\n",
       "0     Bts  spot     Aquela que fez quest o de sentar...  2020-12-31   60   \n",
       "1     Happy new year     It s the new year in Korea ...  2020-12-31  840   \n",
       "2     #사진산책 #happynewyear 새해에는 행복 가득하길  새해 복 많이 받으세요...  2020-12-31  124   \n",
       "3       happy  new year    2021                     ...  2020-12-31   80   \n",
       "4     Feliz a o nuevo a todos    Espero que se cumpl...  2020-12-31   41   \n",
       "...                                                 ...         ...  ...   \n",
       "3582  Nouvelle ann e  nouveau pays  me voici en Cor ...  2020-01-01  492   \n",
       "3583  Lights at Cheonggyecheon Stream          #Cheo...  2020-01-01   30   \n",
       "3584  In the Seoul Sky     Views from the tallest bu...  2020-01-01   56   \n",
       "3585  Hello 2020         #seoul #seoulkora #seoultra...  2020-01-01   24   \n",
       "3586  한국      #laterspamming#sorrynotsorry#seoullove...  2020-01-01   20   \n",
       "\n",
       "                                          place  \\\n",
       "0                              The Min's - 더 민스   \n",
       "1                                           NaN   \n",
       "2                                         선유도공원   \n",
       "3                                           NaN   \n",
       "4                                           분당구   \n",
       "...                                         ...   \n",
       "3582                                         서울   \n",
       "3583                              청계천 서울 빛초롱 축제   \n",
       "3584  서울스카이 Seoul Sky, Lotte World Tower, Korea   \n",
       "3585                                       대한민국   \n",
       "3586                              Gyeongbokgung   \n",
       "\n",
       "                                                   tags  \n",
       "0                                                    []  \n",
       "1                                                    []  \n",
       "2     ['#사진산책', '#happynewyear.새해에는', '#사진에감성을더하다', ...  \n",
       "3     ['#ソインク?ク', '#????????', '#徐仁?', '#seoinguk', ...  \n",
       "4     ['#corea', '#coreano', '#coreadelsur', '#a?onu...  \n",
       "...                                                 ...  \n",
       "3582  ['#seoul', '#coreedusud', '#southkorea', '#gye...  \n",
       "3583  ['#CheonggyecheonStream', '#Seoul', '#Korea', ...  \n",
       "3584  ['#TravelBlogger', '#Explore', '#Korea', '#Kor...  \n",
       "3585  ['#seoul', '#seoulkora', '#seoultravel', '#kor...  \n",
       "3586  ['#laterspamming', '#sorrynotsorry', '#seoullo...  \n",
       "\n",
       "[3587 rows x 5 columns]"
      ]
     },
     "execution_count": 5,
     "metadata": {},
     "output_type": "execute_result"
    }
   ],
   "source": [
    "# 중복 제거\n",
    "df.drop_duplicates(subset=['content'] , inplace=True)\n",
    "df = df.reset_index(drop=True)\n",
    "df"
   ]
  },
  {
   "cell_type": "code",
   "execution_count": 6,
   "id": "bf17ad3e",
   "metadata": {
    "scrolled": true
   },
   "outputs": [],
   "source": [
    "# 앞 공백 제거\n",
    "df['content'] = df['content'].str.lstrip()"
   ]
  },
  {
   "cell_type": "markdown",
   "id": "4bfda07a",
   "metadata": {},
   "source": [
    "### 대상여부 컬럼 추가"
   ]
  },
  {
   "cell_type": "code",
   "execution_count": 7,
   "id": "1de7b493",
   "metadata": {
    "scrolled": true
   },
   "outputs": [
    {
     "data": {
      "text/html": [
       "<div>\n",
       "<style scoped>\n",
       "    .dataframe tbody tr th:only-of-type {\n",
       "        vertical-align: middle;\n",
       "    }\n",
       "\n",
       "    .dataframe tbody tr th {\n",
       "        vertical-align: top;\n",
       "    }\n",
       "\n",
       "    .dataframe thead th {\n",
       "        text-align: right;\n",
       "    }\n",
       "</style>\n",
       "<table border=\"1\" class=\"dataframe\">\n",
       "  <thead>\n",
       "    <tr style=\"text-align: right;\">\n",
       "      <th></th>\n",
       "      <th>content</th>\n",
       "      <th>date</th>\n",
       "      <th>like</th>\n",
       "      <th>place</th>\n",
       "      <th>tags</th>\n",
       "      <th>대상여부</th>\n",
       "    </tr>\n",
       "  </thead>\n",
       "  <tbody>\n",
       "    <tr>\n",
       "      <th>0</th>\n",
       "      <td>Bts  spot     Aquela que fez quest o de sentar...</td>\n",
       "      <td>2020-12-31</td>\n",
       "      <td>60</td>\n",
       "      <td>The Min's - 더 민스</td>\n",
       "      <td>[]</td>\n",
       "      <td>Y</td>\n",
       "    </tr>\n",
       "    <tr>\n",
       "      <th>1</th>\n",
       "      <td>Happy new year     It s the new year in Korea ...</td>\n",
       "      <td>2020-12-31</td>\n",
       "      <td>840</td>\n",
       "      <td>NaN</td>\n",
       "      <td>[]</td>\n",
       "      <td>Y</td>\n",
       "    </tr>\n",
       "    <tr>\n",
       "      <th>2</th>\n",
       "      <td>#사진산책 #happynewyear 새해에는 행복 가득하길  새해 복 많이 받으세요...</td>\n",
       "      <td>2020-12-31</td>\n",
       "      <td>124</td>\n",
       "      <td>선유도공원</td>\n",
       "      <td>['#사진산책', '#happynewyear.새해에는', '#사진에감성을더하다', ...</td>\n",
       "      <td>Y</td>\n",
       "    </tr>\n",
       "    <tr>\n",
       "      <th>3</th>\n",
       "      <td>happy  new year    2021                      #...</td>\n",
       "      <td>2020-12-31</td>\n",
       "      <td>80</td>\n",
       "      <td>NaN</td>\n",
       "      <td>['#ソインク?ク', '#????????', '#徐仁?', '#seoinguk', ...</td>\n",
       "      <td>Y</td>\n",
       "    </tr>\n",
       "    <tr>\n",
       "      <th>4</th>\n",
       "      <td>Feliz a o nuevo a todos    Espero que se cumpl...</td>\n",
       "      <td>2020-12-31</td>\n",
       "      <td>41</td>\n",
       "      <td>분당구</td>\n",
       "      <td>['#corea', '#coreano', '#coreadelsur', '#a?onu...</td>\n",
       "      <td>Y</td>\n",
       "    </tr>\n",
       "    <tr>\n",
       "      <th>...</th>\n",
       "      <td>...</td>\n",
       "      <td>...</td>\n",
       "      <td>...</td>\n",
       "      <td>...</td>\n",
       "      <td>...</td>\n",
       "      <td>...</td>\n",
       "    </tr>\n",
       "    <tr>\n",
       "      <th>3582</th>\n",
       "      <td>Nouvelle ann e  nouveau pays  me voici en Cor ...</td>\n",
       "      <td>2020-01-01</td>\n",
       "      <td>492</td>\n",
       "      <td>서울</td>\n",
       "      <td>['#seoul', '#coreedusud', '#southkorea', '#gye...</td>\n",
       "      <td>Y</td>\n",
       "    </tr>\n",
       "    <tr>\n",
       "      <th>3583</th>\n",
       "      <td>Lights at Cheonggyecheon Stream          #Cheo...</td>\n",
       "      <td>2020-01-01</td>\n",
       "      <td>30</td>\n",
       "      <td>청계천 서울 빛초롱 축제</td>\n",
       "      <td>['#CheonggyecheonStream', '#Seoul', '#Korea', ...</td>\n",
       "      <td>Y</td>\n",
       "    </tr>\n",
       "    <tr>\n",
       "      <th>3584</th>\n",
       "      <td>In the Seoul Sky     Views from the tallest bu...</td>\n",
       "      <td>2020-01-01</td>\n",
       "      <td>56</td>\n",
       "      <td>서울스카이 Seoul Sky, Lotte World Tower, Korea</td>\n",
       "      <td>['#TravelBlogger', '#Explore', '#Korea', '#Kor...</td>\n",
       "      <td>Y</td>\n",
       "    </tr>\n",
       "    <tr>\n",
       "      <th>3585</th>\n",
       "      <td>Hello 2020         #seoul #seoulkora #seoultra...</td>\n",
       "      <td>2020-01-01</td>\n",
       "      <td>24</td>\n",
       "      <td>대한민국</td>\n",
       "      <td>['#seoul', '#seoulkora', '#seoultravel', '#kor...</td>\n",
       "      <td>Y</td>\n",
       "    </tr>\n",
       "    <tr>\n",
       "      <th>3586</th>\n",
       "      <td>한국      #laterspamming#sorrynotsorry#seoullove...</td>\n",
       "      <td>2020-01-01</td>\n",
       "      <td>20</td>\n",
       "      <td>Gyeongbokgung</td>\n",
       "      <td>['#laterspamming', '#sorrynotsorry', '#seoullo...</td>\n",
       "      <td>Y</td>\n",
       "    </tr>\n",
       "  </tbody>\n",
       "</table>\n",
       "<p>3587 rows × 6 columns</p>\n",
       "</div>"
      ],
      "text/plain": [
       "                                                content        date like  \\\n",
       "0     Bts  spot     Aquela que fez quest o de sentar...  2020-12-31   60   \n",
       "1     Happy new year     It s the new year in Korea ...  2020-12-31  840   \n",
       "2     #사진산책 #happynewyear 새해에는 행복 가득하길  새해 복 많이 받으세요...  2020-12-31  124   \n",
       "3     happy  new year    2021                      #...  2020-12-31   80   \n",
       "4     Feliz a o nuevo a todos    Espero que se cumpl...  2020-12-31   41   \n",
       "...                                                 ...         ...  ...   \n",
       "3582  Nouvelle ann e  nouveau pays  me voici en Cor ...  2020-01-01  492   \n",
       "3583  Lights at Cheonggyecheon Stream          #Cheo...  2020-01-01   30   \n",
       "3584  In the Seoul Sky     Views from the tallest bu...  2020-01-01   56   \n",
       "3585  Hello 2020         #seoul #seoulkora #seoultra...  2020-01-01   24   \n",
       "3586  한국      #laterspamming#sorrynotsorry#seoullove...  2020-01-01   20   \n",
       "\n",
       "                                          place  \\\n",
       "0                              The Min's - 더 민스   \n",
       "1                                           NaN   \n",
       "2                                         선유도공원   \n",
       "3                                           NaN   \n",
       "4                                           분당구   \n",
       "...                                         ...   \n",
       "3582                                         서울   \n",
       "3583                              청계천 서울 빛초롱 축제   \n",
       "3584  서울스카이 Seoul Sky, Lotte World Tower, Korea   \n",
       "3585                                       대한민국   \n",
       "3586                              Gyeongbokgung   \n",
       "\n",
       "                                                   tags 대상여부  \n",
       "0                                                    []    Y  \n",
       "1                                                    []    Y  \n",
       "2     ['#사진산책', '#happynewyear.새해에는', '#사진에감성을더하다', ...    Y  \n",
       "3     ['#ソインク?ク', '#????????', '#徐仁?', '#seoinguk', ...    Y  \n",
       "4     ['#corea', '#coreano', '#coreadelsur', '#a?onu...    Y  \n",
       "...                                                 ...  ...  \n",
       "3582  ['#seoul', '#coreedusud', '#southkorea', '#gye...    Y  \n",
       "3583  ['#CheonggyecheonStream', '#Seoul', '#Korea', ...    Y  \n",
       "3584  ['#TravelBlogger', '#Explore', '#Korea', '#Kor...    Y  \n",
       "3585  ['#seoul', '#seoulkora', '#seoultravel', '#kor...    Y  \n",
       "3586  ['#laterspamming', '#sorrynotsorry', '#seoullo...    Y  \n",
       "\n",
       "[3587 rows x 6 columns]"
      ]
     },
     "execution_count": 7,
     "metadata": {},
     "output_type": "execute_result"
    }
   ],
   "source": [
    "df['대상여부'] = 'Y'\n",
    "df"
   ]
  },
  {
   "cell_type": "code",
   "execution_count": 8,
   "id": "47428306",
   "metadata": {},
   "outputs": [],
   "source": [
    "# 한글로 시작하면 'N'\n",
    "korean = re.compile(r'[ㄱ-ㅣ가-힣]')\n",
    "for i in range(len(df['content'])):\n",
    "    if korean.match(df.loc[i, 'content']):\n",
    "        df.loc[i, '대상여부'] = 'N'"
   ]
  },
  {
   "cell_type": "code",
   "execution_count": 9,
   "id": "4606a0d2",
   "metadata": {
    "scrolled": true
   },
   "outputs": [
    {
     "data": {
      "text/plain": [
       "Y    3370\n",
       "N     217\n",
       "Name: 대상여부, dtype: int64"
      ]
     },
     "execution_count": 9,
     "metadata": {},
     "output_type": "execute_result"
    }
   ],
   "source": [
    "df['대상여부'].value_counts()"
   ]
  },
  {
   "cell_type": "code",
   "execution_count": 10,
   "id": "102b3dc4",
   "metadata": {
    "scrolled": true
   },
   "outputs": [],
   "source": [
    "df.to_csv('./data/koreagram_2020_clean.csv', index=False, encoding='utf-8-sig')"
   ]
  },
  {
   "cell_type": "code",
   "execution_count": 1,
   "id": "a7f956ee",
   "metadata": {},
   "outputs": [],
   "source": [
    "# End of File"
   ]
  }
 ],
 "metadata": {
  "kernelspec": {
   "display_name": "Python 3 (ipykernel)",
   "language": "python",
   "name": "python3"
  },
  "language_info": {
   "codemirror_mode": {
    "name": "ipython",
    "version": 3
   },
   "file_extension": ".py",
   "mimetype": "text/x-python",
   "name": "python",
   "nbconvert_exporter": "python",
   "pygments_lexer": "ipython3",
   "version": "3.9.12"
  }
 },
 "nbformat": 4,
 "nbformat_minor": 5
}
