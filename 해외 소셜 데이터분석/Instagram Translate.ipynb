{
 "cells": [
  {
   "cell_type": "markdown",
   "id": "1375598d",
   "metadata": {},
   "source": [
    "# Instagram Translate\n",
    "- 파파고 API 불러오기\n",
    "- 'content' 언어감지 및 번역"
   ]
  },
  {
   "cell_type": "code",
   "execution_count": 1,
   "id": "9a24448f",
   "metadata": {},
   "outputs": [],
   "source": [
    "import pandas as pd\n",
    "import os\n",
    "import sys\n",
    "import urllib.request\n",
    "import json"
   ]
  },
  {
   "cell_type": "markdown",
   "id": "322797b2",
   "metadata": {},
   "source": [
    "### 파파고 API 불러오기"
   ]
  },
  {
   "cell_type": "code",
   "execution_count": 1355,
   "id": "24ed782b",
   "metadata": {},
   "outputs": [],
   "source": [
    "a= \"D as de desconexi n   Qu  bien sienta pasear en una ciudad ajena  descubrir nuevos lugares  y vivir el presente sin pensar en lo que tendr as que haber hecho o deber as hacer  Os pasa que a veces pasa cuesta concentraros en el ahora  #malagueta #malaguetafashion\""
   ]
  },
  {
   "cell_type": "code",
   "execution_count": 1356,
   "id": "ca110f55",
   "metadata": {},
   "outputs": [],
   "source": [
    "# 정보\n",
    "client_id = \"b_cWuxyDyyxPpjHF8KcY\"\n",
    "client_secret = \"J6HT2rLhRF\"\n",
    "text = urllib.parse.quote(a)"
   ]
  },
  {
   "cell_type": "code",
   "execution_count": 1357,
   "id": "4899b238",
   "metadata": {},
   "outputs": [
    {
     "name": "stdout",
     "output_type": "stream",
     "text": [
      "es\n"
     ]
    }
   ],
   "source": [
    "# 언어감지\n",
    "data = \"query=\" + text\n",
    "url = \"https://openapi.naver.com/v1/papago/detectLangs\"\n",
    "\n",
    "request = urllib.request.Request(url)\n",
    "request.add_header(\"X-Naver-Client-Id\",client_id)\n",
    "request.add_header(\"X-Naver-Client-Secret\",client_secret)\n",
    "response = urllib.request.urlopen(request, data=data.encode(\"utf-8\"))\n",
    "rescode = response.getcode()\n",
    "\n",
    "if(rescode==200):\n",
    "    response_body = response.read()\n",
    "    result = response_body.decode('utf-8')\n",
    "    result = json.loads(result)\n",
    "    langCode = result[\"langCode\"]\n",
    "    print(langCode)\n",
    "else:\n",
    "    print(\"Error Code:\" + rescode)"
   ]
  },
  {
   "cell_type": "code",
   "execution_count": 1358,
   "id": "f3cbd512",
   "metadata": {
    "scrolled": false
   },
   "outputs": [
    {
     "name": "stdout",
     "output_type": "stream",
     "text": [
      "D ace of disconnection n What it feels good to walk in another city to discover new places and live the present without thinking about what you have to have done or have to do It happens that sometimes it costs to focus on the present #malageta fashion\n"
     ]
    }
   ],
   "source": [
    "# 번역\n",
    "data = \"source=\" + langCode + \"&target=en&text=\" + text\n",
    "url = \"https://openapi.naver.com/v1/papago/n2mt\"\n",
    "\n",
    "request = urllib.request.Request(url)\n",
    "request.add_header(\"X-Naver-Client-Id\",client_id)\n",
    "request.add_header(\"X-Naver-Client-Secret\",client_secret)\n",
    "response = urllib.request.urlopen(request, data=data.encode(\"utf-8\"))\n",
    "rescode = response.getcode()\n",
    "\n",
    "if(rescode==200):\n",
    "    response_body = response.read()\n",
    "    result = response_body.decode('utf-8')\n",
    "    result = json.loads(result)\n",
    "    trans_text = result[\"message\"][\"result\"][\"translatedText\"]\n",
    "    print(trans_text)\n",
    "else:\n",
    "    print(\"Error Code:\" + rescode)"
   ]
  },
  {
   "cell_type": "code",
   "execution_count": 1000,
   "id": "dccd5270",
   "metadata": {},
   "outputs": [],
   "source": [
    "# End of File"
   ]
  }
 ],
 "metadata": {
  "kernelspec": {
   "display_name": "Python 3 (ipykernel)",
   "language": "python",
   "name": "python3"
  },
  "language_info": {
   "codemirror_mode": {
    "name": "ipython",
    "version": 3
   },
   "file_extension": ".py",
   "mimetype": "text/x-python",
   "name": "python",
   "nbconvert_exporter": "python",
   "pygments_lexer": "ipython3",
   "version": "3.9.12"
  }
 },
 "nbformat": 4,
 "nbformat_minor": 5
}
