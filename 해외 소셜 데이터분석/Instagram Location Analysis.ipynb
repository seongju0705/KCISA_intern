{
 "cells": [
  {
   "cell_type": "markdown",
   "id": "537c9a13",
   "metadata": {},
   "source": [
    "# Instagram: Location Analysis"
   ]
  },
  {
   "cell_type": "code",
   "execution_count": 14,
   "id": "02b06eb1",
   "metadata": {},
   "outputs": [],
   "source": [
    "# Visual Python: Data Analysis > Import\n",
    "import numpy as np\n",
    "import pandas as pd\n",
    "import time\n",
    "import random\n",
    "import re\n",
    "import os\n",
    "import pickle"
   ]
  },
  {
   "cell_type": "code",
   "execution_count": 15,
   "id": "a99afa67",
   "metadata": {},
   "outputs": [],
   "source": [
    "import selenium\n",
    "from selenium import webdriver\n",
    "from selenium.webdriver.chrome.service import Service as ChromeService\n",
    "from selenium.webdriver.chrome.options import Options\n",
    "from webdriver_manager.chrome import ChromeDriverManager\n",
    "from selenium.webdriver.common.keys import Keys\n",
    "from selenium.webdriver.common.by import By\n",
    "from bs4 import BeautifulSoup"
   ]
  },
  {
   "cell_type": "markdown",
   "id": "97e60f78",
   "metadata": {},
   "source": [
    "### Instagram 데이터 수집 함수 생성"
   ]
  },
  {
   "cell_type": "code",
   "execution_count": 16,
   "id": "15e53129",
   "metadata": {},
   "outputs": [],
   "source": [
    "#검색어 페이지 주소 생성 \n",
    "def insta_search(word):\n",
    "    url = \"https://www.instagram.com/explore/tags/\" + str(word)\n",
    "    return url"
   ]
  },
  {
   "cell_type": "code",
   "execution_count": 17,
   "id": "9d0b2074",
   "metadata": {},
   "outputs": [],
   "source": [
    "# 첫 번째 게시글 선택\n",
    "def select_first(driver):\n",
    "    first = driver.find_elements(By.CSS_SELECTOR, 'div._aagu')[0]\n",
    "    first.click()\n",
    "    time.sleep(3)"
   ]
  },
  {
   "cell_type": "code",
   "execution_count": 18,
   "id": "9b5d53a3",
   "metadata": {},
   "outputs": [],
   "source": [
    "# 게시글 정보 가져오기 \n",
    "\n",
    "def get_content(driver):\n",
    "    html = driver.page_source\n",
    "    soup = BeautifulSoup(html, 'lxml')\n",
    "\n",
    "    try:\n",
    "        content = soup.select('div._a9zs > span')[0].text # html 태그 확인\n",
    "        #content = unicodedata.normalize('NFC', content)\n",
    "    except:\n",
    "        content = ' '\n",
    "        \n",
    "    tags = re.findall(r'#[^\\s#,\\\\]+',content)\n",
    "    date = soup.select('time._aaqe')[0]['datetime'][:10]\n",
    "    \n",
    "    try:\n",
    "        like = soup.select('div._aacl._aaco._aacw._aacx._aada._aade')[0].findAll('span')[-1].text # html 태그 확인\n",
    "    except:\n",
    "        like = 0\n",
    "    \n",
    "    try:\n",
    "        place = soup.select('div._aaql')[0].text\n",
    "        # html 태그 확인\n",
    "        #place = unicodedata.normalize('NFC', place)\n",
    "    except:\n",
    "        place = ''\n",
    "    \n",
    "    data = [content, date, like, place, tags]\n",
    "    return data "
   ]
  },
  {
   "cell_type": "code",
   "execution_count": 30,
   "id": "f8d27aa4",
   "metadata": {},
   "outputs": [],
   "source": [
    "# 다음 게시글 조회\n",
    "def move_next(driver): \n",
    "    right = driver.find_element(By.CSS_SELECTOR, 'div._aaqg._aaqh') # html 태그 확인\n",
    "    right.click()\n",
    "    time.sleep(2)"
   ]
  },
  {
   "cell_type": "markdown",
   "id": "14bc80fa",
   "metadata": {},
   "source": [
    "### Chrome Driver 설정"
   ]
  },
  {
   "cell_type": "code",
   "execution_count": 20,
   "id": "568889e1",
   "metadata": {},
   "outputs": [],
   "source": [
    "def chromeWebdriver():\n",
    "    chrome_service = ChromeService(executable_path=ChromeDriverManager().install())\n",
    "    options = Options()\n",
    "    options.add_experimental_option('detach', True)\n",
    "    options.add_experimental_option('excludeSwitches', ['enable-logging'])\n",
    "    \n",
    "    driver = webdriver.Chrome(service=chrome_service, options=options)\n",
    "    return driver"
   ]
  },
  {
   "cell_type": "code",
   "execution_count": 21,
   "id": "ef804a6d",
   "metadata": {
    "scrolled": false
   },
   "outputs": [],
   "source": [
    "driver = chromeWebdriver()\n",
    "url = 'http://www.instagram.com'\n",
    "driver.get(url)\n",
    "driver.implicitly_wait(3)"
   ]
  },
  {
   "cell_type": "code",
   "execution_count": 9,
   "id": "b462f038",
   "metadata": {},
   "outputs": [],
   "source": [
    "#driver.quit()\n",
    "#driver.close()"
   ]
  },
  {
   "cell_type": "markdown",
   "id": "f76afe7b",
   "metadata": {},
   "source": [
    "### Instagram 계정 설정"
   ]
  },
  {
   "cell_type": "code",
   "execution_count": 22,
   "id": "eea8433c",
   "metadata": {
    "scrolled": true
   },
   "outputs": [],
   "source": [
    "insta_id = 'seongju0705@gmail.com'\n",
    "input_id = driver.find_elements(By.CSS_SELECTOR, 'input._2hvTZ.pexuQ.zyHYP')[0] \n",
    "\n",
    "input_id.clear()\n",
    "input_id.send_keys(insta_id)\n",
    "\n",
    "password = 'Chosungju17&'\n",
    "input_pw = driver.find_elements(By.CSS_SELECTOR, 'input._2hvTZ.pexuQ.zyHYP')[1]\n",
    "input_pw.clear()\n",
    "input_pw.send_keys(password)\n",
    "input_pw.submit()\n",
    "\n",
    "time.sleep(5)"
   ]
  },
  {
   "cell_type": "code",
   "execution_count": 23,
   "id": "22f3d572",
   "metadata": {},
   "outputs": [],
   "source": [
    "# 쿠키 저장\n",
    "time.sleep(10)\n",
    "pickle.dump(driver.get_cookies(), open(\"instagram_cookies.pkl\", \"wb\"))\n",
    "cookies = pickle.load(open(\"instagram_cookies.pkl\", \"rb\"))\n",
    "for cookie in cookies:\n",
    "    driver.add_cookie(cookie)\n",
    "driver.get(url)"
   ]
  },
  {
   "cell_type": "markdown",
   "id": "400e5708",
   "metadata": {},
   "source": [
    "### Instagram 데이터 수집하기"
   ]
  },
  {
   "cell_type": "code",
   "execution_count": 12,
   "id": "2c63cf5e",
   "metadata": {
    "collapsed": true
   },
   "outputs": [
    {
     "name": "stdout",
     "output_type": "stream",
     "text": [
      "0번 끝\n",
      "100번 끝\n",
      "200번 끝\n",
      "300번 끝\n",
      "400번 끝\n",
      "[['Did you watch the Netflix drama, the Squid Game? The new Korean drama \"the Squid Game\" is gaining huge popularity around the world! I stayed up all night and watched it all in one day. I couldn\\'t stop in the middle. 🥺The stories and actors\\' acting are great, so watch it on the weekend!📸 Show off the pictures of #Seoul & #Korea you took!TAG @seoulful_official_korea, then We will introduce your pics.⠀⠀⠀⠀⠀⠀⠀⠀⠀⠀⠀⠀⠀⠀⠀⠀⠀📸 한국/서울의 아름다운 문화를 자랑해주세요!사진에 #seoulful_official_korea 또는 @seoulful_official_korea 태그해주세요.한국을 좋아하는 외국인 친구들에게 계정과 사진을 소개해드리겠습니다.😉', '2021-09-26', '1,613', 'Seoul Korea', ['#Seoul', '#Korea', '#seoulful_official_korea']], ['**coming like summerwanna go abroad**#jejuisland #jeju #genic_beach #beachday #beachgram #instabeach #ig_beach #beachgirl #korea #koreagram #チェジュ島 #チェジュ #済州島旅行 #韓国旅行 #過去pic', '2022-05-29', 0, 'Jeju Island', ['#jejuisland', '#jeju', '#genic_beach', '#beachday', '#beachgram', '#instabeach', '#ig_beach', '#beachgirl', '#korea', '#koreagram', '#チェジュ島', '#チェジュ', '#済州島旅行', '#韓国旅行', '#過去pic']]]\n"
     ]
    }
   ],
   "source": [
    "# # 500개 크롤링\n",
    "# # %%time \n",
    "\n",
    "# url = insta_search('koreagram')\n",
    "# driver.get(url)\n",
    "# time.sleep(20)\n",
    "\n",
    "# select_first(driver)\n",
    "\n",
    "# results = [ ] \n",
    "\n",
    "# target = 500\n",
    "# for i in range(target):\n",
    "#     try:\n",
    "#         data = get_content(driver)\n",
    "#         results.append(data)\n",
    "#         move_next(driver)   \n",
    "#     except:\n",
    "#         time.sleep(2)\n",
    "#         move_next(driver)\n",
    "#     time.sleep(random.uniform(1, 4))\n",
    "#     if i % 100 == 0:\n",
    "#         print(\"{0}번 끝\".format(i))\n",
    "    \n",
    "# print(results[:2])\n",
    "\n",
    "# results_df = pd.DataFrame(results)\n",
    "# results_df.columns = ['content', 'date', 'like', 'place', 'tags']\n",
    "# results_df.to_csv('./data/koreagram_insta_crawling.csv', index=False, encoding='utf-8-sig')"
   ]
  },
  {
   "cell_type": "code",
   "execution_count": null,
   "id": "8bfaf648",
   "metadata": {
    "scrolled": false
   },
   "outputs": [
    {
     "name": "stdout",
     "output_type": "stream",
     "text": [
      "0번 끝\n",
      "100번 끝\n",
      "200번 끝\n",
      "300번 끝\n",
      "400번 끝\n",
      "500번 끝\n",
      "600번 끝\n",
      "700번 끝\n",
      "800번 끝\n",
      "900번 끝\n",
      "0번 끝\n",
      "100번 끝\n",
      "200번 끝\n",
      "300번 끝\n",
      "400번 끝\n",
      "500번 끝\n",
      "600번 끝\n",
      "700번 끝\n"
     ]
    }
   ],
   "source": [
    "%%time \n",
    "# 이어서 500개 크롤링\n",
    "\n",
    "url = insta_search('koreagram')\n",
    "driver.get(url)\n",
    "time.sleep(20)\n",
    "\n",
    "select_first(driver)\n",
    "\n",
    "results = [ ] \n",
    "\n",
    "# 이전 개수 그냥 넘기기\n",
    "target1 = 1000\n",
    "for i in range(target1):\n",
    "    move_next(driver)\n",
    "    if i % 100 == 0:\n",
    "        print(\"{0}번 끝\".format(i))\n",
    "\n",
    "# 뒤에 이어서 크롤링\n",
    "target2 = 1000\n",
    "for i in range(target2):\n",
    "    try:\n",
    "        data = get_content(driver)\n",
    "        results.append(data)\n",
    "        move_next(driver)   \n",
    "    except:\n",
    "        time.sleep(2)\n",
    "        move_next(driver)\n",
    "    time.sleep(random.uniform(1, 4))\n",
    "    if i % 100 == 0:\n",
    "        print(\"{0}번 끝\".format(i))\n",
    "    \n",
    "print(results[:2])\n",
    "\n",
    "results_df = pd.DataFrame(results)\n",
    "results_df.columns = ['content', 'date', 'like', 'place', 'tags']\n",
    "\n",
    "# 원래 파일 뒤에 이어서 저장\n",
    "results_df.to_csv('./data/koreagram_insta_crawling.csv', index=False, mode='a', encoding='utf-8-sig', header=False)"
   ]
  },
  {
   "cell_type": "code",
   "execution_count": 39,
   "id": "f7f9da3d",
   "metadata": {},
   "outputs": [],
   "source": [
    "# results_df = pd.DataFrame(results)\n",
    "# results_df.columns = ['content', 'date', 'like', 'place', 'tags']\n",
    "\n",
    "# # 원래 파일 뒤에 이어서 저장\n",
    "# results_df.to_csv('./data/koreatrip_insta_crawling.csv', index=False, mode='a', encoding='utf-8-sig', header=False)"
   ]
  },
  {
   "cell_type": "markdown",
   "id": "8f1ca85f",
   "metadata": {},
   "source": [
    "### 수집한 데이터 불러오기"
   ]
  },
  {
   "cell_type": "code",
   "execution_count": 26,
   "id": "c0328a1b",
   "metadata": {
    "scrolled": true
   },
   "outputs": [
    {
     "data": {
      "text/html": [
       "<div>\n",
       "<style scoped>\n",
       "    .dataframe tbody tr th:only-of-type {\n",
       "        vertical-align: middle;\n",
       "    }\n",
       "\n",
       "    .dataframe tbody tr th {\n",
       "        vertical-align: top;\n",
       "    }\n",
       "\n",
       "    .dataframe thead th {\n",
       "        text-align: right;\n",
       "    }\n",
       "</style>\n",
       "<table border=\"1\" class=\"dataframe\">\n",
       "  <thead>\n",
       "    <tr style=\"text-align: right;\">\n",
       "      <th></th>\n",
       "      <th>content</th>\n",
       "      <th>date</th>\n",
       "      <th>like</th>\n",
       "      <th>place</th>\n",
       "      <th>tags</th>\n",
       "    </tr>\n",
       "  </thead>\n",
       "  <tbody>\n",
       "    <tr>\n",
       "      <th>0</th>\n",
       "      <td>The Seomjingang Bamboo Forest trail is still a...</td>\n",
       "      <td>2022-06-18</td>\n",
       "      <td>0</td>\n",
       "      <td>전라남도 구례</td>\n",
       "      <td>['#guryetravel', '#gurye', '#구례여행', '#seomjing...</td>\n",
       "    </tr>\n",
       "    <tr>\n",
       "      <th>1</th>\n",
       "      <td>First visit to Hamdeok Beach....#jeju #함덕해수욕장</td>\n",
       "      <td>2022-06-18</td>\n",
       "      <td>15</td>\n",
       "      <td>Harmduck Beach in Jeju Island</td>\n",
       "      <td>['#jeju', '#함덕해수욕장']</td>\n",
       "    </tr>\n",
       "    <tr>\n",
       "      <th>2</th>\n",
       "      <td>Junio, a un paso del verano 🍑Esta semana se re...</td>\n",
       "      <td>2022-06-17</td>\n",
       "      <td>456</td>\n",
       "      <td>NaN</td>\n",
       "      <td>['#outfit', '#outfitinspiration', '#koreanstyl...</td>\n",
       "    </tr>\n",
       "    <tr>\n",
       "      <th>3</th>\n",
       "      <td>From the very heart of the land of morning cal...</td>\n",
       "      <td>2022-06-17</td>\n",
       "      <td>187</td>\n",
       "      <td>NaN</td>\n",
       "      <td>['#chezbebeidn', '#chezbebe', '#koreagram', '#...</td>\n",
       "    </tr>\n",
       "    <tr>\n",
       "      <th>4</th>\n",
       "      <td>Felt like in Bali or Hawaii ..#jeju</td>\n",
       "      <td>2022-06-17</td>\n",
       "      <td>26</td>\n",
       "      <td>The Shilla Jeju</td>\n",
       "      <td>['#jeju']</td>\n",
       "    </tr>\n",
       "    <tr>\n",
       "      <th>...</th>\n",
       "      <td>...</td>\n",
       "      <td>...</td>\n",
       "      <td>...</td>\n",
       "      <td>...</td>\n",
       "      <td>...</td>\n",
       "    </tr>\n",
       "    <tr>\n",
       "      <th>494</th>\n",
       "      <td>In front of Busan Station#부산 #여행 #부산역맛집 #화창한 #...</td>\n",
       "      <td>2022-04-10</td>\n",
       "      <td>7</td>\n",
       "      <td>Busan 釜山, South Korea</td>\n",
       "      <td>['#부산', '#여행', '#부산역맛집', '#화창한', '#busan', '#p...</td>\n",
       "    </tr>\n",
       "    <tr>\n",
       "      <th>495</th>\n",
       "      <td>오늘의 벚꽃🌸 no filter needed 📍홍대솔내길이번 주말이면 정말 벚꽃이 ...</td>\n",
       "      <td>2022-04-10</td>\n",
       "      <td>71</td>\n",
       "      <td>합정동</td>\n",
       "      <td>['#드리미벚꽃이벤트', '#서울벚꽃', '#합정벚꽃', '#서울핫플', '#vis...</td>\n",
       "    </tr>\n",
       "    <tr>\n",
       "      <th>496</th>\n",
       "      <td>&lt;&lt;Hanbok y cerezos🌸💕&gt;&gt; Hacía tiempo que os dij...</td>\n",
       "      <td>2022-04-10</td>\n",
       "      <td>405</td>\n",
       "      <td>NaN</td>\n",
       "      <td>['#anarangko', '#koreanlandscape', '#hanbok', ...</td>\n",
       "    </tr>\n",
       "    <tr>\n",
       "      <th>497</th>\n",
       "      <td>Like korea styl#koreafood #korea #koreanfood #...</td>\n",
       "      <td>2022-04-10</td>\n",
       "      <td>6</td>\n",
       "      <td>NaN</td>\n",
       "      <td>['#koreafood', '#korea', '#koreanfood', '#kore...</td>\n",
       "    </tr>\n",
       "    <tr>\n",
       "      <th>498</th>\n",
       "      <td>Gucci Garden Archetypes exhibition.#seoul #eur...</td>\n",
       "      <td>2022-04-10</td>\n",
       "      <td>65</td>\n",
       "      <td>서울</td>\n",
       "      <td>['#seoul', '#eurasian', '#pinay', '#fashion', ...</td>\n",
       "    </tr>\n",
       "  </tbody>\n",
       "</table>\n",
       "<p>499 rows × 5 columns</p>\n",
       "</div>"
      ],
      "text/plain": [
       "                                               content        date like  \\\n",
       "0    The Seomjingang Bamboo Forest trail is still a...  2022-06-18    0   \n",
       "1        First visit to Hamdeok Beach....#jeju #함덕해수욕장  2022-06-18   15   \n",
       "2    Junio, a un paso del verano 🍑Esta semana se re...  2022-06-17  456   \n",
       "3    From the very heart of the land of morning cal...  2022-06-17  187   \n",
       "4                  Felt like in Bali or Hawaii ..#jeju  2022-06-17   26   \n",
       "..                                                 ...         ...  ...   \n",
       "494  In front of Busan Station#부산 #여행 #부산역맛집 #화창한 #...  2022-04-10    7   \n",
       "495  오늘의 벚꽃🌸 no filter needed 📍홍대솔내길이번 주말이면 정말 벚꽃이 ...  2022-04-10   71   \n",
       "496  <<Hanbok y cerezos🌸💕>> Hacía tiempo que os dij...  2022-04-10  405   \n",
       "497  Like korea styl#koreafood #korea #koreanfood #...  2022-04-10    6   \n",
       "498  Gucci Garden Archetypes exhibition.#seoul #eur...  2022-04-10   65   \n",
       "\n",
       "                             place  \\\n",
       "0                          전라남도 구례   \n",
       "1    Harmduck Beach in Jeju Island   \n",
       "2                              NaN   \n",
       "3                              NaN   \n",
       "4                  The Shilla Jeju   \n",
       "..                             ...   \n",
       "494          Busan 釜山, South Korea   \n",
       "495                            합정동   \n",
       "496                            NaN   \n",
       "497                            NaN   \n",
       "498                             서울   \n",
       "\n",
       "                                                  tags  \n",
       "0    ['#guryetravel', '#gurye', '#구례여행', '#seomjing...  \n",
       "1                                 ['#jeju', '#함덕해수욕장']  \n",
       "2    ['#outfit', '#outfitinspiration', '#koreanstyl...  \n",
       "3    ['#chezbebeidn', '#chezbebe', '#koreagram', '#...  \n",
       "4                                            ['#jeju']  \n",
       "..                                                 ...  \n",
       "494  ['#부산', '#여행', '#부산역맛집', '#화창한', '#busan', '#p...  \n",
       "495  ['#드리미벚꽃이벤트', '#서울벚꽃', '#합정벚꽃', '#서울핫플', '#vis...  \n",
       "496  ['#anarangko', '#koreanlandscape', '#hanbok', ...  \n",
       "497  ['#koreafood', '#korea', '#koreanfood', '#kore...  \n",
       "498  ['#seoul', '#eurasian', '#pinay', '#fashion', ...  \n",
       "\n",
       "[499 rows x 5 columns]"
      ]
     },
     "execution_count": 26,
     "metadata": {},
     "output_type": "execute_result"
    }
   ],
   "source": [
    "# Visual Python: Data Analysis > File\n",
    "result_df = pd.read_csv('./data/koreagram_insta_crawling.csv', encoding='utf-8-sig')\n",
    "result_df"
   ]
  },
  {
   "cell_type": "markdown",
   "id": "6e2e2389",
   "metadata": {},
   "source": [
    "### 인기게시물/최근게시물 구분"
   ]
  },
  {
   "cell_type": "code",
   "execution_count": 15,
   "id": "334c7375",
   "metadata": {
    "scrolled": true
   },
   "outputs": [
    {
     "data": {
      "text/html": [
       "<div>\n",
       "<style scoped>\n",
       "    .dataframe tbody tr th:only-of-type {\n",
       "        vertical-align: middle;\n",
       "    }\n",
       "\n",
       "    .dataframe tbody tr th {\n",
       "        vertical-align: top;\n",
       "    }\n",
       "\n",
       "    .dataframe thead th {\n",
       "        text-align: right;\n",
       "    }\n",
       "</style>\n",
       "<table border=\"1\" class=\"dataframe\">\n",
       "  <thead>\n",
       "    <tr style=\"text-align: right;\">\n",
       "      <th></th>\n",
       "      <th>content</th>\n",
       "      <th>date</th>\n",
       "      <th>like</th>\n",
       "      <th>place</th>\n",
       "      <th>tags</th>\n",
       "    </tr>\n",
       "  </thead>\n",
       "  <tbody>\n",
       "    <tr>\n",
       "      <th>0</th>\n",
       "      <td>천.고.마.비의 계절 ?? ??어제와 너무나도 다른 오늘 오후언제 그랬냐는 듯이 하...</td>\n",
       "      <td>2022-09-06</td>\n",
       "      <td>2,364</td>\n",
       "      <td>NaN</td>\n",
       "      <td>['#daily_photography', '#fotopia', '#데일리_여행', ...</td>\n",
       "    </tr>\n",
       "    <tr>\n",
       "      <th>1</th>\n",
       "      <td>#오늘의한국 #suwonsup 수원 안에 작은 중국 '월화원'괜스레 비가 오는날??...</td>\n",
       "      <td>2022-09-04</td>\n",
       "      <td>1,187</td>\n",
       "      <td>월화원</td>\n",
       "      <td>['#오늘의한국', '#suwonsup', '#월화원', '#효원공원', '#수원핫플']</td>\n",
       "    </tr>\n",
       "    <tr>\n",
       "      <th>2</th>\n",
       "      <td>#북한산일출누구보다 휴무 알차게 보내는 사람 나야나 셔니??날씨가 너무 좋았던 지난...</td>\n",
       "      <td>2022-09-05</td>\n",
       "      <td>917</td>\n",
       "      <td>북한산 정상 백운대</td>\n",
       "      <td>['#북한산일출누구보다', '#일출산행', '#등산스타그램', '#산스타그램', '...</td>\n",
       "    </tr>\n",
       "    <tr>\n",
       "      <th>3</th>\n",
       "      <td>식장산 야경 ??태풍 전 맑은 대기와 하늘큰 태풍이 몰려오고 있다네요 큰 피해 없이...</td>\n",
       "      <td>2022-09-03</td>\n",
       "      <td>2,152</td>\n",
       "      <td>식장산전망대</td>\n",
       "      <td>['#daily_photography', '#fotopia', '#데일리_여행', ...</td>\n",
       "    </tr>\n",
       "    <tr>\n",
       "      <th>4</th>\n",
       "      <td>..우연하게 들렸던 정방사여기서 내려다 보는 청풍호풍경이 참 좋은곳담에 가면 일몰때...</td>\n",
       "      <td>2022-09-05</td>\n",
       "      <td>1,012</td>\n",
       "      <td>정방사</td>\n",
       "      <td>['#첫줄', '#사진', '#취미사진', '#여행', '#일상여행', '#여행스타...</td>\n",
       "    </tr>\n",
       "    <tr>\n",
       "      <th>5</th>\n",
       "      <td>어제 식장산 일몰 ?? 대구 날씨가 너무 구려서 대전으로 달려갔는데 이렇게 빛내림이...</td>\n",
       "      <td>2022-09-02</td>\n",
       "      <td>2,351</td>\n",
       "      <td>식장산전망대</td>\n",
       "      <td>['#daily_photography', '#fotopia', '#데일리_여행', ...</td>\n",
       "    </tr>\n",
       "    <tr>\n",
       "      <th>6</th>\n",
       "      <td>Si tu o una amiga tienen planeado viajar a Cor...</td>\n",
       "      <td>2022-09-02</td>\n",
       "      <td>5,977</td>\n",
       "      <td>NaN</td>\n",
       "      <td>['#Corea', '#coreadelsur', '#korea', '#koreali...</td>\n",
       "    </tr>\n",
       "    <tr>\n",
       "      <th>7</th>\n",
       "      <td>#여행의진수 오늘처럼 흐리고 비 오는 날 가기 좋았던 곳??수선사는 다른 절에 비해...</td>\n",
       "      <td>2022-08-31</td>\n",
       "      <td>1,920</td>\n",
       "      <td>NaN</td>\n",
       "      <td>['#여행의진수', '#수선사*작년']</td>\n",
       "    </tr>\n",
       "    <tr>\n",
       "      <th>8</th>\n",
       "      <td>?? ‘우리 지금 떠나’ : [노들섬 노을 모음]‘우리 지금 떠나’ 시즌 두 번째예...</td>\n",
       "      <td>2022-09-04</td>\n",
       "      <td>632</td>\n",
       "      <td>노들섬</td>\n",
       "      <td>['#hongpicmagazine']</td>\n",
       "    </tr>\n",
       "  </tbody>\n",
       "</table>\n",
       "</div>"
      ],
      "text/plain": [
       "                                             content        date   like  \\\n",
       "0  천.고.마.비의 계절 ?? ??어제와 너무나도 다른 오늘 오후언제 그랬냐는 듯이 하...  2022-09-06  2,364   \n",
       "1  #오늘의한국 #suwonsup 수원 안에 작은 중국 '월화원'괜스레 비가 오는날??...  2022-09-04  1,187   \n",
       "2  #북한산일출누구보다 휴무 알차게 보내는 사람 나야나 셔니??날씨가 너무 좋았던 지난...  2022-09-05    917   \n",
       "3  식장산 야경 ??태풍 전 맑은 대기와 하늘큰 태풍이 몰려오고 있다네요 큰 피해 없이...  2022-09-03  2,152   \n",
       "4  ..우연하게 들렸던 정방사여기서 내려다 보는 청풍호풍경이 참 좋은곳담에 가면 일몰때...  2022-09-05  1,012   \n",
       "5  어제 식장산 일몰 ?? 대구 날씨가 너무 구려서 대전으로 달려갔는데 이렇게 빛내림이...  2022-09-02  2,351   \n",
       "6  Si tu o una amiga tienen planeado viajar a Cor...  2022-09-02  5,977   \n",
       "7  #여행의진수 오늘처럼 흐리고 비 오는 날 가기 좋았던 곳??수선사는 다른 절에 비해...  2022-08-31  1,920   \n",
       "8  ?? ‘우리 지금 떠나’ : [노들섬 노을 모음]‘우리 지금 떠나’ 시즌 두 번째예...  2022-09-04    632   \n",
       "\n",
       "        place                                               tags  \n",
       "0         NaN  ['#daily_photography', '#fotopia', '#데일리_여행', ...  \n",
       "1         월화원  ['#오늘의한국', '#suwonsup', '#월화원', '#효원공원', '#수원핫플']  \n",
       "2  북한산 정상 백운대  ['#북한산일출누구보다', '#일출산행', '#등산스타그램', '#산스타그램', '...  \n",
       "3      식장산전망대  ['#daily_photography', '#fotopia', '#데일리_여행', ...  \n",
       "4         정방사  ['#첫줄', '#사진', '#취미사진', '#여행', '#일상여행', '#여행스타...  \n",
       "5      식장산전망대  ['#daily_photography', '#fotopia', '#데일리_여행', ...  \n",
       "6         NaN  ['#Corea', '#coreadelsur', '#korea', '#koreali...  \n",
       "7         NaN                              ['#여행의진수', '#수선사*작년']  \n",
       "8         노들섬                               ['#hongpicmagazine']  "
      ]
     },
     "execution_count": 15,
     "metadata": {},
     "output_type": "execute_result"
    }
   ],
   "source": [
    "# 인기게시물 파일 생성\n",
    "pop_df = result_df.iloc[0:9]\n",
    "pop_df.to_csv('./data/koreagram_pop_insta_crawling.csv', index=False, encoding='utf-8-sig')\n",
    "pop_df"
   ]
  },
  {
   "cell_type": "code",
   "execution_count": 16,
   "id": "eb8111b5",
   "metadata": {
    "scrolled": true
   },
   "outputs": [
    {
     "data": {
      "text/html": [
       "<div>\n",
       "<style scoped>\n",
       "    .dataframe tbody tr th:only-of-type {\n",
       "        vertical-align: middle;\n",
       "    }\n",
       "\n",
       "    .dataframe tbody tr th {\n",
       "        vertical-align: top;\n",
       "    }\n",
       "\n",
       "    .dataframe thead th {\n",
       "        text-align: right;\n",
       "    }\n",
       "</style>\n",
       "<table border=\"1\" class=\"dataframe\">\n",
       "  <thead>\n",
       "    <tr style=\"text-align: right;\">\n",
       "      <th></th>\n",
       "      <th>content</th>\n",
       "      <th>date</th>\n",
       "      <th>like</th>\n",
       "      <th>place</th>\n",
       "      <th>tags</th>\n",
       "    </tr>\n",
       "  </thead>\n",
       "  <tbody>\n",
       "    <tr>\n",
       "      <th>9</th>\n",
       "      <td>.뜨거웠던 여름작가님들과 함께한 &lt;여수신안 :로드쇼&gt;2022년 7월 26일~28일....</td>\n",
       "      <td>2022-09-07</td>\n",
       "      <td>0</td>\n",
       "      <td>NaN</td>\n",
       "      <td>['#blueartfesta2022', '#GS칼텍스장도전시관', '#로드쇼2022...</td>\n",
       "    </tr>\n",
       "    <tr>\n",
       "      <th>10</th>\n",
       "      <td>#엘시티레지던스 There's a fully equipped kitchen wher...</td>\n",
       "      <td>2022-09-06</td>\n",
       "      <td>0</td>\n",
       "      <td>Lct the Residence</td>\n",
       "      <td>['#엘시티레지던스', '#5305']</td>\n",
       "    </tr>\n",
       "    <tr>\n",
       "      <th>11</th>\n",
       "      <td>[J 민] [오전 7:54] #바다 #beach #여행 #koreatrip #seo...</td>\n",
       "      <td>2022-09-06</td>\n",
       "      <td>0</td>\n",
       "      <td>NaN</td>\n",
       "      <td>['#바다', '#beach', '#여행', '#koreatrip', '#seoul...</td>\n",
       "    </tr>\n",
       "    <tr>\n",
       "      <th>12</th>\n",
       "      <td>Dongdaemun Design Plaza #ddp #zahahadid #moder...</td>\n",
       "      <td>2022-09-06</td>\n",
       "      <td>3</td>\n",
       "      <td>NaN</td>\n",
       "      <td>['#ddp', '#zahahadid', '#modernarchitecture', ...</td>\n",
       "    </tr>\n",
       "    <tr>\n",
       "      <th>13</th>\n",
       "      <td>?? Dongdaemun(동대문), Seoul</td>\n",
       "      <td>2022-09-06</td>\n",
       "      <td>0</td>\n",
       "      <td>서울</td>\n",
       "      <td>[]</td>\n",
       "    </tr>\n",
       "    <tr>\n",
       "      <th>...</th>\n",
       "      <td>...</td>\n",
       "      <td>...</td>\n",
       "      <td>...</td>\n",
       "      <td>...</td>\n",
       "      <td>...</td>\n",
       "    </tr>\n",
       "    <tr>\n",
       "      <th>995</th>\n",
       "      <td>#Chuseok (#추석) is on 10th September this year ...</td>\n",
       "      <td>2022-09-02</td>\n",
       "      <td>52</td>\n",
       "      <td>NaN</td>\n",
       "      <td>['#Chuseok', '#추석)', '#holiday', '#명절)', '#Sou...</td>\n",
       "    </tr>\n",
       "    <tr>\n",
       "      <th>996</th>\n",
       "      <td>Where in Korea is little Jimmy?! 🤨 #fun #littl...</td>\n",
       "      <td>2022-09-02</td>\n",
       "      <td>6</td>\n",
       "      <td>NaN</td>\n",
       "      <td>['#fun', '#littlejimmy', '#koreatrip•', '#food...</td>\n",
       "    </tr>\n",
       "    <tr>\n",
       "      <th>997</th>\n",
       "      <td>🎉Mes de cumpleaños = Mes de Regalos🎉[Give away...</td>\n",
       "      <td>2022-09-02</td>\n",
       "      <td>0</td>\n",
       "      <td>칠레</td>\n",
       "      <td>['#giveaway', '#concursochile', '#bts', '#btsc...</td>\n",
       "    </tr>\n",
       "    <tr>\n",
       "      <th>998</th>\n",
       "      <td>Life is a collection of moments. Cherish the b...</td>\n",
       "      <td>2022-09-02</td>\n",
       "      <td>27</td>\n",
       "      <td>서울</td>\n",
       "      <td>['#wheninsouthkorea', '#myeongdong', '#nakwon'...</td>\n",
       "    </tr>\n",
       "    <tr>\n",
       "      <th>999</th>\n",
       "      <td>한복남 프리미엄한복에 반해버리고 바로 예약해서 이용했는데, 진짜 마음에 들어요.#한...</td>\n",
       "      <td>2022-09-02</td>\n",
       "      <td>379</td>\n",
       "      <td>NaN</td>\n",
       "      <td>['#한복남프리미엄', '#한복남', '#프리미엄한복', '#한복대여', '#한복드...</td>\n",
       "    </tr>\n",
       "  </tbody>\n",
       "</table>\n",
       "<p>991 rows × 5 columns</p>\n",
       "</div>"
      ],
      "text/plain": [
       "                                               content        date like  \\\n",
       "9    .뜨거웠던 여름작가님들과 함께한 <여수신안 :로드쇼>2022년 7월 26일~28일....  2022-09-07    0   \n",
       "10   #엘시티레지던스 There's a fully equipped kitchen wher...  2022-09-06    0   \n",
       "11   [J 민] [오전 7:54] #바다 #beach #여행 #koreatrip #seo...  2022-09-06    0   \n",
       "12   Dongdaemun Design Plaza #ddp #zahahadid #moder...  2022-09-06    3   \n",
       "13                           ?? Dongdaemun(동대문), Seoul  2022-09-06    0   \n",
       "..                                                 ...         ...  ...   \n",
       "995  #Chuseok (#추석) is on 10th September this year ...  2022-09-02   52   \n",
       "996  Where in Korea is little Jimmy?! 🤨 #fun #littl...  2022-09-02    6   \n",
       "997  🎉Mes de cumpleaños = Mes de Regalos🎉[Give away...  2022-09-02    0   \n",
       "998  Life is a collection of moments. Cherish the b...  2022-09-02   27   \n",
       "999  한복남 프리미엄한복에 반해버리고 바로 예약해서 이용했는데, 진짜 마음에 들어요.#한...  2022-09-02  379   \n",
       "\n",
       "                 place                                               tags  \n",
       "9                  NaN  ['#blueartfesta2022', '#GS칼텍스장도전시관', '#로드쇼2022...  \n",
       "10   Lct the Residence                              ['#엘시티레지던스', '#5305']  \n",
       "11                 NaN  ['#바다', '#beach', '#여행', '#koreatrip', '#seoul...  \n",
       "12                 NaN  ['#ddp', '#zahahadid', '#modernarchitecture', ...  \n",
       "13                  서울                                                 []  \n",
       "..                 ...                                                ...  \n",
       "995                NaN  ['#Chuseok', '#추석)', '#holiday', '#명절)', '#Sou...  \n",
       "996                NaN  ['#fun', '#littlejimmy', '#koreatrip•', '#food...  \n",
       "997                 칠레  ['#giveaway', '#concursochile', '#bts', '#btsc...  \n",
       "998                 서울  ['#wheninsouthkorea', '#myeongdong', '#nakwon'...  \n",
       "999                NaN  ['#한복남프리미엄', '#한복남', '#프리미엄한복', '#한복대여', '#한복드...  \n",
       "\n",
       "[991 rows x 5 columns]"
      ]
     },
     "execution_count": 16,
     "metadata": {},
     "output_type": "execute_result"
    }
   ],
   "source": [
    "# 최근게시물 파일 생성\n",
    "recent_df = result_df.iloc[9:]\n",
    "recent_df.to_csv('./data/koreagram_recent_insta_crawling.csv', index=False, encoding='utf-8-sig')\n",
    "recent_df"
   ]
  },
  {
   "cell_type": "markdown",
   "id": "72c97f1d",
   "metadata": {},
   "source": [
    "### 위치정보 가져오기"
   ]
  },
  {
   "cell_type": "code",
   "execution_count": 17,
   "id": "8694b360",
   "metadata": {},
   "outputs": [
    {
     "name": "stdout",
     "output_type": "stream",
     "text": [
      "                                                175\n",
      "서울                                               27\n",
      "전주한옥마을 한복남 hanboknam                              9\n",
      "경주 황리단길                                           7\n",
      "Busan 釜山, South Korea                             7\n",
      "                                               ... \n",
      "Changdeokgung                                     1\n",
      "Uijeongbu St Underground Market                   1\n",
      "광안리해수욕장 GwangalliBeach, Busan, Korea 廣安里海水浴場      1\n",
      "MYOMEE 묘미                                         1\n",
      "칠레                                                1\n",
      "Name: place, Length: 221, dtype: int64\n"
     ]
    }
   ],
   "source": [
    "location_counts = results_df['place'].value_counts()\n",
    "print(location_counts)"
   ]
  },
  {
   "cell_type": "code",
   "execution_count": 18,
   "id": "66226bae",
   "metadata": {},
   "outputs": [],
   "source": [
    "location_counts_df = pd.DataFrame(location_counts)\n",
    "location_counts_df.to_csv('./data/koreagram_datalocation_counts.csv', encoding='utf-8-sig')"
   ]
  },
  {
   "cell_type": "code",
   "execution_count": 19,
   "id": "397d93c8",
   "metadata": {
    "scrolled": true
   },
   "outputs": [
    {
     "name": "stdout",
     "output_type": "stream",
     "text": [
      "['', '서울', '전주한옥마을 한복남 hanboknam', '경주 황리단길', 'Busan 釜山, South Korea', '부산', 'Seoul, South Korea', 'Incheon, South Korea', '환상의 섬 Jeju Island', '석촌호수공원', '제주도', '대한민국', '니지모리스튜디오', '정동진 - 正東津 - Jeongdongjin Beach', '보성 대한다원', '포충사', '이태원', '행궁동', '대한민국 大韓民國', '경주계림', '갤러리아 광교, Galleria Gwanggyo', '더현대서울 The Hyundai Seoul', '국립대전현충원', '불국사경주', 'Tongyeong, Korea', '홍대', 'Seoul', '여수', 'Myeong-dong', '육백마지기', 'Daegu, South Korea', '연남동', '석촌호수', '경복궁 - 景福宮 Gyeongbokgung Palace', '성수동', 'Byeonsan-bando National Park', '충청남도 보령', '전주한옥마을', '청산수목원', '울릉도 서면 학포마을', '제주도 제주', 'Gwanggyo Lake Park', '영월 젊은달와이파크 (Museum Of Youngwol Y Park)', 'Page 38', 'Bukchon Hanok Village', '광교호수공원, 신대호수', 'Myeongdong St. Seoul, Korea', '석모도 보문사', '경상북도 성주', '칼빈대학교', '남해 독일마을', 'Jeju Island', '강릉', '삽교호놀이동산', '반포 한강 공원', '강원도 춘천', 'Lotte World, Seoul, South Korea', '関西国際空港第一ターミナル', '북촌한옥마을 - Bukchon Hanok Village', '칼리오페', '석파정', '휴애리 자연생활공원', '경기도 수원', '포은아트갤러리', '울릉도 독도', '제주 그랑블루요트', '하루선물사진관', 'Moonbar Namsan', 'Jeju Island, Korea', '서울시립미술관 Seoul Museum of Art', '연미산자연미술공원', '향일암(여수)', '호암미술관', '서울미술관', 'N Seoul Tower 남산타워', 'LOTTE HOTEL JEJU 롯데호텔제주', 'Korea', '논현동 Nonhyeon-Dong, Gangnam-gu, Seoul, Korea', '송도청량산', '돌산대교', '계양산성', '계양산정상', '외암리 민속마을', '흰여울문화마을', '한강 (Han River, 漢江)', '소돌해변', '수라바야', '대부도펜션밸리', '강릉 안반데기', '부산 기장', '거제도', '광장시장먹자골목', '9brick hotel in hongdae 나인브릭호텔 홍대', '충청남도 천안', '보자기작업실 희작', '포천', '분황꽃담', '대전', 'Talkraphy', '송탄', 'Seúl, South Korea', '충청북도 괴산', '경주 반월성', '대구', '성산일출봉 Seongsan Sunrise Peak', '아현동', 'Inno Hostel & Pub Lounge', '이가리닻전망대', '인천', '월화원', '하슬라아트월드 (Haslla Art World)', '인천공항 Incheon Airport', '울진군', '테리토리', '광장시장', '스시선수', 'South Korea', '경상북도 안동', '천황식당', '강원도 양양', '인사동', '관악산 물 맑은 계곡', 'SPACE WALK by POSCO', '델리', '강원도 삼척', '카페 글렌코', 'Inwangsan', '원효사', '미쁘동', '아르떼뮤지엄 Arte Museum', '경상남도 김해', '자만벽화마을', '제주도 애월읍', '안동하회마을', 'Heyri Art Valley 헤이리 예술마을', 'Lotte Department Store', '그린카펫티가든', '강원도 정선 민둥산', '이케아기흥점', '호텔헤이븐', '동해 감추해변', '대릉원사진관', 'Cafe 413 Project', '전북 부안 변산반도 채석강', '전라남도 영광', '경주', '고창 청보리밭 학원농장', '정선 짚와이어 & 스카이워크', '전남 강진 다산초당', 'Seoul Station 성울역 , Seoul South Korea', '뚝섬역', 'Grand Hyatt Jeju', '노들섬', '화성행궁 Suwon Hwaseong Haenggung', '해동용궁사 Yonggung Temple', 'Lotte World Aquarium', '만귀정', '감포항 포구', 'Coex Mall, Seoul Korea', '국립아시아문화전당', '충북 음성', '남한산성', '영도', 'Seul', '안성', 'Lct the Residence', 'Ukraine Poltava', '울주군 서생면', '경기도 용인', 'Anguk-dong', '은평한옥마을', '책속에풍덩', '전라남도 보성', 'Itaewon Seoul', 'Trickeye Museum 트릭아이뮤지엄', '연트럴파크', 'Han River Cruise Korea', 'Haeundae, Busan', '울릉도', '해운대 랍스터포차', '골든서울호텔', '아차산 (Achasan Mountain)', '아쿠아플레넷 63', '경상북도 청도', '진해', '마장호수', '서울에 없는데 서울랜드인 서울랜드', '송정3대국밥', 'Seonjeongneung - Three Royal Tombs Park', '스트롱파이어', '강변역', '인왕산에서', 'Umu Pudding , 우무', '전주 한옥마을', 'Jeju Island, South Korea 제주도', '삼성 Leeum 미술관', 'Cafe Onion', '경복궁 - Gyeongbokgung Palace', '덕화원', '전포대로', '영덕군', '강화도', 'Koreantown Shin-Okubo', '경기도 연천', '이태원 어디', '마포구', '방아머리 해수욕장', 'Gyeongbokgung', '제주도 성산일출봉', 'Habaek', 'Hello_k_cookingclass', '호매실동', 'Anyang City, Korea', 'Gyeongsangnam-do', '창신동', 'Boontheshop Cheongdam', 'Changdeokgung', 'Uijeongbu St Underground Market', '광안리해수욕장 GwangalliBeach, Busan, Korea 廣安里海水浴場', 'MYOMEE 묘미', '칠레']\n"
     ]
    }
   ],
   "source": [
    "locations = list(location_counts.index)\n",
    "print(locations)"
   ]
  },
  {
   "cell_type": "code",
   "execution_count": 20,
   "id": "1e3333cb",
   "metadata": {
    "scrolled": true
   },
   "outputs": [
    {
     "name": "stdout",
     "output_type": "stream",
     "text": [
      "[{'address_name': '서울 종로구 와룡동 2-1', 'category_group_code': 'AT4', 'category_group_name': '관광명소', 'category_name': '여행 > 관광,명소 > 문화유적 > 고궁,궁', 'distance': '', 'id': '11156260', 'phone': '02-762-4868', 'place_name': '창경궁', 'place_url': 'http://place.map.kakao.com/11156260', 'road_address_name': '서울 종로구 창경궁로 185', 'x': '126.995199911733', 'y': '37.5794165384496'}, {'address_name': '서울 종로구 와룡동 2-1', 'category_group_code': 'PK6', 'category_group_name': '주차장', 'category_name': '교통,수송 > 교통시설 > 주차장', 'distance': '', 'id': '20587392', 'phone': '', 'place_name': '창경궁 주차장', 'place_url': 'http://place.map.kakao.com/20587392', 'road_address_name': '', 'x': '126.99629795858597', 'y': '37.58116450604905'}, {'address_name': '서울 종로구 와룡동 2-1', 'category_group_code': 'AT4', 'category_group_name': '관광명소', 'category_name': '여행 > 관광,명소 > 수목원,식물원', 'distance': '', 'id': '11002870', 'phone': '', 'place_name': '창경궁 대온실', 'place_url': 'http://place.map.kakao.com/11002870', 'road_address_name': '서울 종로구 창경궁로 185', 'x': '126.993999600727', 'y': '37.5830168543695'}, {'address_name': '서울 종로구 와룡동 2-87', 'category_group_code': '', 'category_group_name': '', 'category_name': '서비스,산업 > 관리,운영 > 매표소', 'distance': '', 'id': '1932803950', 'phone': '', 'place_name': '창경궁 매표소', 'place_url': 'http://place.map.kakao.com/1932803950', 'road_address_name': '', 'x': '126.996479192586', 'y': '37.5791607012415'}, {'address_name': '서울 종로구 충신동 60', 'category_group_code': '', 'category_group_name': '', 'category_name': '부동산 > 주거시설 > 아파트', 'distance': '', 'id': '946945721', 'phone': '', 'place_name': '힐스테이트창경궁아파트 (2022년09월예정)', 'place_url': 'http://place.map.kakao.com/946945721', 'road_address_name': '', 'x': '127.004832649507', 'y': '37.5752458345237'}, {'address_name': '서울 종로구 원남동 96-9', 'category_group_code': 'FD6', 'category_group_name': '음식점', 'category_name': '음식점 > 퓨전요리 > 퓨전일식', 'distance': '', 'id': '1654711394', 'phone': '02-747-0150', 'place_name': '창경궁150', 'place_url': 'http://place.map.kakao.com/1654711394', 'road_address_name': '서울 종로구 창경궁로 150', 'x': '126.997581964113', 'y': '37.575650455245'}, {'address_name': '서울 종로구 원남동 66-6', 'category_group_code': '', 'category_group_name': '', 'category_name': '부동산 > 주거시설 > 오피스텔', 'distance': '', 'id': '457839741', 'phone': '', 'place_name': '휴스턴창경궁오피스텔', 'place_url': 'http://place.map.kakao.com/457839741', 'road_address_name': '서울 종로구 창경궁로20길 14', 'x': '126.998406100072', 'y': '37.5751170804489'}, {'address_name': '서울 종로구 와룡동', 'category_group_code': 'AT4', 'category_group_name': '관광명소', 'category_name': '여행 > 관광,명소 > 저수지', 'distance': '', 'id': '8116578', 'phone': '', 'place_name': '창경궁 춘당지', 'place_url': 'http://place.map.kakao.com/8116578', 'road_address_name': '', 'x': '126.994909926037', 'y': '37.581899665179'}, {'address_name': '서울 종로구 와룡동 2-1', 'category_group_code': '', 'category_group_name': '', 'category_name': '스포츠,레저 > 자전거,싸이클 > 자전거대여소', 'distance': '', 'id': '1347403627', 'phone': '', 'place_name': '창경궁 입구대여소', 'place_url': 'http://place.map.kakao.com/1347403627', 'road_address_name': '', 'x': '126.99645429133841', 'y': '37.57905978916545'}, {'address_name': '서울 종로구 명륜4가 198-2', 'category_group_code': '', 'category_group_name': '', 'category_name': '가정,생활 > 패션 > 의류대여서비스 > 한복대여', 'distance': '', 'id': '1297494553', 'phone': '02-763-9937', 'place_name': '고궁마실 창경궁&창덕궁 한복대여', 'place_url': 'http://place.map.kakao.com/1297494553', 'road_address_name': '서울 종로구 창경궁로 229', 'x': '126.997898741875', 'y': '37.5825268477302'}, {'address_name': '서울 종로구 와룡동 2-1', 'category_group_code': 'AT4', 'category_group_name': '관광명소', 'category_name': '여행 > 관광,명소 > 문화유적 > 고궁,궁', 'distance': '', 'id': '17578525', 'phone': '', 'place_name': '창경궁 함양문', 'place_url': 'http://place.map.kakao.com/17578525', 'road_address_name': '', 'x': '126.99308061756884', 'y': '37.5795236515318'}, {'address_name': '서울 종로구 와룡동 2-1', 'category_group_code': '', 'category_group_name': '', 'category_name': '여행 > 관광,명소 > 문화유적', 'distance': '', 'id': '18983768', 'phone': '', 'place_name': '창경궁 옥천교', 'place_url': 'http://place.map.kakao.com/18983768', 'road_address_name': '서울 종로구 창경궁로 185', 'x': '126.99612826092', 'y': '37.578832728422'}, {'address_name': '서울 종로구 와룡동 2-1', 'category_group_code': '', 'category_group_name': '', 'category_name': '여행 > 관광,명소 > 문화유적', 'distance': '', 'id': '7872875', 'phone': '', 'place_name': '창경궁 문정전', 'place_url': 'http://place.map.kakao.com/7872875', 'road_address_name': '서울 종로구 창경궁로 185', 'x': '126.994824115641', 'y': '37.5785515682891'}, {'address_name': '서울 종로구 와룡동 2-1', 'category_group_code': '', 'category_group_name': '', 'category_name': '여행 > 관광,명소 > 문화유적', 'distance': '', 'id': '7873650', 'phone': '', 'place_name': '창경궁 명정전', 'place_url': 'http://place.map.kakao.com/7873650', 'road_address_name': '서울 종로구 창경궁로 185', 'x': '126.994910140961', 'y': '37.5787425827777'}, {'address_name': '서울 종로구 명륜4가 198-2', 'category_group_code': 'FD6', 'category_group_name': '음식점', 'category_name': '음식점 > 일식 > 초밥,롤', 'distance': '', 'id': '1808045382', 'phone': '02-766-2852', 'place_name': '창경궁초밥', 'place_url': 'http://place.map.kakao.com/1808045382', 'road_address_name': '서울 종로구 창경궁로 229', 'x': '126.997903270449', 'y': '37.5825268478107'}]\n"
     ]
    }
   ],
   "source": [
    "import requests \n",
    "\n",
    "searching = '창경궁'\n",
    "url = 'https://dapi.kakao.com/v2/local/search/keyword.json?query={}'.format(searching)\n",
    "\n",
    "headers = {\"Authorization\": \"KakaoAK 7b79badcab2f1b9bd186f82a4ade78e2\"}\n",
    "\n",
    "places = requests.get(url, headers = headers).json()['documents']\n",
    "print(places)"
   ]
  },
  {
   "cell_type": "code",
   "execution_count": 21,
   "id": "2cbc52a0",
   "metadata": {},
   "outputs": [],
   "source": [
    "def find_places(searching):\n",
    "    url = 'https://dapi.kakao.com/v2/local/search/keyword.json?query={}'.format(searching)\n",
    "    headers = {\"Authorization\": \"KakaoAK 7b79badcab2f1b9bd186f82a4ade78e2\"}\n",
    "    \n",
    "    places = requests.get(url, headers = headers).json()['documents']\n",
    "    place = places[0]\n",
    "    name = place['place_name']\n",
    "\n",
    "    x = place['x']\n",
    "    y = place['y']\n",
    "    data = name, x, y, searching\n",
    "\n",
    "    return data"
   ]
  },
  {
   "cell_type": "code",
   "execution_count": 22,
   "id": "35d74b8a",
   "metadata": {},
   "outputs": [
    {
     "name": "stdout",
     "output_type": "stream",
     "text": [
      "('창경궁', '126.995199911733', '37.5794165384496', '창경궁')\n"
     ]
    }
   ],
   "source": [
    "print(find_places('창경궁'))"
   ]
  },
  {
   "cell_type": "code",
   "execution_count": 28,
   "id": "d6b1ddc0",
   "metadata": {},
   "outputs": [
    {
     "name": "stderr",
     "output_type": "stream",
     "text": [
      "100%|████████████████████████████████████████████████████████████████████████████████| 221/221 [01:41<00:00,  2.17it/s]\n"
     ]
    }
   ],
   "source": [
    "import time\n",
    "from tqdm import tqdm\n",
    "\n",
    "locations_inform = []\n",
    "for location in tqdm(locations):\n",
    "    try:\n",
    "        data = find_places(location)\n",
    "        locations_inform.append(data)\n",
    "        time.sleep(0.5)\n",
    "    except:\n",
    "        pass\n",
    "\n",
    "locations_inform_df = pd.DataFrame(locations_inform)\n",
    "locations_inform_df.columns = ['네이버위치명', '경도', '위도', '인스타위치명']\n",
    "locations_inform_df.to_csv('./data/koreagram_location_final.csv', index=False, encoding='utf-8-sig')"
   ]
  },
  {
   "cell_type": "markdown",
   "id": "8bfeeaf9",
   "metadata": {},
   "source": [
    "### 위치 데이터 시각화 (Plotly)"
   ]
  },
  {
   "cell_type": "code",
   "execution_count": 29,
   "id": "a5edd0e6",
   "metadata": {},
   "outputs": [
    {
     "data": {
      "text/html": [
       "        <script type=\"text/javascript\">\n",
       "        window.PlotlyConfig = {MathJaxConfig: 'local'};\n",
       "        if (window.MathJax) {MathJax.Hub.Config({SVG: {font: \"STIX-Web\"}});}\n",
       "        if (typeof require !== 'undefined') {\n",
       "        require.undef(\"plotly\");\n",
       "        requirejs.config({\n",
       "            paths: {\n",
       "                'plotly': ['https://cdn.plot.ly/plotly-2.9.0.min']\n",
       "            }\n",
       "        });\n",
       "        require(['plotly'], function(Plotly) {\n",
       "            window._Plotly = Plotly;\n",
       "        });\n",
       "        }\n",
       "        </script>\n",
       "        "
      ]
     },
     "metadata": {},
     "output_type": "display_data"
    }
   ],
   "source": [
    "# Visual Python: Logic > code\n",
    "import plotly.express as px\n",
    "import plotly\n",
    "plotly.offline.init_notebook_mode(connected=True)"
   ]
  },
  {
   "cell_type": "code",
   "execution_count": 30,
   "id": "a00e2001",
   "metadata": {
    "scrolled": true
   },
   "outputs": [
    {
     "data": {
      "text/html": [
       "<div>\n",
       "<style scoped>\n",
       "    .dataframe tbody tr th:only-of-type {\n",
       "        vertical-align: middle;\n",
       "    }\n",
       "\n",
       "    .dataframe tbody tr th {\n",
       "        vertical-align: top;\n",
       "    }\n",
       "\n",
       "    .dataframe thead th {\n",
       "        text-align: right;\n",
       "    }\n",
       "</style>\n",
       "<table border=\"1\" class=\"dataframe\">\n",
       "  <thead>\n",
       "    <tr style=\"text-align: right;\">\n",
       "      <th></th>\n",
       "      <th>네이버위치명</th>\n",
       "      <th>경도</th>\n",
       "      <th>위도</th>\n",
       "      <th>인스타위치명</th>\n",
       "    </tr>\n",
       "  </thead>\n",
       "  <tbody>\n",
       "    <tr>\n",
       "      <th>0</th>\n",
       "      <td>북한산둘레길 1구간소나무숲길</td>\n",
       "      <td>127.00902108350806</td>\n",
       "      <td>37.65888882945633</td>\n",
       "      <td>서울</td>\n",
       "    </tr>\n",
       "    <tr>\n",
       "      <th>1</th>\n",
       "      <td>황리단길</td>\n",
       "      <td>129.209645417434</td>\n",
       "      <td>35.8393348165945</td>\n",
       "      <td>경주 황리단길</td>\n",
       "    </tr>\n",
       "    <tr>\n",
       "      <th>2</th>\n",
       "      <td>해운대해수욕장</td>\n",
       "      <td>129.159854668484</td>\n",
       "      <td>35.1585232170784</td>\n",
       "      <td>부산</td>\n",
       "    </tr>\n",
       "    <tr>\n",
       "      <th>3</th>\n",
       "      <td>송파나루공원</td>\n",
       "      <td>127.1029126348244</td>\n",
       "      <td>37.50903619165893</td>\n",
       "      <td>석촌호수공원</td>\n",
       "    </tr>\n",
       "    <tr>\n",
       "      <th>4</th>\n",
       "      <td>제주도</td>\n",
       "      <td>126.54587355630036</td>\n",
       "      <td>33.379777816446165</td>\n",
       "      <td>제주도</td>\n",
       "    </tr>\n",
       "    <tr>\n",
       "      <th>...</th>\n",
       "      <td>...</td>\n",
       "      <td>...</td>\n",
       "      <td>...</td>\n",
       "      <td>...</td>\n",
       "    </tr>\n",
       "    <tr>\n",
       "      <th>161</th>\n",
       "      <td>경상남도수목원</td>\n",
       "      <td>128.294697645237</td>\n",
       "      <td>35.1596287493298</td>\n",
       "      <td>Gyeongsangnam-do</td>\n",
       "    </tr>\n",
       "    <tr>\n",
       "      <th>162</th>\n",
       "      <td>청계천 애완동물거리</td>\n",
       "      <td>127.015331184888</td>\n",
       "      <td>37.5700164638864</td>\n",
       "      <td>창신동</td>\n",
       "    </tr>\n",
       "    <tr>\n",
       "      <th>163</th>\n",
       "      <td>창덕궁</td>\n",
       "      <td>126.99099980568673</td>\n",
       "      <td>37.579655957334666</td>\n",
       "      <td>Changdeokgung</td>\n",
       "    </tr>\n",
       "    <tr>\n",
       "      <th>164</th>\n",
       "      <td>묘미</td>\n",
       "      <td>127.052861838388</td>\n",
       "      <td>37.5053210134061</td>\n",
       "      <td>MYOMEE 묘미</td>\n",
       "    </tr>\n",
       "    <tr>\n",
       "      <th>165</th>\n",
       "      <td>주한칠레대사관</td>\n",
       "      <td>126.982284801899</td>\n",
       "      <td>37.5609557134557</td>\n",
       "      <td>칠레</td>\n",
       "    </tr>\n",
       "  </tbody>\n",
       "</table>\n",
       "<p>166 rows × 4 columns</p>\n",
       "</div>"
      ],
      "text/plain": [
       "              네이버위치명                  경도                  위도            인스타위치명\n",
       "0    북한산둘레길 1구간소나무숲길  127.00902108350806   37.65888882945633                서울\n",
       "1               황리단길    129.209645417434    35.8393348165945           경주 황리단길\n",
       "2            해운대해수욕장    129.159854668484    35.1585232170784                부산\n",
       "3             송파나루공원   127.1029126348244   37.50903619165893            석촌호수공원\n",
       "4                제주도  126.54587355630036  33.379777816446165               제주도\n",
       "..               ...                 ...                 ...               ...\n",
       "161          경상남도수목원    128.294697645237    35.1596287493298  Gyeongsangnam-do\n",
       "162       청계천 애완동물거리    127.015331184888    37.5700164638864               창신동\n",
       "163              창덕궁  126.99099980568673  37.579655957334666     Changdeokgung\n",
       "164               묘미    127.052861838388    37.5053210134061         MYOMEE 묘미\n",
       "165          주한칠레대사관    126.982284801899    37.5609557134557                칠레\n",
       "\n",
       "[166 rows x 4 columns]"
      ]
     },
     "execution_count": 30,
     "metadata": {},
     "output_type": "execute_result"
    }
   ],
   "source": [
    "locations_inform_df"
   ]
  },
  {
   "cell_type": "code",
   "execution_count": 26,
   "id": "f2d20d1b",
   "metadata": {
    "scrolled": true
   },
   "outputs": [],
   "source": [
    "locations_inform_df = locations_inform_df[['경도','위도']].astype('float64')"
   ]
  },
  {
   "cell_type": "code",
   "execution_count": 27,
   "id": "8ee92b03",
   "metadata": {
    "scrolled": false
   },
   "outputs": [
    {
     "data": {
      "application/vnd.plotly.v1+json": {
       "config": {
        "plotlyServerURL": "https://plot.ly"
       },
       "data": [
        {
         "hovertemplate": "위도=%{lat}<br>경도=%{lon}<extra></extra>",
         "lat": [
          37.65888882945633,
          35.8393348165945,
          35.1585232170784,
          37.50903619165893,
          33.379777816446165,
          37.5067075025853,
          37.879202219338964,
          34.7156527529844,
          35.8053441455939,
          37.5345613066561,
          37.2819144990562,
          35.8325754812219,
          37.525872071029134,
          36.37023590283299,
          35.78991466172384,
          37.550874837441,
          37.5251230282347,
          34.778856828051,
          37.56318453011765,
          37.4069785670025,
          37.565544356741,
          37.5076807262772,
          37.5464440372535,
          36.3102317300706,
          35.8148243087693,
          36.6865863036413,
          33.379777816446165,
          37.2843652555841,
          36.18429700462711,
          37.5829185302128,
          37.2866425637606,
          37.6888156349809,
          35.86891065684621,
          37.30494526368936,
          34.80007258001897,
          33.379777816446165,
          37.8034055083125,
          36.8902283318714,
          37.5097007912995,
          37.791693560311764,
          37.5829185302128,
          37.24810440885549,
          37.5950231297339,
          33.309410458656,
          37.2869569586225,
          37.3258459850773,
          37.2410536000124,
          33.23825405834395,
          33.2497641750009,
          37.5641076212639,
          36.47355484061,
          34.59160742611191,
          37.2945441389153,
          37.5945764186008,
          37.5513049702718,
          33.4906945837847,
          37.5311524042719,
          37.4142179120695,
          34.7307446919059,
          37.550197205342016,
          36.7300810824388,
          35.077914827298564,
          37.9069740745975,
          37.2224469833645,
          37.62290058479758,
          35.31903428666247,
          34.8609806474228,
          37.5705616588662,
          36.7573121521986,
          38.0716318957896,
          35.841088477490416,
          36.3691431776998,
          37.055099525434,
          36.7300941536878,
          35.8304361613018,
          35.85322716591636,
          37.5568364371917,
          36.1878660301882,
          37.4462920026041,
          37.265249076094435,
          37.7058296552942,
          37.4494502813442,
          36.955929474005025,
          37.439697127980935,
          37.5700282666334,
          37.5227563160461,
          37.5162738482712,
          36.5389828267328,
          35.1961010799517,
          38.115871436438,
          37.57189803811425,
          37.5794572790689,
          37.32628054915,
          33.43367131314919,
          37.58489976333122,
          35.14851210740412,
          37.5621016631213,
          33.39670048068425,
          35.180877561285,
          35.8137981198856,
          33.46649759191228,
          36.5389828267328,
          37.7881742544481,
          37.564905601247865,
          37.9406425742053,
          37.2710660558122,
          37.22224576869889,
          34.7323695543095,
          37.5152421987964,
          35.8375692611184,
          37.5023544936241,
          35.6242356780005,
          35.3635569432416,
          35.8347762643542,
          35.376629428188,
          37.363386176827895,
          34.5807627151258,
          37.547241554679,
          33.485242300144556,
          37.51766013568054,
          35.1209077520531,
          35.8067935977834,
          35.147333715652636,
          36.9693643407795,
          37.4789871959421,
          35.077914827298564,
          37.2630986276526,
          37.147588248655104,
          35.3816447557837,
          37.293101115700345,
          37.6414862798216,
          37.5451857031859,
          34.67002619469291,
          37.5285641152689,
          37.558803479324,
          35.1636479638612,
          37.5061925878659,
          35.1610946675406,
          37.5478945782355,
          37.56684449678786,
          35.71513206473317,
          35.1622297838177,
          37.774941756546156,
          35.15557363642001,
          37.7440936498978,
          37.5351180385975,
          37.58489976333122,
          35.8148243087693,
          37.544782395189884,
          37.5776087830657,
          37.5059034496894,
          35.1443191227987,
          36.5986693176069,
          37.7091842052891,
          38.0773343830953,
          37.5553965854703,
          37.2891526817361,
          37.5776087830657,
          33.4591349705437,
          35.1884465579361,
          37.2617490320609,
          35.1596287493298,
          37.5700164638864,
          37.579655957334666,
          37.5053210134061,
          37.5609557134557
         ],
         "legendgroup": "",
         "lon": [
          127.00902108350806,
          129.209645417434,
          129.159854668484,
          127.1029126348244,
          126.54587355630036,
          127.062417480704,
          127.09200199922985,
          127.078774842327,
          127.917195420524,
          126.99580922812,
          127.014041185109,
          129.218916244204,
          126.92844612411159,
          127.29593333469099,
          129.3318426090494,
          126.925554591431,
          127.033904321455,
          127.74547599836,
          126.98735609674071,
          128.512570778605,
          126.923343004623,
          127.099112837006,
          127.043028992489,
          126.513481592784,
          127.152557091072,
          126.297393303157,
          126.54587355630036,
          127.066933469349,
          129.38892183175557,
          126.983384576672,
          127.073864045742,
          126.321486643096,
          128.17103913142506,
          127.1278619902976,
          128.03855022577358,
          126.54587355630036,
          128.910210247605,
          126.822377296393,
          126.994629809971,
          127.52508704819692,
          126.983384576672,
          127.19282774395782,
          126.962651139577,
          126.635409752107,
          127.011795743342,
          127.105593549091,
          131.867131133737,
          126.43954963202265,
          126.475511957153,
          126.973790543874,
          127.10260476268768,
          127.80384250689374,
          127.19162893029,
          126.963226584371,
          126.988230622132,
          126.486477218467,
          126.837852623984,
          126.668095359095,
          127.734693125783,
          126.72705206456793,
          127.016523870856,
          129.04528136992104,
          128.825167878323,
          126.602739737385,
          128.7391412750242,
          129.26405780900492,
          128.629541086564,
          127.000633898859,
          127.224096112074,
          127.321027248959,
          129.23044973273377,
          127.388037583592,
          127.107452249043,
          127.91447553923,
          129.220587168998,
          128.56658131032162,
          126.955318329675,
          129.379108982736,
          126.372737043106,
          127.03773328597492,
          129.009485518837,
          126.45042670237,
          129.37910164045613,
          126.69498268662721,
          126.998949546525,
          127.036195141782,
          127.059936935972,
          128.518141153901,
          128.084499537732,
          128.635755922233,
          126.98714973498457,
          126.98623370164968,
          129.020854083678,
          126.73324152121354,
          126.95784443609999,
          126.98545261795167,
          126.926190830908,
          126.34501060259869,
          128.82930509028,
          127.157184713186,
          126.38979561557086,
          128.518141153901,
          126.698953062843,
          126.98175414832635,
          127.306928137523,
          128.77485717012,
          127.11568196311298,
          127.749106910127,
          129.125982759948,
          129.209618564356,
          127.034470798439,
          126.466064101223,
          126.395949459623,
          129.226975518857,
          126.541930122074,
          128.6347989297978,
          126.745059019488,
          127.04738727881,
          126.48141147321883,
          126.95803386590158,
          126.834016664237,
          129.505506378971,
          126.92135353457694,
          127.686277334127,
          127.180024353467,
          129.04528136992104,
          126.942870702636,
          127.25916198231646,
          129.345059071066,
          127.20219830178264,
          126.939092437378,
          127.61961300525,
          127.08902041487755,
          126.993107954052,
          126.925338455597,
          129.158897240251,
          130.860436808926,
          129.172471641368,
          126.878151774356,
          127.10274196113546,
          128.7205340487789,
          128.660414261631,
          126.9302203716329,
          129.0584983963701,
          126.489953681284,
          127.094741101863,
          126.95784443609999,
          127.152557091072,
          127.05820807890457,
          126.976896737645,
          126.701460959946,
          129.064263290528,
          129.410719158274,
          126.448555072944,
          127.143318624342,
          126.923580878826,
          126.576767387831,
          126.976896737645,
          126.940537521366,
          126.889203154172,
          126.947105951133,
          128.294697645237,
          127.015331184888,
          126.99099980568673,
          127.052861838388,
          126.982284801899
         ],
         "marker": {
          "color": "#636efa"
         },
         "mode": "markers",
         "name": "",
         "showlegend": false,
         "subplot": "mapbox",
         "type": "scattermapbox"
        }
       ],
       "layout": {
        "legend": {
         "tracegroupgap": 0
        },
        "mapbox": {
         "center": {
          "lat": 36.55150264986126,
          "lon": 127.51820792002601
         },
         "domain": {
          "x": [
           0,
           1
          ],
          "y": [
           0,
           1
          ]
         },
         "style": "open-street-map",
         "zoom": 6
        },
        "margin": {
         "t": 60
        },
        "template": {
         "data": {
          "bar": [
           {
            "error_x": {
             "color": "#2a3f5f"
            },
            "error_y": {
             "color": "#2a3f5f"
            },
            "marker": {
             "line": {
              "color": "#E5ECF6",
              "width": 0.5
             },
             "pattern": {
              "fillmode": "overlay",
              "size": 10,
              "solidity": 0.2
             }
            },
            "type": "bar"
           }
          ],
          "barpolar": [
           {
            "marker": {
             "line": {
              "color": "#E5ECF6",
              "width": 0.5
             },
             "pattern": {
              "fillmode": "overlay",
              "size": 10,
              "solidity": 0.2
             }
            },
            "type": "barpolar"
           }
          ],
          "carpet": [
           {
            "aaxis": {
             "endlinecolor": "#2a3f5f",
             "gridcolor": "white",
             "linecolor": "white",
             "minorgridcolor": "white",
             "startlinecolor": "#2a3f5f"
            },
            "baxis": {
             "endlinecolor": "#2a3f5f",
             "gridcolor": "white",
             "linecolor": "white",
             "minorgridcolor": "white",
             "startlinecolor": "#2a3f5f"
            },
            "type": "carpet"
           }
          ],
          "choropleth": [
           {
            "colorbar": {
             "outlinewidth": 0,
             "ticks": ""
            },
            "type": "choropleth"
           }
          ],
          "contour": [
           {
            "colorbar": {
             "outlinewidth": 0,
             "ticks": ""
            },
            "colorscale": [
             [
              0,
              "#0d0887"
             ],
             [
              0.1111111111111111,
              "#46039f"
             ],
             [
              0.2222222222222222,
              "#7201a8"
             ],
             [
              0.3333333333333333,
              "#9c179e"
             ],
             [
              0.4444444444444444,
              "#bd3786"
             ],
             [
              0.5555555555555556,
              "#d8576b"
             ],
             [
              0.6666666666666666,
              "#ed7953"
             ],
             [
              0.7777777777777778,
              "#fb9f3a"
             ],
             [
              0.8888888888888888,
              "#fdca26"
             ],
             [
              1,
              "#f0f921"
             ]
            ],
            "type": "contour"
           }
          ],
          "contourcarpet": [
           {
            "colorbar": {
             "outlinewidth": 0,
             "ticks": ""
            },
            "type": "contourcarpet"
           }
          ],
          "heatmap": [
           {
            "colorbar": {
             "outlinewidth": 0,
             "ticks": ""
            },
            "colorscale": [
             [
              0,
              "#0d0887"
             ],
             [
              0.1111111111111111,
              "#46039f"
             ],
             [
              0.2222222222222222,
              "#7201a8"
             ],
             [
              0.3333333333333333,
              "#9c179e"
             ],
             [
              0.4444444444444444,
              "#bd3786"
             ],
             [
              0.5555555555555556,
              "#d8576b"
             ],
             [
              0.6666666666666666,
              "#ed7953"
             ],
             [
              0.7777777777777778,
              "#fb9f3a"
             ],
             [
              0.8888888888888888,
              "#fdca26"
             ],
             [
              1,
              "#f0f921"
             ]
            ],
            "type": "heatmap"
           }
          ],
          "heatmapgl": [
           {
            "colorbar": {
             "outlinewidth": 0,
             "ticks": ""
            },
            "colorscale": [
             [
              0,
              "#0d0887"
             ],
             [
              0.1111111111111111,
              "#46039f"
             ],
             [
              0.2222222222222222,
              "#7201a8"
             ],
             [
              0.3333333333333333,
              "#9c179e"
             ],
             [
              0.4444444444444444,
              "#bd3786"
             ],
             [
              0.5555555555555556,
              "#d8576b"
             ],
             [
              0.6666666666666666,
              "#ed7953"
             ],
             [
              0.7777777777777778,
              "#fb9f3a"
             ],
             [
              0.8888888888888888,
              "#fdca26"
             ],
             [
              1,
              "#f0f921"
             ]
            ],
            "type": "heatmapgl"
           }
          ],
          "histogram": [
           {
            "marker": {
             "pattern": {
              "fillmode": "overlay",
              "size": 10,
              "solidity": 0.2
             }
            },
            "type": "histogram"
           }
          ],
          "histogram2d": [
           {
            "colorbar": {
             "outlinewidth": 0,
             "ticks": ""
            },
            "colorscale": [
             [
              0,
              "#0d0887"
             ],
             [
              0.1111111111111111,
              "#46039f"
             ],
             [
              0.2222222222222222,
              "#7201a8"
             ],
             [
              0.3333333333333333,
              "#9c179e"
             ],
             [
              0.4444444444444444,
              "#bd3786"
             ],
             [
              0.5555555555555556,
              "#d8576b"
             ],
             [
              0.6666666666666666,
              "#ed7953"
             ],
             [
              0.7777777777777778,
              "#fb9f3a"
             ],
             [
              0.8888888888888888,
              "#fdca26"
             ],
             [
              1,
              "#f0f921"
             ]
            ],
            "type": "histogram2d"
           }
          ],
          "histogram2dcontour": [
           {
            "colorbar": {
             "outlinewidth": 0,
             "ticks": ""
            },
            "colorscale": [
             [
              0,
              "#0d0887"
             ],
             [
              0.1111111111111111,
              "#46039f"
             ],
             [
              0.2222222222222222,
              "#7201a8"
             ],
             [
              0.3333333333333333,
              "#9c179e"
             ],
             [
              0.4444444444444444,
              "#bd3786"
             ],
             [
              0.5555555555555556,
              "#d8576b"
             ],
             [
              0.6666666666666666,
              "#ed7953"
             ],
             [
              0.7777777777777778,
              "#fb9f3a"
             ],
             [
              0.8888888888888888,
              "#fdca26"
             ],
             [
              1,
              "#f0f921"
             ]
            ],
            "type": "histogram2dcontour"
           }
          ],
          "mesh3d": [
           {
            "colorbar": {
             "outlinewidth": 0,
             "ticks": ""
            },
            "type": "mesh3d"
           }
          ],
          "parcoords": [
           {
            "line": {
             "colorbar": {
              "outlinewidth": 0,
              "ticks": ""
             }
            },
            "type": "parcoords"
           }
          ],
          "pie": [
           {
            "automargin": true,
            "type": "pie"
           }
          ],
          "scatter": [
           {
            "marker": {
             "colorbar": {
              "outlinewidth": 0,
              "ticks": ""
             }
            },
            "type": "scatter"
           }
          ],
          "scatter3d": [
           {
            "line": {
             "colorbar": {
              "outlinewidth": 0,
              "ticks": ""
             }
            },
            "marker": {
             "colorbar": {
              "outlinewidth": 0,
              "ticks": ""
             }
            },
            "type": "scatter3d"
           }
          ],
          "scattercarpet": [
           {
            "marker": {
             "colorbar": {
              "outlinewidth": 0,
              "ticks": ""
             }
            },
            "type": "scattercarpet"
           }
          ],
          "scattergeo": [
           {
            "marker": {
             "colorbar": {
              "outlinewidth": 0,
              "ticks": ""
             }
            },
            "type": "scattergeo"
           }
          ],
          "scattergl": [
           {
            "marker": {
             "colorbar": {
              "outlinewidth": 0,
              "ticks": ""
             }
            },
            "type": "scattergl"
           }
          ],
          "scattermapbox": [
           {
            "marker": {
             "colorbar": {
              "outlinewidth": 0,
              "ticks": ""
             }
            },
            "type": "scattermapbox"
           }
          ],
          "scatterpolar": [
           {
            "marker": {
             "colorbar": {
              "outlinewidth": 0,
              "ticks": ""
             }
            },
            "type": "scatterpolar"
           }
          ],
          "scatterpolargl": [
           {
            "marker": {
             "colorbar": {
              "outlinewidth": 0,
              "ticks": ""
             }
            },
            "type": "scatterpolargl"
           }
          ],
          "scatterternary": [
           {
            "marker": {
             "colorbar": {
              "outlinewidth": 0,
              "ticks": ""
             }
            },
            "type": "scatterternary"
           }
          ],
          "surface": [
           {
            "colorbar": {
             "outlinewidth": 0,
             "ticks": ""
            },
            "colorscale": [
             [
              0,
              "#0d0887"
             ],
             [
              0.1111111111111111,
              "#46039f"
             ],
             [
              0.2222222222222222,
              "#7201a8"
             ],
             [
              0.3333333333333333,
              "#9c179e"
             ],
             [
              0.4444444444444444,
              "#bd3786"
             ],
             [
              0.5555555555555556,
              "#d8576b"
             ],
             [
              0.6666666666666666,
              "#ed7953"
             ],
             [
              0.7777777777777778,
              "#fb9f3a"
             ],
             [
              0.8888888888888888,
              "#fdca26"
             ],
             [
              1,
              "#f0f921"
             ]
            ],
            "type": "surface"
           }
          ],
          "table": [
           {
            "cells": {
             "fill": {
              "color": "#EBF0F8"
             },
             "line": {
              "color": "white"
             }
            },
            "header": {
             "fill": {
              "color": "#C8D4E3"
             },
             "line": {
              "color": "white"
             }
            },
            "type": "table"
           }
          ]
         },
         "layout": {
          "annotationdefaults": {
           "arrowcolor": "#2a3f5f",
           "arrowhead": 0,
           "arrowwidth": 1
          },
          "autotypenumbers": "strict",
          "coloraxis": {
           "colorbar": {
            "outlinewidth": 0,
            "ticks": ""
           }
          },
          "colorscale": {
           "diverging": [
            [
             0,
             "#8e0152"
            ],
            [
             0.1,
             "#c51b7d"
            ],
            [
             0.2,
             "#de77ae"
            ],
            [
             0.3,
             "#f1b6da"
            ],
            [
             0.4,
             "#fde0ef"
            ],
            [
             0.5,
             "#f7f7f7"
            ],
            [
             0.6,
             "#e6f5d0"
            ],
            [
             0.7,
             "#b8e186"
            ],
            [
             0.8,
             "#7fbc41"
            ],
            [
             0.9,
             "#4d9221"
            ],
            [
             1,
             "#276419"
            ]
           ],
           "sequential": [
            [
             0,
             "#0d0887"
            ],
            [
             0.1111111111111111,
             "#46039f"
            ],
            [
             0.2222222222222222,
             "#7201a8"
            ],
            [
             0.3333333333333333,
             "#9c179e"
            ],
            [
             0.4444444444444444,
             "#bd3786"
            ],
            [
             0.5555555555555556,
             "#d8576b"
            ],
            [
             0.6666666666666666,
             "#ed7953"
            ],
            [
             0.7777777777777778,
             "#fb9f3a"
            ],
            [
             0.8888888888888888,
             "#fdca26"
            ],
            [
             1,
             "#f0f921"
            ]
           ],
           "sequentialminus": [
            [
             0,
             "#0d0887"
            ],
            [
             0.1111111111111111,
             "#46039f"
            ],
            [
             0.2222222222222222,
             "#7201a8"
            ],
            [
             0.3333333333333333,
             "#9c179e"
            ],
            [
             0.4444444444444444,
             "#bd3786"
            ],
            [
             0.5555555555555556,
             "#d8576b"
            ],
            [
             0.6666666666666666,
             "#ed7953"
            ],
            [
             0.7777777777777778,
             "#fb9f3a"
            ],
            [
             0.8888888888888888,
             "#fdca26"
            ],
            [
             1,
             "#f0f921"
            ]
           ]
          },
          "colorway": [
           "#636efa",
           "#EF553B",
           "#00cc96",
           "#ab63fa",
           "#FFA15A",
           "#19d3f3",
           "#FF6692",
           "#B6E880",
           "#FF97FF",
           "#FECB52"
          ],
          "font": {
           "color": "#2a3f5f"
          },
          "geo": {
           "bgcolor": "white",
           "lakecolor": "white",
           "landcolor": "#E5ECF6",
           "showlakes": true,
           "showland": true,
           "subunitcolor": "white"
          },
          "hoverlabel": {
           "align": "left"
          },
          "hovermode": "closest",
          "mapbox": {
           "style": "light"
          },
          "paper_bgcolor": "white",
          "plot_bgcolor": "#E5ECF6",
          "polar": {
           "angularaxis": {
            "gridcolor": "white",
            "linecolor": "white",
            "ticks": ""
           },
           "bgcolor": "#E5ECF6",
           "radialaxis": {
            "gridcolor": "white",
            "linecolor": "white",
            "ticks": ""
           }
          },
          "scene": {
           "xaxis": {
            "backgroundcolor": "#E5ECF6",
            "gridcolor": "white",
            "gridwidth": 2,
            "linecolor": "white",
            "showbackground": true,
            "ticks": "",
            "zerolinecolor": "white"
           },
           "yaxis": {
            "backgroundcolor": "#E5ECF6",
            "gridcolor": "white",
            "gridwidth": 2,
            "linecolor": "white",
            "showbackground": true,
            "ticks": "",
            "zerolinecolor": "white"
           },
           "zaxis": {
            "backgroundcolor": "#E5ECF6",
            "gridcolor": "white",
            "gridwidth": 2,
            "linecolor": "white",
            "showbackground": true,
            "ticks": "",
            "zerolinecolor": "white"
           }
          },
          "shapedefaults": {
           "line": {
            "color": "#2a3f5f"
           }
          },
          "ternary": {
           "aaxis": {
            "gridcolor": "white",
            "linecolor": "white",
            "ticks": ""
           },
           "baxis": {
            "gridcolor": "white",
            "linecolor": "white",
            "ticks": ""
           },
           "bgcolor": "#E5ECF6",
           "caxis": {
            "gridcolor": "white",
            "linecolor": "white",
            "ticks": ""
           }
          },
          "title": {
           "x": 0.05
          },
          "xaxis": {
           "automargin": true,
           "gridcolor": "white",
           "linecolor": "white",
           "ticks": "",
           "title": {
            "standoff": 15
           },
           "zerolinecolor": "white",
           "zerolinewidth": 2
          },
          "yaxis": {
           "automargin": true,
           "gridcolor": "white",
           "linecolor": "white",
           "ticks": "",
           "title": {
            "standoff": 15
           },
           "zerolinecolor": "white",
           "zerolinewidth": 2
          }
         }
        }
       }
      },
      "text/html": [
       "<div>                            <div id=\"51163372-a3c1-40ba-a0af-0d5e4ad38d85\" class=\"plotly-graph-div\" style=\"height:525px; width:100%;\"></div>            <script type=\"text/javascript\">                require([\"plotly\"], function(Plotly) {                    window.PLOTLYENV=window.PLOTLYENV || {};                                    if (document.getElementById(\"51163372-a3c1-40ba-a0af-0d5e4ad38d85\")) {                    Plotly.newPlot(                        \"51163372-a3c1-40ba-a0af-0d5e4ad38d85\",                        [{\"hovertemplate\":\"\\uc704\\ub3c4=%{lat}<br>\\uacbd\\ub3c4=%{lon}<extra></extra>\",\"lat\":[37.65888882945633,35.8393348165945,35.1585232170784,37.50903619165893,33.379777816446165,37.5067075025853,37.879202219338964,34.7156527529844,35.8053441455939,37.5345613066561,37.2819144990562,35.8325754812219,37.525872071029134,36.37023590283299,35.78991466172384,37.550874837441,37.5251230282347,34.778856828051,37.56318453011765,37.4069785670025,37.565544356741,37.5076807262772,37.5464440372535,36.3102317300706,35.8148243087693,36.6865863036413,33.379777816446165,37.2843652555841,36.18429700462711,37.5829185302128,37.2866425637606,37.6888156349809,35.86891065684621,37.30494526368936,34.80007258001897,33.379777816446165,37.8034055083125,36.8902283318714,37.5097007912995,37.791693560311764,37.5829185302128,37.24810440885549,37.5950231297339,33.309410458656,37.2869569586225,37.3258459850773,37.2410536000124,33.23825405834395,33.2497641750009,37.5641076212639,36.47355484061,34.59160742611191,37.2945441389153,37.5945764186008,37.5513049702718,33.4906945837847,37.5311524042719,37.4142179120695,34.7307446919059,37.550197205342016,36.7300810824388,35.077914827298564,37.9069740745975,37.2224469833645,37.62290058479758,35.31903428666247,34.8609806474228,37.5705616588662,36.7573121521986,38.0716318957896,35.841088477490416,36.3691431776998,37.055099525434,36.7300941536878,35.8304361613018,35.85322716591636,37.5568364371917,36.1878660301882,37.4462920026041,37.265249076094435,37.7058296552942,37.4494502813442,36.955929474005025,37.439697127980935,37.5700282666334,37.5227563160461,37.5162738482712,36.5389828267328,35.1961010799517,38.115871436438,37.57189803811425,37.5794572790689,37.32628054915,33.43367131314919,37.58489976333122,35.14851210740412,37.5621016631213,33.39670048068425,35.180877561285,35.8137981198856,33.46649759191228,36.5389828267328,37.7881742544481,37.564905601247865,37.9406425742053,37.2710660558122,37.22224576869889,34.7323695543095,37.5152421987964,35.8375692611184,37.5023544936241,35.6242356780005,35.3635569432416,35.8347762643542,35.376629428188,37.363386176827895,34.5807627151258,37.547241554679,33.485242300144556,37.51766013568054,35.1209077520531,35.8067935977834,35.147333715652636,36.9693643407795,37.4789871959421,35.077914827298564,37.2630986276526,37.147588248655104,35.3816447557837,37.293101115700345,37.6414862798216,37.5451857031859,34.67002619469291,37.5285641152689,37.558803479324,35.1636479638612,37.5061925878659,35.1610946675406,37.5478945782355,37.56684449678786,35.71513206473317,35.1622297838177,37.774941756546156,35.15557363642001,37.7440936498978,37.5351180385975,37.58489976333122,35.8148243087693,37.544782395189884,37.5776087830657,37.5059034496894,35.1443191227987,36.5986693176069,37.7091842052891,38.0773343830953,37.5553965854703,37.2891526817361,37.5776087830657,33.4591349705437,35.1884465579361,37.2617490320609,35.1596287493298,37.5700164638864,37.579655957334666,37.5053210134061,37.5609557134557],\"legendgroup\":\"\",\"lon\":[127.00902108350806,129.209645417434,129.159854668484,127.1029126348244,126.54587355630036,127.062417480704,127.09200199922985,127.078774842327,127.917195420524,126.99580922812,127.014041185109,129.218916244204,126.92844612411159,127.29593333469099,129.3318426090494,126.925554591431,127.033904321455,127.74547599836,126.98735609674071,128.512570778605,126.923343004623,127.099112837006,127.043028992489,126.513481592784,127.152557091072,126.297393303157,126.54587355630036,127.066933469349,129.38892183175557,126.983384576672,127.073864045742,126.321486643096,128.17103913142506,127.1278619902976,128.03855022577358,126.54587355630036,128.910210247605,126.822377296393,126.994629809971,127.52508704819692,126.983384576672,127.19282774395782,126.962651139577,126.635409752107,127.011795743342,127.105593549091,131.867131133737,126.43954963202265,126.475511957153,126.973790543874,127.10260476268768,127.80384250689374,127.19162893029,126.963226584371,126.988230622132,126.486477218467,126.837852623984,126.668095359095,127.734693125783,126.72705206456793,127.016523870856,129.04528136992104,128.825167878323,126.602739737385,128.7391412750242,129.26405780900492,128.629541086564,127.000633898859,127.224096112074,127.321027248959,129.23044973273377,127.388037583592,127.107452249043,127.91447553923,129.220587168998,128.56658131032162,126.955318329675,129.379108982736,126.372737043106,127.03773328597492,129.009485518837,126.45042670237,129.37910164045613,126.69498268662721,126.998949546525,127.036195141782,127.059936935972,128.518141153901,128.084499537732,128.635755922233,126.98714973498457,126.98623370164968,129.020854083678,126.73324152121354,126.95784443609999,126.98545261795167,126.926190830908,126.34501060259869,128.82930509028,127.157184713186,126.38979561557086,128.518141153901,126.698953062843,126.98175414832635,127.306928137523,128.77485717012,127.11568196311298,127.749106910127,129.125982759948,129.209618564356,127.034470798439,126.466064101223,126.395949459623,129.226975518857,126.541930122074,128.6347989297978,126.745059019488,127.04738727881,126.48141147321883,126.95803386590158,126.834016664237,129.505506378971,126.92135353457694,127.686277334127,127.180024353467,129.04528136992104,126.942870702636,127.25916198231646,129.345059071066,127.20219830178264,126.939092437378,127.61961300525,127.08902041487755,126.993107954052,126.925338455597,129.158897240251,130.860436808926,129.172471641368,126.878151774356,127.10274196113546,128.7205340487789,128.660414261631,126.9302203716329,129.0584983963701,126.489953681284,127.094741101863,126.95784443609999,127.152557091072,127.05820807890457,126.976896737645,126.701460959946,129.064263290528,129.410719158274,126.448555072944,127.143318624342,126.923580878826,126.576767387831,126.976896737645,126.940537521366,126.889203154172,126.947105951133,128.294697645237,127.015331184888,126.99099980568673,127.052861838388,126.982284801899],\"marker\":{\"color\":\"#636efa\"},\"mode\":\"markers\",\"name\":\"\",\"showlegend\":false,\"subplot\":\"mapbox\",\"type\":\"scattermapbox\"}],                        {\"template\":{\"data\":{\"bar\":[{\"error_x\":{\"color\":\"#2a3f5f\"},\"error_y\":{\"color\":\"#2a3f5f\"},\"marker\":{\"line\":{\"color\":\"#E5ECF6\",\"width\":0.5},\"pattern\":{\"fillmode\":\"overlay\",\"size\":10,\"solidity\":0.2}},\"type\":\"bar\"}],\"barpolar\":[{\"marker\":{\"line\":{\"color\":\"#E5ECF6\",\"width\":0.5},\"pattern\":{\"fillmode\":\"overlay\",\"size\":10,\"solidity\":0.2}},\"type\":\"barpolar\"}],\"carpet\":[{\"aaxis\":{\"endlinecolor\":\"#2a3f5f\",\"gridcolor\":\"white\",\"linecolor\":\"white\",\"minorgridcolor\":\"white\",\"startlinecolor\":\"#2a3f5f\"},\"baxis\":{\"endlinecolor\":\"#2a3f5f\",\"gridcolor\":\"white\",\"linecolor\":\"white\",\"minorgridcolor\":\"white\",\"startlinecolor\":\"#2a3f5f\"},\"type\":\"carpet\"}],\"choropleth\":[{\"colorbar\":{\"outlinewidth\":0,\"ticks\":\"\"},\"type\":\"choropleth\"}],\"contour\":[{\"colorbar\":{\"outlinewidth\":0,\"ticks\":\"\"},\"colorscale\":[[0.0,\"#0d0887\"],[0.1111111111111111,\"#46039f\"],[0.2222222222222222,\"#7201a8\"],[0.3333333333333333,\"#9c179e\"],[0.4444444444444444,\"#bd3786\"],[0.5555555555555556,\"#d8576b\"],[0.6666666666666666,\"#ed7953\"],[0.7777777777777778,\"#fb9f3a\"],[0.8888888888888888,\"#fdca26\"],[1.0,\"#f0f921\"]],\"type\":\"contour\"}],\"contourcarpet\":[{\"colorbar\":{\"outlinewidth\":0,\"ticks\":\"\"},\"type\":\"contourcarpet\"}],\"heatmap\":[{\"colorbar\":{\"outlinewidth\":0,\"ticks\":\"\"},\"colorscale\":[[0.0,\"#0d0887\"],[0.1111111111111111,\"#46039f\"],[0.2222222222222222,\"#7201a8\"],[0.3333333333333333,\"#9c179e\"],[0.4444444444444444,\"#bd3786\"],[0.5555555555555556,\"#d8576b\"],[0.6666666666666666,\"#ed7953\"],[0.7777777777777778,\"#fb9f3a\"],[0.8888888888888888,\"#fdca26\"],[1.0,\"#f0f921\"]],\"type\":\"heatmap\"}],\"heatmapgl\":[{\"colorbar\":{\"outlinewidth\":0,\"ticks\":\"\"},\"colorscale\":[[0.0,\"#0d0887\"],[0.1111111111111111,\"#46039f\"],[0.2222222222222222,\"#7201a8\"],[0.3333333333333333,\"#9c179e\"],[0.4444444444444444,\"#bd3786\"],[0.5555555555555556,\"#d8576b\"],[0.6666666666666666,\"#ed7953\"],[0.7777777777777778,\"#fb9f3a\"],[0.8888888888888888,\"#fdca26\"],[1.0,\"#f0f921\"]],\"type\":\"heatmapgl\"}],\"histogram\":[{\"marker\":{\"pattern\":{\"fillmode\":\"overlay\",\"size\":10,\"solidity\":0.2}},\"type\":\"histogram\"}],\"histogram2d\":[{\"colorbar\":{\"outlinewidth\":0,\"ticks\":\"\"},\"colorscale\":[[0.0,\"#0d0887\"],[0.1111111111111111,\"#46039f\"],[0.2222222222222222,\"#7201a8\"],[0.3333333333333333,\"#9c179e\"],[0.4444444444444444,\"#bd3786\"],[0.5555555555555556,\"#d8576b\"],[0.6666666666666666,\"#ed7953\"],[0.7777777777777778,\"#fb9f3a\"],[0.8888888888888888,\"#fdca26\"],[1.0,\"#f0f921\"]],\"type\":\"histogram2d\"}],\"histogram2dcontour\":[{\"colorbar\":{\"outlinewidth\":0,\"ticks\":\"\"},\"colorscale\":[[0.0,\"#0d0887\"],[0.1111111111111111,\"#46039f\"],[0.2222222222222222,\"#7201a8\"],[0.3333333333333333,\"#9c179e\"],[0.4444444444444444,\"#bd3786\"],[0.5555555555555556,\"#d8576b\"],[0.6666666666666666,\"#ed7953\"],[0.7777777777777778,\"#fb9f3a\"],[0.8888888888888888,\"#fdca26\"],[1.0,\"#f0f921\"]],\"type\":\"histogram2dcontour\"}],\"mesh3d\":[{\"colorbar\":{\"outlinewidth\":0,\"ticks\":\"\"},\"type\":\"mesh3d\"}],\"parcoords\":[{\"line\":{\"colorbar\":{\"outlinewidth\":0,\"ticks\":\"\"}},\"type\":\"parcoords\"}],\"pie\":[{\"automargin\":true,\"type\":\"pie\"}],\"scatter\":[{\"marker\":{\"colorbar\":{\"outlinewidth\":0,\"ticks\":\"\"}},\"type\":\"scatter\"}],\"scatter3d\":[{\"line\":{\"colorbar\":{\"outlinewidth\":0,\"ticks\":\"\"}},\"marker\":{\"colorbar\":{\"outlinewidth\":0,\"ticks\":\"\"}},\"type\":\"scatter3d\"}],\"scattercarpet\":[{\"marker\":{\"colorbar\":{\"outlinewidth\":0,\"ticks\":\"\"}},\"type\":\"scattercarpet\"}],\"scattergeo\":[{\"marker\":{\"colorbar\":{\"outlinewidth\":0,\"ticks\":\"\"}},\"type\":\"scattergeo\"}],\"scattergl\":[{\"marker\":{\"colorbar\":{\"outlinewidth\":0,\"ticks\":\"\"}},\"type\":\"scattergl\"}],\"scattermapbox\":[{\"marker\":{\"colorbar\":{\"outlinewidth\":0,\"ticks\":\"\"}},\"type\":\"scattermapbox\"}],\"scatterpolar\":[{\"marker\":{\"colorbar\":{\"outlinewidth\":0,\"ticks\":\"\"}},\"type\":\"scatterpolar\"}],\"scatterpolargl\":[{\"marker\":{\"colorbar\":{\"outlinewidth\":0,\"ticks\":\"\"}},\"type\":\"scatterpolargl\"}],\"scatterternary\":[{\"marker\":{\"colorbar\":{\"outlinewidth\":0,\"ticks\":\"\"}},\"type\":\"scatterternary\"}],\"surface\":[{\"colorbar\":{\"outlinewidth\":0,\"ticks\":\"\"},\"colorscale\":[[0.0,\"#0d0887\"],[0.1111111111111111,\"#46039f\"],[0.2222222222222222,\"#7201a8\"],[0.3333333333333333,\"#9c179e\"],[0.4444444444444444,\"#bd3786\"],[0.5555555555555556,\"#d8576b\"],[0.6666666666666666,\"#ed7953\"],[0.7777777777777778,\"#fb9f3a\"],[0.8888888888888888,\"#fdca26\"],[1.0,\"#f0f921\"]],\"type\":\"surface\"}],\"table\":[{\"cells\":{\"fill\":{\"color\":\"#EBF0F8\"},\"line\":{\"color\":\"white\"}},\"header\":{\"fill\":{\"color\":\"#C8D4E3\"},\"line\":{\"color\":\"white\"}},\"type\":\"table\"}]},\"layout\":{\"annotationdefaults\":{\"arrowcolor\":\"#2a3f5f\",\"arrowhead\":0,\"arrowwidth\":1},\"autotypenumbers\":\"strict\",\"coloraxis\":{\"colorbar\":{\"outlinewidth\":0,\"ticks\":\"\"}},\"colorscale\":{\"diverging\":[[0,\"#8e0152\"],[0.1,\"#c51b7d\"],[0.2,\"#de77ae\"],[0.3,\"#f1b6da\"],[0.4,\"#fde0ef\"],[0.5,\"#f7f7f7\"],[0.6,\"#e6f5d0\"],[0.7,\"#b8e186\"],[0.8,\"#7fbc41\"],[0.9,\"#4d9221\"],[1,\"#276419\"]],\"sequential\":[[0.0,\"#0d0887\"],[0.1111111111111111,\"#46039f\"],[0.2222222222222222,\"#7201a8\"],[0.3333333333333333,\"#9c179e\"],[0.4444444444444444,\"#bd3786\"],[0.5555555555555556,\"#d8576b\"],[0.6666666666666666,\"#ed7953\"],[0.7777777777777778,\"#fb9f3a\"],[0.8888888888888888,\"#fdca26\"],[1.0,\"#f0f921\"]],\"sequentialminus\":[[0.0,\"#0d0887\"],[0.1111111111111111,\"#46039f\"],[0.2222222222222222,\"#7201a8\"],[0.3333333333333333,\"#9c179e\"],[0.4444444444444444,\"#bd3786\"],[0.5555555555555556,\"#d8576b\"],[0.6666666666666666,\"#ed7953\"],[0.7777777777777778,\"#fb9f3a\"],[0.8888888888888888,\"#fdca26\"],[1.0,\"#f0f921\"]]},\"colorway\":[\"#636efa\",\"#EF553B\",\"#00cc96\",\"#ab63fa\",\"#FFA15A\",\"#19d3f3\",\"#FF6692\",\"#B6E880\",\"#FF97FF\",\"#FECB52\"],\"font\":{\"color\":\"#2a3f5f\"},\"geo\":{\"bgcolor\":\"white\",\"lakecolor\":\"white\",\"landcolor\":\"#E5ECF6\",\"showlakes\":true,\"showland\":true,\"subunitcolor\":\"white\"},\"hoverlabel\":{\"align\":\"left\"},\"hovermode\":\"closest\",\"mapbox\":{\"style\":\"light\"},\"paper_bgcolor\":\"white\",\"plot_bgcolor\":\"#E5ECF6\",\"polar\":{\"angularaxis\":{\"gridcolor\":\"white\",\"linecolor\":\"white\",\"ticks\":\"\"},\"bgcolor\":\"#E5ECF6\",\"radialaxis\":{\"gridcolor\":\"white\",\"linecolor\":\"white\",\"ticks\":\"\"}},\"scene\":{\"xaxis\":{\"backgroundcolor\":\"#E5ECF6\",\"gridcolor\":\"white\",\"gridwidth\":2,\"linecolor\":\"white\",\"showbackground\":true,\"ticks\":\"\",\"zerolinecolor\":\"white\"},\"yaxis\":{\"backgroundcolor\":\"#E5ECF6\",\"gridcolor\":\"white\",\"gridwidth\":2,\"linecolor\":\"white\",\"showbackground\":true,\"ticks\":\"\",\"zerolinecolor\":\"white\"},\"zaxis\":{\"backgroundcolor\":\"#E5ECF6\",\"gridcolor\":\"white\",\"gridwidth\":2,\"linecolor\":\"white\",\"showbackground\":true,\"ticks\":\"\",\"zerolinecolor\":\"white\"}},\"shapedefaults\":{\"line\":{\"color\":\"#2a3f5f\"}},\"ternary\":{\"aaxis\":{\"gridcolor\":\"white\",\"linecolor\":\"white\",\"ticks\":\"\"},\"baxis\":{\"gridcolor\":\"white\",\"linecolor\":\"white\",\"ticks\":\"\"},\"bgcolor\":\"#E5ECF6\",\"caxis\":{\"gridcolor\":\"white\",\"linecolor\":\"white\",\"ticks\":\"\"}},\"title\":{\"x\":0.05},\"xaxis\":{\"automargin\":true,\"gridcolor\":\"white\",\"linecolor\":\"white\",\"ticks\":\"\",\"title\":{\"standoff\":15},\"zerolinecolor\":\"white\",\"zerolinewidth\":2},\"yaxis\":{\"automargin\":true,\"gridcolor\":\"white\",\"linecolor\":\"white\",\"ticks\":\"\",\"title\":{\"standoff\":15},\"zerolinecolor\":\"white\",\"zerolinewidth\":2}}},\"mapbox\":{\"domain\":{\"x\":[0.0,1.0],\"y\":[0.0,1.0]},\"center\":{\"lat\":36.55150264986126,\"lon\":127.51820792002601},\"zoom\":6,\"style\":\"open-street-map\"},\"legend\":{\"tracegroupgap\":0},\"margin\":{\"t\":60}},                        {\"responsive\": true}                    ).then(function(){\n",
       "                            \n",
       "var gd = document.getElementById('51163372-a3c1-40ba-a0af-0d5e4ad38d85');\n",
       "var x = new MutationObserver(function (mutations, observer) {{\n",
       "        var display = window.getComputedStyle(gd).display;\n",
       "        if (!display || display === 'none') {{\n",
       "            console.log([gd, 'removed!']);\n",
       "            Plotly.purge(gd);\n",
       "            observer.disconnect();\n",
       "        }}\n",
       "}});\n",
       "\n",
       "// Listen for the removal of the full notebook cells\n",
       "var notebookContainer = gd.closest('#notebook-container');\n",
       "if (notebookContainer) {{\n",
       "    x.observe(notebookContainer, {childList: true});\n",
       "}}\n",
       "\n",
       "// Listen for the clearing of the current output cell\n",
       "var outputEl = gd.closest('.output');\n",
       "if (outputEl) {{\n",
       "    x.observe(outputEl, {childList: true});\n",
       "}}\n",
       "\n",
       "                        })                };                });            </script>        </div>"
      ]
     },
     "metadata": {},
     "output_type": "display_data"
    }
   ],
   "source": [
    "fig = px.scatter_mapbox(locations_inform_df, lat='위도', lon='경도', size_max=400, zoom=6)\n",
    "fig.update_layout(mapbox_style = 'open-street-map')\n",
    "fig.show()"
   ]
  },
  {
   "cell_type": "code",
   "execution_count": 29,
   "id": "d48f12b4",
   "metadata": {},
   "outputs": [],
   "source": [
    "#End of File"
   ]
  }
 ],
 "metadata": {
  "kernelspec": {
   "display_name": "Python 3 (ipykernel)",
   "language": "python",
   "name": "python3"
  },
  "language_info": {
   "codemirror_mode": {
    "name": "ipython",
    "version": 3
   },
   "file_extension": ".py",
   "mimetype": "text/x-python",
   "name": "python",
   "nbconvert_exporter": "python",
   "pygments_lexer": "ipython3",
   "version": "3.9.12"
  }
 },
 "nbformat": 4,
 "nbformat_minor": 5
}
